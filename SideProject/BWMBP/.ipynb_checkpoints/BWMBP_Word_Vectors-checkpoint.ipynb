{
 "cells": [
  {
   "cell_type": "markdown",
   "metadata": {},
   "source": [
    "# Bag of Words Meets A Bag of Popcorns"
   ]
  },
  {
   "cell_type": "markdown",
   "metadata": {},
   "source": [
    "## Word Vectors"
   ]
  },
  {
   "cell_type": "code",
   "execution_count": 1,
   "metadata": {},
   "outputs": [],
   "source": [
    "import pandas as pd"
   ]
  },
  {
   "cell_type": "code",
   "execution_count": 2,
   "metadata": {},
   "outputs": [],
   "source": [
    "train = pd.read_csv(\"labeledTrainData.tsv\", header = 0, delimiter= \"\\t\", quoting=3)"
   ]
  },
  {
   "cell_type": "code",
   "execution_count": 3,
   "metadata": {},
   "outputs": [],
   "source": [
    "test = pd.read_csv(\"testData.tsv\", header = 0, delimiter=\"\\t\", quoting=3)"
   ]
  },
  {
   "cell_type": "code",
   "execution_count": 4,
   "metadata": {},
   "outputs": [],
   "source": [
    "unlabeled_train = pd.read_csv(\"unlabeledTrainData.tsv\", header = 0, delimiter=\"\\t\", quoting=3)"
   ]
  },
  {
   "cell_type": "code",
   "execution_count": 5,
   "metadata": {},
   "outputs": [
    {
     "data": {
      "text/html": [
       "<div>\n",
       "<style scoped>\n",
       "    .dataframe tbody tr th:only-of-type {\n",
       "        vertical-align: middle;\n",
       "    }\n",
       "\n",
       "    .dataframe tbody tr th {\n",
       "        vertical-align: top;\n",
       "    }\n",
       "\n",
       "    .dataframe thead th {\n",
       "        text-align: right;\n",
       "    }\n",
       "</style>\n",
       "<table border=\"1\" class=\"dataframe\">\n",
       "  <thead>\n",
       "    <tr style=\"text-align: right;\">\n",
       "      <th></th>\n",
       "      <th>id</th>\n",
       "      <th>sentiment</th>\n",
       "      <th>review</th>\n",
       "    </tr>\n",
       "  </thead>\n",
       "  <tbody>\n",
       "    <tr>\n",
       "      <th>0</th>\n",
       "      <td>\"5814_8\"</td>\n",
       "      <td>1</td>\n",
       "      <td>\"With all this stuff going down at the moment ...</td>\n",
       "    </tr>\n",
       "    <tr>\n",
       "      <th>1</th>\n",
       "      <td>\"2381_9\"</td>\n",
       "      <td>1</td>\n",
       "      <td>\"\\\"The Classic War of the Worlds\\\" by Timothy ...</td>\n",
       "    </tr>\n",
       "    <tr>\n",
       "      <th>2</th>\n",
       "      <td>\"7759_3\"</td>\n",
       "      <td>0</td>\n",
       "      <td>\"The film starts with a manager (Nicholas Bell...</td>\n",
       "    </tr>\n",
       "    <tr>\n",
       "      <th>3</th>\n",
       "      <td>\"3630_4\"</td>\n",
       "      <td>0</td>\n",
       "      <td>\"It must be assumed that those who praised thi...</td>\n",
       "    </tr>\n",
       "    <tr>\n",
       "      <th>4</th>\n",
       "      <td>\"9495_8\"</td>\n",
       "      <td>1</td>\n",
       "      <td>\"Superbly trashy and wondrously unpretentious ...</td>\n",
       "    </tr>\n",
       "  </tbody>\n",
       "</table>\n",
       "</div>"
      ],
      "text/plain": [
       "         id  sentiment                                             review\n",
       "0  \"5814_8\"          1  \"With all this stuff going down at the moment ...\n",
       "1  \"2381_9\"          1  \"\\\"The Classic War of the Worlds\\\" by Timothy ...\n",
       "2  \"7759_3\"          0  \"The film starts with a manager (Nicholas Bell...\n",
       "3  \"3630_4\"          0  \"It must be assumed that those who praised thi...\n",
       "4  \"9495_8\"          1  \"Superbly trashy and wondrously unpretentious ..."
      ]
     },
     "execution_count": 5,
     "metadata": {},
     "output_type": "execute_result"
    }
   ],
   "source": [
    "train.head()"
   ]
  },
  {
   "cell_type": "code",
   "execution_count": 6,
   "metadata": {},
   "outputs": [
    {
     "name": "stdout",
     "output_type": "stream",
     "text": [
      "Read 25000 labeled train reviews, 25000 labeled test reviews, and 50000 unlabeled reviews\n"
     ]
    }
   ],
   "source": [
    "print(\"Read %d labeled train reviews, %d labeled test reviews, and %d unlabeled reviews\" \\\n",
    "      %(train[\"review\"].size, test[\"review\"].size, unlabeled_train[\"review\"].size))"
   ]
  },
  {
   "cell_type": "markdown",
   "metadata": {},
   "source": [
    "## Data cleaning and processing"
   ]
  },
  {
   "cell_type": "code",
   "execution_count": 7,
   "metadata": {},
   "outputs": [],
   "source": [
    "from bs4 import BeautifulSoup\n",
    "import re\n",
    "from nltk.corpus import stopwords"
   ]
  },
  {
   "cell_type": "code",
   "execution_count": 8,
   "metadata": {},
   "outputs": [],
   "source": [
    "def review_to_wordlist(review, remove_stopwords = False):\n",
    "    review_text = BeautifulSoup(review).get_text()\n",
    "    review_text = re.sub(\"[^a-zA-Z]\", \" \", review_text)\n",
    "    words = review_text.lower().split()\n",
    "    if remove_stopwords:\n",
    "        stops = set(stopwords.words(\"english\"))\n",
    "        words = [w for w in words if not w in stops]\n",
    "    return(words)"
   ]
  },
  {
   "cell_type": "code",
   "execution_count": 9,
   "metadata": {},
   "outputs": [],
   "source": [
    "import nltk.data"
   ]
  },
  {
   "cell_type": "code",
   "execution_count": 10,
   "metadata": {},
   "outputs": [],
   "source": [
    "tokenizer = nltk.data.load('tokenizers/punkt/english.pickle')"
   ]
  },
  {
   "cell_type": "code",
   "execution_count": 11,
   "metadata": {},
   "outputs": [],
   "source": [
    "def review_to_sentences(review, tokenizer, remove_stopwords = False):\n",
    "    raw_sentences = tokenizer.tokenize(review.strip())\n",
    "    sentences = []\n",
    "    for raw_sentence in raw_sentences:\n",
    "        if len(raw_sentence) > 0:\n",
    "            sentences.append(review_to_wordlist( raw_sentence, remove_stopwords))\n",
    "        return sentences"
   ]
  },
  {
   "cell_type": "code",
   "execution_count": 12,
   "metadata": {},
   "outputs": [],
   "source": [
    "# Download the punkt tokenizer for sentence splitting\n",
    "import nltk.data\n",
    "\n",
    "# Load the punkt tokenizer\n",
    "tokenizer = nltk.data.load('tokenizers/punkt/english.pickle')\n",
    "\n",
    "# Define a function to split a review into parsed sentences\n",
    "def review_to_sentences( review, tokenizer, remove_stopwords=False ):\n",
    "    # Function to split a review into parsed sentences. Returns a \n",
    "    # list of sentences, where each sentence is a list of words\n",
    "    #\n",
    "    # 1. Use the NLTK tokenizer to split the paragraph into sentences\n",
    "    raw_sentences = tokenizer.tokenize(review.strip())\n",
    "    #\n",
    "    # 2. Loop over each sentence\n",
    "    sentences = []\n",
    "    for raw_sentence in raw_sentences:\n",
    "        # If a sentence is empty, skip it\n",
    "        if len(raw_sentence) > 0:\n",
    "            # Otherwise, call review_to_wordlist to get a list of words\n",
    "            sentences.append( review_to_wordlist( raw_sentence, \\\n",
    "              remove_stopwords ))\n",
    "    #\n",
    "    # Return the list of sentences (each sentence is a list of words,\n",
    "    # so this returns a list of lists\n",
    "    return sentences"
   ]
  },
  {
   "cell_type": "code",
   "execution_count": 13,
   "metadata": {},
   "outputs": [
    {
     "name": "stdout",
     "output_type": "stream",
     "text": [
      "Parsing sentences from training set\n"
     ]
    },
    {
     "name": "stderr",
     "output_type": "stream",
     "text": [
      "C:\\Users\\hongji\\Continuum\\anaconda3\\lib\\site-packages\\bs4\\__init__.py:273: UserWarning: \"b'.'\" looks like a filename, not markup. You should probably open this file and pass the filehandle into Beautiful Soup.\n",
      "  ' Beautiful Soup.' % markup)\n",
      "C:\\Users\\hongji\\Continuum\\anaconda3\\lib\\site-packages\\bs4\\__init__.py:273: UserWarning: \"b'...'\" looks like a filename, not markup. You should probably open this file and pass the filehandle into Beautiful Soup.\n",
      "  ' Beautiful Soup.' % markup)\n",
      "C:\\Users\\hongji\\Continuum\\anaconda3\\lib\\site-packages\\bs4\\__init__.py:336: UserWarning: \"http://www.happierabroad.com\"\" looks like a URL. Beautiful Soup is not an HTTP client. You should probably use an HTTP client like requests to get the document behind the URL, and feed that document to Beautiful Soup.\n",
      "  ' that document to Beautiful Soup.' % decoded_markup\n"
     ]
    },
    {
     "name": "stdout",
     "output_type": "stream",
     "text": [
      "Parsing sentences from unlabeled set\n"
     ]
    },
    {
     "name": "stderr",
     "output_type": "stream",
     "text": [
      "C:\\Users\\hongji\\Continuum\\anaconda3\\lib\\site-packages\\bs4\\__init__.py:336: UserWarning: \"http://www.archive.org/details/LovefromaStranger\"\" looks like a URL. Beautiful Soup is not an HTTP client. You should probably use an HTTP client like requests to get the document behind the URL, and feed that document to Beautiful Soup.\n",
      "  ' that document to Beautiful Soup.' % decoded_markup\n",
      "C:\\Users\\hongji\\Continuum\\anaconda3\\lib\\site-packages\\bs4\\__init__.py:336: UserWarning: \"http://www.loosechangeguide.com/LooseChangeGuide.html\"\" looks like a URL. Beautiful Soup is not an HTTP client. You should probably use an HTTP client like requests to get the document behind the URL, and feed that document to Beautiful Soup.\n",
      "  ' that document to Beautiful Soup.' % decoded_markup\n",
      "C:\\Users\\hongji\\Continuum\\anaconda3\\lib\\site-packages\\bs4\\__init__.py:273: UserWarning: \"b'... ...'\" looks like a filename, not markup. You should probably open this file and pass the filehandle into Beautiful Soup.\n",
      "  ' Beautiful Soup.' % markup)\n",
      "C:\\Users\\hongji\\Continuum\\anaconda3\\lib\\site-packages\\bs4\\__init__.py:273: UserWarning: \"b'....'\" looks like a filename, not markup. You should probably open this file and pass the filehandle into Beautiful Soup.\n",
      "  ' Beautiful Soup.' % markup)\n",
      "C:\\Users\\hongji\\Continuum\\anaconda3\\lib\\site-packages\\bs4\\__init__.py:336: UserWarning: \"http://www.msnbc.msn.com/id/4972055/site/newsweek/\"\" looks like a URL. Beautiful Soup is not an HTTP client. You should probably use an HTTP client like requests to get the document behind the URL, and feed that document to Beautiful Soup.\n",
      "  ' that document to Beautiful Soup.' % decoded_markup\n",
      "C:\\Users\\hongji\\Continuum\\anaconda3\\lib\\site-packages\\bs4\\__init__.py:273: UserWarning: \"b'..'\" looks like a filename, not markup. You should probably open this file and pass the filehandle into Beautiful Soup.\n",
      "  ' Beautiful Soup.' % markup)\n",
      "C:\\Users\\hongji\\Continuum\\anaconda3\\lib\\site-packages\\bs4\\__init__.py:336: UserWarning: \"http://www.youtube.com/watch?v=a0KSqelmgN8\"\" looks like a URL. Beautiful Soup is not an HTTP client. You should probably use an HTTP client like requests to get the document behind the URL, and feed that document to Beautiful Soup.\n",
      "  ' that document to Beautiful Soup.' % decoded_markup\n",
      "C:\\Users\\hongji\\Continuum\\anaconda3\\lib\\site-packages\\bs4\\__init__.py:273: UserWarning: \"b'.. .'\" looks like a filename, not markup. You should probably open this file and pass the filehandle into Beautiful Soup.\n",
      "  ' Beautiful Soup.' % markup)\n",
      "C:\\Users\\hongji\\Continuum\\anaconda3\\lib\\site-packages\\bs4\\__init__.py:336: UserWarning: \"http://jake-weird.blogspot.com/2007/08/beneath.html\"\" looks like a URL. Beautiful Soup is not an HTTP client. You should probably use an HTTP client like requests to get the document behind the URL, and feed that document to Beautiful Soup.\n",
      "  ' that document to Beautiful Soup.' % decoded_markup\n"
     ]
    }
   ],
   "source": [
    "sentences = []  # Initialize an empty list of sentences\n",
    "\n",
    "print(\"Parsing sentences from training set\")\n",
    "for review in train[\"review\"]:\n",
    "    sentences += review_to_sentences(review, tokenizer)\n",
    "\n",
    "print(\"Parsing sentences from unlabeled set\")\n",
    "for review in unlabeled_train[\"review\"]:\n",
    "    sentences += review_to_sentences(review, tokenizer)"
   ]
  },
  {
   "cell_type": "code",
   "execution_count": 14,
   "metadata": {},
   "outputs": [
    {
     "name": "stdout",
     "output_type": "stream",
     "text": [
      "795538\n"
     ]
    }
   ],
   "source": [
    "print(len(sentences))"
   ]
  },
  {
   "cell_type": "code",
   "execution_count": 15,
   "metadata": {},
   "outputs": [
    {
     "name": "stdout",
     "output_type": "stream",
     "text": [
      "['with', 'all', 'this', 'stuff', 'going', 'down', 'at', 'the', 'moment', 'with', 'mj', 'i', 've', 'started', 'listening', 'to', 'his', 'music', 'watching', 'the', 'odd', 'documentary', 'here', 'and', 'there', 'watched', 'the', 'wiz', 'and', 'watched', 'moonwalker', 'again']\n"
     ]
    }
   ],
   "source": [
    "print(sentences[0])"
   ]
  },
  {
   "cell_type": "code",
   "execution_count": 16,
   "metadata": {},
   "outputs": [
    {
     "name": "stdout",
     "output_type": "stream",
     "text": [
      "['maybe', 'i', 'just', 'want', 'to', 'get', 'a', 'certain', 'insight', 'into', 'this', 'guy', 'who', 'i', 'thought', 'was', 'really', 'cool', 'in', 'the', 'eighties', 'just', 'to', 'maybe', 'make', 'up', 'my', 'mind', 'whether', 'he', 'is', 'guilty', 'or', 'innocent']\n"
     ]
    }
   ],
   "source": [
    "print(sentences[1])"
   ]
  },
  {
   "cell_type": "code",
   "execution_count": 17,
   "metadata": {},
   "outputs": [],
   "source": [
    "import logging\n",
    "logging.basicConfig(format = '%(asctime)s : %(levelname)s : %(message)s', level=logging.INFO)"
   ]
  },
  {
   "cell_type": "code",
   "execution_count": 18,
   "metadata": {},
   "outputs": [
    {
     "name": "stderr",
     "output_type": "stream",
     "text": [
      "C:\\Users\\hongji\\Continuum\\anaconda3\\lib\\site-packages\\gensim\\utils.py:1197: UserWarning: detected Windows; aliasing chunkize to chunkize_serial\n",
      "  warnings.warn(\"detected Windows; aliasing chunkize to chunkize_serial\")\n",
      "2018-12-07 15:33:44,062 : INFO : 'pattern' package not found; tag filters are not available for English\n",
      "2018-12-07 15:33:44,069 : INFO : collecting all words and their counts\n",
      "2018-12-07 15:33:44,070 : INFO : PROGRESS: at sentence #0, processed 0 words, keeping 0 word types\n",
      "2018-12-07 15:33:44,111 : INFO : PROGRESS: at sentence #10000, processed 225803 words, keeping 17776 word types\n",
      "2018-12-07 15:33:44,149 : INFO : PROGRESS: at sentence #20000, processed 451892 words, keeping 24948 word types\n",
      "2018-12-07 15:33:44,189 : INFO : PROGRESS: at sentence #30000, processed 671315 words, keeping 30034 word types\n",
      "2018-12-07 15:33:44,230 : INFO : PROGRESS: at sentence #40000, processed 897815 words, keeping 34348 word types\n"
     ]
    },
    {
     "name": "stdout",
     "output_type": "stream",
     "text": [
      "Training model...\n"
     ]
    },
    {
     "name": "stderr",
     "output_type": "stream",
     "text": [
      "2018-12-07 15:33:44,275 : INFO : PROGRESS: at sentence #50000, processed 1116963 words, keeping 37761 word types\n",
      "2018-12-07 15:33:44,316 : INFO : PROGRESS: at sentence #60000, processed 1338404 words, keeping 40723 word types\n",
      "2018-12-07 15:33:44,357 : INFO : PROGRESS: at sentence #70000, processed 1561580 words, keeping 43333 word types\n",
      "2018-12-07 15:33:44,400 : INFO : PROGRESS: at sentence #80000, processed 1780887 words, keeping 45714 word types\n",
      "2018-12-07 15:33:44,447 : INFO : PROGRESS: at sentence #90000, processed 2004996 words, keeping 48135 word types\n",
      "2018-12-07 15:33:44,485 : INFO : PROGRESS: at sentence #100000, processed 2226966 words, keeping 50207 word types\n",
      "2018-12-07 15:33:44,529 : INFO : PROGRESS: at sentence #110000, processed 2446580 words, keeping 52081 word types\n",
      "2018-12-07 15:33:44,572 : INFO : PROGRESS: at sentence #120000, processed 2668775 words, keeping 54119 word types\n",
      "2018-12-07 15:33:44,620 : INFO : PROGRESS: at sentence #130000, processed 2894303 words, keeping 55847 word types\n",
      "2018-12-07 15:33:44,662 : INFO : PROGRESS: at sentence #140000, processed 3107005 words, keeping 57346 word types\n",
      "2018-12-07 15:33:44,701 : INFO : PROGRESS: at sentence #150000, processed 3332627 words, keeping 59055 word types\n",
      "2018-12-07 15:33:44,743 : INFO : PROGRESS: at sentence #160000, processed 3555315 words, keeping 60617 word types\n",
      "2018-12-07 15:33:44,787 : INFO : PROGRESS: at sentence #170000, processed 3778655 words, keeping 62077 word types\n",
      "2018-12-07 15:33:44,833 : INFO : PROGRESS: at sentence #180000, processed 3999236 words, keeping 63496 word types\n",
      "2018-12-07 15:33:44,871 : INFO : PROGRESS: at sentence #190000, processed 4224449 words, keeping 64794 word types\n",
      "2018-12-07 15:33:44,915 : INFO : PROGRESS: at sentence #200000, processed 4448603 words, keeping 66087 word types\n",
      "2018-12-07 15:33:44,959 : INFO : PROGRESS: at sentence #210000, processed 4669967 words, keeping 67390 word types\n",
      "2018-12-07 15:33:44,999 : INFO : PROGRESS: at sentence #220000, processed 4894968 words, keeping 68697 word types\n",
      "2018-12-07 15:33:45,045 : INFO : PROGRESS: at sentence #230000, processed 5117545 words, keeping 69958 word types\n",
      "2018-12-07 15:33:45,095 : INFO : PROGRESS: at sentence #240000, processed 5345050 words, keeping 71167 word types\n",
      "2018-12-07 15:33:45,144 : INFO : PROGRESS: at sentence #250000, processed 5559165 words, keeping 72351 word types\n",
      "2018-12-07 15:33:45,192 : INFO : PROGRESS: at sentence #260000, processed 5779146 words, keeping 73478 word types\n",
      "2018-12-07 15:33:45,239 : INFO : PROGRESS: at sentence #270000, processed 6000435 words, keeping 74767 word types\n",
      "2018-12-07 15:33:45,288 : INFO : PROGRESS: at sentence #280000, processed 6226314 words, keeping 76369 word types\n",
      "2018-12-07 15:33:45,337 : INFO : PROGRESS: at sentence #290000, processed 6449474 words, keeping 77839 word types\n",
      "2018-12-07 15:33:45,386 : INFO : PROGRESS: at sentence #300000, processed 6674077 words, keeping 79171 word types\n",
      "2018-12-07 15:33:45,426 : INFO : PROGRESS: at sentence #310000, processed 6899391 words, keeping 80480 word types\n",
      "2018-12-07 15:33:45,470 : INFO : PROGRESS: at sentence #320000, processed 7124278 words, keeping 81808 word types\n",
      "2018-12-07 15:33:45,517 : INFO : PROGRESS: at sentence #330000, processed 7346021 words, keeping 83030 word types\n",
      "2018-12-07 15:33:45,558 : INFO : PROGRESS: at sentence #340000, processed 7575533 words, keeping 84280 word types\n",
      "2018-12-07 15:33:45,608 : INFO : PROGRESS: at sentence #350000, processed 7798803 words, keeping 85425 word types\n",
      "2018-12-07 15:33:45,646 : INFO : PROGRESS: at sentence #360000, processed 8019427 words, keeping 86596 word types\n",
      "2018-12-07 15:33:45,693 : INFO : PROGRESS: at sentence #370000, processed 8246619 words, keeping 87708 word types\n",
      "2018-12-07 15:33:45,736 : INFO : PROGRESS: at sentence #380000, processed 8471766 words, keeping 88878 word types\n",
      "2018-12-07 15:33:45,785 : INFO : PROGRESS: at sentence #390000, processed 8701497 words, keeping 89907 word types\n",
      "2018-12-07 15:33:45,831 : INFO : PROGRESS: at sentence #400000, processed 8924446 words, keeping 90916 word types\n",
      "2018-12-07 15:33:45,882 : INFO : PROGRESS: at sentence #410000, processed 9145796 words, keeping 91880 word types\n",
      "2018-12-07 15:33:45,934 : INFO : PROGRESS: at sentence #420000, processed 9366876 words, keeping 92912 word types\n",
      "2018-12-07 15:33:45,983 : INFO : PROGRESS: at sentence #430000, processed 9594413 words, keeping 93932 word types\n",
      "2018-12-07 15:33:46,025 : INFO : PROGRESS: at sentence #440000, processed 9821166 words, keeping 94906 word types\n",
      "2018-12-07 15:33:46,073 : INFO : PROGRESS: at sentence #450000, processed 10044928 words, keeping 96036 word types\n",
      "2018-12-07 15:33:46,114 : INFO : PROGRESS: at sentence #460000, processed 10277688 words, keeping 97088 word types\n",
      "2018-12-07 15:33:46,175 : INFO : PROGRESS: at sentence #470000, processed 10505613 words, keeping 97933 word types\n",
      "2018-12-07 15:33:46,222 : INFO : PROGRESS: at sentence #480000, processed 10725997 words, keeping 98862 word types\n",
      "2018-12-07 15:33:46,272 : INFO : PROGRESS: at sentence #490000, processed 10952741 words, keeping 99871 word types\n",
      "2018-12-07 15:33:46,321 : INFO : PROGRESS: at sentence #500000, processed 11174397 words, keeping 100765 word types\n",
      "2018-12-07 15:33:46,371 : INFO : PROGRESS: at sentence #510000, processed 11399672 words, keeping 101699 word types\n",
      "2018-12-07 15:33:46,411 : INFO : PROGRESS: at sentence #520000, processed 11623020 words, keeping 102598 word types\n",
      "2018-12-07 15:33:46,455 : INFO : PROGRESS: at sentence #530000, processed 11847418 words, keeping 103400 word types\n",
      "2018-12-07 15:33:46,503 : INFO : PROGRESS: at sentence #540000, processed 12072033 words, keeping 104265 word types\n",
      "2018-12-07 15:33:46,550 : INFO : PROGRESS: at sentence #550000, processed 12297571 words, keeping 105133 word types\n",
      "2018-12-07 15:33:46,594 : INFO : PROGRESS: at sentence #560000, processed 12518861 words, keeping 105997 word types\n",
      "2018-12-07 15:33:46,643 : INFO : PROGRESS: at sentence #570000, processed 12747916 words, keeping 106787 word types\n",
      "2018-12-07 15:33:46,687 : INFO : PROGRESS: at sentence #580000, processed 12969412 words, keeping 107665 word types\n",
      "2018-12-07 15:33:46,737 : INFO : PROGRESS: at sentence #590000, processed 13194937 words, keeping 108501 word types\n",
      "2018-12-07 15:33:46,782 : INFO : PROGRESS: at sentence #600000, processed 13417135 words, keeping 109218 word types\n",
      "2018-12-07 15:33:46,821 : INFO : PROGRESS: at sentence #610000, processed 13638158 words, keeping 110092 word types\n",
      "2018-12-07 15:33:46,865 : INFO : PROGRESS: at sentence #620000, processed 13864483 words, keeping 110837 word types\n",
      "2018-12-07 15:33:46,911 : INFO : PROGRESS: at sentence #630000, processed 14088769 words, keeping 111610 word types\n",
      "2018-12-07 15:33:46,960 : INFO : PROGRESS: at sentence #640000, processed 14309552 words, keeping 112416 word types\n",
      "2018-12-07 15:33:47,007 : INFO : PROGRESS: at sentence #650000, processed 14535308 words, keeping 113196 word types\n",
      "2018-12-07 15:33:47,056 : INFO : PROGRESS: at sentence #660000, processed 14758098 words, keeping 113945 word types\n",
      "2018-12-07 15:33:47,103 : INFO : PROGRESS: at sentence #670000, processed 14981482 words, keeping 114643 word types\n",
      "2018-12-07 15:33:47,153 : INFO : PROGRESS: at sentence #680000, processed 15206314 words, keeping 115354 word types\n",
      "2018-12-07 15:33:47,193 : INFO : PROGRESS: at sentence #690000, processed 15428507 words, keeping 116131 word types\n",
      "2018-12-07 15:33:47,237 : INFO : PROGRESS: at sentence #700000, processed 15657213 words, keeping 116943 word types\n",
      "2018-12-07 15:33:47,284 : INFO : PROGRESS: at sentence #710000, processed 15880202 words, keeping 117596 word types\n",
      "2018-12-07 15:33:47,324 : INFO : PROGRESS: at sentence #720000, processed 16105489 words, keeping 118221 word types\n",
      "2018-12-07 15:33:47,369 : INFO : PROGRESS: at sentence #730000, processed 16331870 words, keeping 118954 word types\n",
      "2018-12-07 15:33:47,416 : INFO : PROGRESS: at sentence #740000, processed 16552903 words, keeping 119668 word types\n",
      "2018-12-07 15:33:47,456 : INFO : PROGRESS: at sentence #750000, processed 16771230 words, keeping 120295 word types\n",
      "2018-12-07 15:33:47,502 : INFO : PROGRESS: at sentence #760000, processed 16990622 words, keeping 120930 word types\n"
     ]
    },
    {
     "name": "stderr",
     "output_type": "stream",
     "text": [
      "2018-12-07 15:33:47,542 : INFO : PROGRESS: at sentence #770000, processed 17217759 words, keeping 121703 word types\n",
      "2018-12-07 15:33:47,594 : INFO : PROGRESS: at sentence #780000, processed 17447905 words, keeping 122402 word types\n",
      "2018-12-07 15:33:47,640 : INFO : PROGRESS: at sentence #790000, processed 17674981 words, keeping 123066 word types\n",
      "2018-12-07 15:33:47,667 : INFO : collected 123504 word types from a corpus of 17798082 raw words and 795538 sentences\n",
      "2018-12-07 15:33:47,668 : INFO : Loading a fresh vocabulary\n",
      "2018-12-07 15:33:47,733 : INFO : min_count=40 retains 16490 unique words (13% of original 123504, drops 107014)\n",
      "2018-12-07 15:33:47,733 : INFO : min_count=40 leaves 17238940 word corpus (96% of original 17798082, drops 559142)\n",
      "2018-12-07 15:33:47,783 : INFO : deleting the raw counts dictionary of 123504 items\n",
      "2018-12-07 15:33:47,787 : INFO : sample=0.001 downsamples 48 most-common words\n",
      "2018-12-07 15:33:47,788 : INFO : downsampling leaves estimated 12749658 word corpus (74.0% of prior 17238940)\n",
      "2018-12-07 15:33:47,833 : INFO : estimated required memory for 16490 words and 300 dimensions: 47821000 bytes\n",
      "2018-12-07 15:33:47,833 : INFO : resetting layer weights\n",
      "2018-12-07 15:33:48,067 : INFO : training model with 4 workers on 16490 vocabulary and 300 features, using sg=0 hs=0 sample=0.001 negative=5 window=10\n",
      "2018-12-07 15:33:49,075 : INFO : EPOCH 1 - PROGRESS: at 8.83% examples, 1120257 words/s, in_qsize 7, out_qsize 0\n",
      "2018-12-07 15:33:50,076 : INFO : EPOCH 1 - PROGRESS: at 17.35% examples, 1096799 words/s, in_qsize 7, out_qsize 0\n",
      "2018-12-07 15:33:51,077 : INFO : EPOCH 1 - PROGRESS: at 26.69% examples, 1126470 words/s, in_qsize 6, out_qsize 1\n",
      "2018-12-07 15:33:52,084 : INFO : EPOCH 1 - PROGRESS: at 36.06% examples, 1139209 words/s, in_qsize 7, out_qsize 0\n",
      "2018-12-07 15:33:53,084 : INFO : EPOCH 1 - PROGRESS: at 45.35% examples, 1148834 words/s, in_qsize 7, out_qsize 0\n",
      "2018-12-07 15:33:54,086 : INFO : EPOCH 1 - PROGRESS: at 54.65% examples, 1155899 words/s, in_qsize 7, out_qsize 0\n",
      "2018-12-07 15:33:55,088 : INFO : EPOCH 1 - PROGRESS: at 63.60% examples, 1154914 words/s, in_qsize 7, out_qsize 0\n",
      "2018-12-07 15:33:56,088 : INFO : EPOCH 1 - PROGRESS: at 72.84% examples, 1158051 words/s, in_qsize 7, out_qsize 0\n",
      "2018-12-07 15:33:57,092 : INFO : EPOCH 1 - PROGRESS: at 81.43% examples, 1150490 words/s, in_qsize 7, out_qsize 0\n",
      "2018-12-07 15:33:58,098 : INFO : EPOCH 1 - PROGRESS: at 89.85% examples, 1142731 words/s, in_qsize 8, out_qsize 0\n",
      "2018-12-07 15:33:59,108 : INFO : EPOCH 1 - PROGRESS: at 98.17% examples, 1134018 words/s, in_qsize 7, out_qsize 0\n",
      "2018-12-07 15:33:59,330 : INFO : worker thread finished; awaiting finish of 3 more threads\n",
      "2018-12-07 15:33:59,345 : INFO : worker thread finished; awaiting finish of 2 more threads\n",
      "2018-12-07 15:33:59,348 : INFO : worker thread finished; awaiting finish of 1 more threads\n",
      "2018-12-07 15:33:59,349 : INFO : worker thread finished; awaiting finish of 0 more threads\n",
      "2018-12-07 15:33:59,350 : INFO : EPOCH - 1 : training on 17798082 raw words (12750276 effective words) took 11.3s, 1130663 effective words/s\n",
      "2018-12-07 15:34:00,357 : INFO : EPOCH 2 - PROGRESS: at 7.36% examples, 935606 words/s, in_qsize 7, out_qsize 0\n",
      "2018-12-07 15:34:01,360 : INFO : EPOCH 2 - PROGRESS: at 15.34% examples, 970460 words/s, in_qsize 7, out_qsize 0\n",
      "2018-12-07 15:34:02,365 : INFO : EPOCH 2 - PROGRESS: at 23.60% examples, 993535 words/s, in_qsize 7, out_qsize 0\n",
      "2018-12-07 15:34:03,364 : INFO : EPOCH 2 - PROGRESS: at 32.18% examples, 1016481 words/s, in_qsize 7, out_qsize 0\n",
      "2018-12-07 15:34:04,368 : INFO : EPOCH 2 - PROGRESS: at 40.13% examples, 1015491 words/s, in_qsize 7, out_qsize 0\n",
      "2018-12-07 15:34:05,376 : INFO : EPOCH 2 - PROGRESS: at 48.33% examples, 1020207 words/s, in_qsize 7, out_qsize 0\n",
      "2018-12-07 15:34:06,392 : INFO : EPOCH 2 - PROGRESS: at 55.83% examples, 1009235 words/s, in_qsize 7, out_qsize 0\n",
      "2018-12-07 15:34:07,396 : INFO : EPOCH 2 - PROGRESS: at 62.99% examples, 997743 words/s, in_qsize 8, out_qsize 0\n",
      "2018-12-07 15:34:08,398 : INFO : EPOCH 2 - PROGRESS: at 70.28% examples, 990036 words/s, in_qsize 7, out_qsize 0\n",
      "2018-12-07 15:34:09,414 : INFO : EPOCH 2 - PROGRESS: at 76.49% examples, 968996 words/s, in_qsize 7, out_qsize 0\n",
      "2018-12-07 15:34:10,429 : INFO : EPOCH 2 - PROGRESS: at 83.45% examples, 960260 words/s, in_qsize 7, out_qsize 0\n",
      "2018-12-07 15:34:11,437 : INFO : EPOCH 2 - PROGRESS: at 90.54% examples, 955323 words/s, in_qsize 7, out_qsize 0\n",
      "2018-12-07 15:34:12,441 : INFO : EPOCH 2 - PROGRESS: at 97.84% examples, 952987 words/s, in_qsize 7, out_qsize 0\n",
      "2018-12-07 15:34:12,737 : INFO : worker thread finished; awaiting finish of 3 more threads\n",
      "2018-12-07 15:34:12,743 : INFO : worker thread finished; awaiting finish of 2 more threads\n",
      "2018-12-07 15:34:12,759 : INFO : worker thread finished; awaiting finish of 1 more threads\n",
      "2018-12-07 15:34:12,761 : INFO : worker thread finished; awaiting finish of 0 more threads\n",
      "2018-12-07 15:34:12,761 : INFO : EPOCH - 2 : training on 17798082 raw words (12748735 effective words) took 13.4s, 951031 effective words/s\n",
      "2018-12-07 15:34:13,772 : INFO : EPOCH 3 - PROGRESS: at 6.85% examples, 871485 words/s, in_qsize 7, out_qsize 0\n",
      "2018-12-07 15:34:14,780 : INFO : EPOCH 3 - PROGRESS: at 14.29% examples, 900955 words/s, in_qsize 7, out_qsize 0\n",
      "2018-12-07 15:34:15,796 : INFO : EPOCH 3 - PROGRESS: at 22.03% examples, 921904 words/s, in_qsize 7, out_qsize 0\n",
      "2018-12-07 15:34:16,797 : INFO : EPOCH 3 - PROGRESS: at 29.53% examples, 930591 words/s, in_qsize 7, out_qsize 0\n",
      "2018-12-07 15:34:17,808 : INFO : EPOCH 3 - PROGRESS: at 36.90% examples, 928269 words/s, in_qsize 8, out_qsize 0\n",
      "2018-12-07 15:34:18,823 : INFO : EPOCH 3 - PROGRESS: at 43.87% examples, 920226 words/s, in_qsize 8, out_qsize 0\n",
      "2018-12-07 15:34:19,824 : INFO : EPOCH 3 - PROGRESS: at 51.08% examples, 920441 words/s, in_qsize 7, out_qsize 0\n",
      "2018-12-07 15:34:20,829 : INFO : EPOCH 3 - PROGRESS: at 58.29% examples, 920905 words/s, in_qsize 7, out_qsize 0\n",
      "2018-12-07 15:34:21,836 : INFO : EPOCH 3 - PROGRESS: at 65.46% examples, 919614 words/s, in_qsize 6, out_qsize 1\n",
      "2018-12-07 15:34:22,844 : INFO : EPOCH 3 - PROGRESS: at 72.54% examples, 917801 words/s, in_qsize 7, out_qsize 0\n",
      "2018-12-07 15:34:23,846 : INFO : EPOCH 3 - PROGRESS: at 79.69% examples, 916783 words/s, in_qsize 7, out_qsize 0\n",
      "2018-12-07 15:34:24,849 : INFO : EPOCH 3 - PROGRESS: at 86.70% examples, 914767 words/s, in_qsize 8, out_qsize 1\n",
      "2018-12-07 15:34:25,857 : INFO : EPOCH 3 - PROGRESS: at 93.86% examples, 914221 words/s, in_qsize 7, out_qsize 0\n",
      "2018-12-07 15:34:26,696 : INFO : worker thread finished; awaiting finish of 3 more threads\n",
      "2018-12-07 15:34:26,706 : INFO : worker thread finished; awaiting finish of 2 more threads\n",
      "2018-12-07 15:34:26,712 : INFO : worker thread finished; awaiting finish of 1 more threads\n",
      "2018-12-07 15:34:26,714 : INFO : worker thread finished; awaiting finish of 0 more threads\n",
      "2018-12-07 15:34:26,715 : INFO : EPOCH - 3 : training on 17798082 raw words (12750232 effective words) took 13.9s, 914391 effective words/s\n",
      "2018-12-07 15:34:27,734 : INFO : EPOCH 4 - PROGRESS: at 7.02% examples, 886166 words/s, in_qsize 7, out_qsize 0\n",
      "2018-12-07 15:34:28,741 : INFO : EPOCH 4 - PROGRESS: at 14.17% examples, 890961 words/s, in_qsize 7, out_qsize 0\n",
      "2018-12-07 15:34:29,748 : INFO : EPOCH 4 - PROGRESS: at 21.24% examples, 890197 words/s, in_qsize 7, out_qsize 0\n",
      "2018-12-07 15:34:30,754 : INFO : EPOCH 4 - PROGRESS: at 27.58% examples, 868195 words/s, in_qsize 7, out_qsize 0\n",
      "2018-12-07 15:34:31,756 : INFO : EPOCH 4 - PROGRESS: at 33.15% examples, 834309 words/s, in_qsize 7, out_qsize 0\n",
      "2018-12-07 15:34:32,759 : INFO : EPOCH 4 - PROGRESS: at 38.73% examples, 814115 words/s, in_qsize 7, out_qsize 0\n",
      "2018-12-07 15:34:33,779 : INFO : EPOCH 4 - PROGRESS: at 43.98% examples, 791681 words/s, in_qsize 8, out_qsize 0\n",
      "2018-12-07 15:34:34,793 : INFO : EPOCH 4 - PROGRESS: at 48.93% examples, 771190 words/s, in_qsize 7, out_qsize 0\n",
      "2018-12-07 15:34:35,795 : INFO : EPOCH 4 - PROGRESS: at 53.77% examples, 753668 words/s, in_qsize 8, out_qsize 0\n",
      "2018-12-07 15:34:36,808 : INFO : EPOCH 4 - PROGRESS: at 58.63% examples, 740411 words/s, in_qsize 8, out_qsize 1\n",
      "2018-12-07 15:34:37,825 : INFO : EPOCH 4 - PROGRESS: at 63.50% examples, 728600 words/s, in_qsize 7, out_qsize 0\n"
     ]
    },
    {
     "name": "stderr",
     "output_type": "stream",
     "text": [
      "2018-12-07 15:34:38,838 : INFO : EPOCH 4 - PROGRESS: at 68.43% examples, 719625 words/s, in_qsize 8, out_qsize 1\n",
      "2018-12-07 15:34:39,857 : INFO : EPOCH 4 - PROGRESS: at 73.28% examples, 711257 words/s, in_qsize 6, out_qsize 1\n",
      "2018-12-07 15:34:40,858 : INFO : EPOCH 4 - PROGRESS: at 78.37% examples, 706889 words/s, in_qsize 7, out_qsize 0\n",
      "2018-12-07 15:34:41,861 : INFO : EPOCH 4 - PROGRESS: at 83.62% examples, 703958 words/s, in_qsize 7, out_qsize 0\n",
      "2018-12-07 15:34:42,876 : INFO : EPOCH 4 - PROGRESS: at 88.87% examples, 701365 words/s, in_qsize 8, out_qsize 0\n",
      "2018-12-07 15:34:43,892 : INFO : EPOCH 4 - PROGRESS: at 94.37% examples, 700673 words/s, in_qsize 7, out_qsize 0\n",
      "2018-12-07 15:34:44,816 : INFO : worker thread finished; awaiting finish of 3 more threads\n",
      "2018-12-07 15:34:44,826 : INFO : worker thread finished; awaiting finish of 2 more threads\n",
      "2018-12-07 15:34:44,842 : INFO : worker thread finished; awaiting finish of 1 more threads\n",
      "2018-12-07 15:34:44,844 : INFO : worker thread finished; awaiting finish of 0 more threads\n",
      "2018-12-07 15:34:44,845 : INFO : EPOCH - 4 : training on 17798082 raw words (12750050 effective words) took 18.1s, 703700 effective words/s\n",
      "2018-12-07 15:34:45,858 : INFO : EPOCH 5 - PROGRESS: at 5.65% examples, 718634 words/s, in_qsize 8, out_qsize 1\n",
      "2018-12-07 15:34:46,871 : INFO : EPOCH 5 - PROGRESS: at 11.67% examples, 733657 words/s, in_qsize 7, out_qsize 0\n",
      "2018-12-07 15:34:47,886 : INFO : EPOCH 5 - PROGRESS: at 17.75% examples, 740407 words/s, in_qsize 7, out_qsize 0\n",
      "2018-12-07 15:34:48,899 : INFO : EPOCH 5 - PROGRESS: at 23.76% examples, 744307 words/s, in_qsize 8, out_qsize 0\n",
      "2018-12-07 15:34:49,902 : INFO : EPOCH 5 - PROGRESS: at 29.64% examples, 745125 words/s, in_qsize 7, out_qsize 0\n",
      "2018-12-07 15:34:50,904 : INFO : EPOCH 5 - PROGRESS: at 35.73% examples, 748056 words/s, in_qsize 8, out_qsize 1\n",
      "2018-12-07 15:34:51,914 : INFO : EPOCH 5 - PROGRESS: at 41.65% examples, 748476 words/s, in_qsize 7, out_qsize 0\n",
      "2018-12-07 15:34:52,915 : INFO : EPOCH 5 - PROGRESS: at 47.28% examples, 745175 words/s, in_qsize 7, out_qsize 0\n",
      "2018-12-07 15:34:53,921 : INFO : EPOCH 5 - PROGRESS: at 53.16% examples, 745245 words/s, in_qsize 7, out_qsize 0\n",
      "2018-12-07 15:34:54,929 : INFO : EPOCH 5 - PROGRESS: at 59.06% examples, 746592 words/s, in_qsize 7, out_qsize 0\n",
      "2018-12-07 15:34:55,939 : INFO : EPOCH 5 - PROGRESS: at 64.95% examples, 746433 words/s, in_qsize 8, out_qsize 0\n",
      "2018-12-07 15:34:56,940 : INFO : EPOCH 5 - PROGRESS: at 70.88% examples, 747328 words/s, in_qsize 7, out_qsize 0\n",
      "2018-12-07 15:34:57,948 : INFO : EPOCH 5 - PROGRESS: at 76.77% examples, 747147 words/s, in_qsize 7, out_qsize 0\n",
      "2018-12-07 15:34:58,954 : INFO : EPOCH 5 - PROGRESS: at 82.77% examples, 748105 words/s, in_qsize 7, out_qsize 0\n",
      "2018-12-07 15:34:59,961 : INFO : EPOCH 5 - PROGRESS: at 88.69% examples, 748376 words/s, in_qsize 7, out_qsize 0\n",
      "2018-12-07 15:35:00,967 : INFO : EPOCH 5 - PROGRESS: at 94.71% examples, 749159 words/s, in_qsize 7, out_qsize 0\n",
      "2018-12-07 15:35:01,966 : INFO : worker thread finished; awaiting finish of 3 more threads\n",
      "2018-12-07 15:35:01,981 : INFO : EPOCH 5 - PROGRESS: at 99.89% examples, 743626 words/s, in_qsize 2, out_qsize 1\n",
      "2018-12-07 15:35:01,983 : INFO : worker thread finished; awaiting finish of 2 more threads\n",
      "2018-12-07 15:35:01,997 : INFO : worker thread finished; awaiting finish of 1 more threads\n",
      "2018-12-07 15:35:02,003 : INFO : worker thread finished; awaiting finish of 0 more threads\n",
      "2018-12-07 15:35:02,005 : INFO : EPOCH - 5 : training on 17798082 raw words (12750284 effective words) took 17.2s, 743400 effective words/s\n",
      "2018-12-07 15:35:02,005 : INFO : training on a 88990410 raw words (63749577 effective words) took 73.9s, 862209 effective words/s\n"
     ]
    }
   ],
   "source": [
    "num_features = 300\n",
    "min_word_count = 40\n",
    "num_workers = 4\n",
    "context =10\n",
    "downsampling = 1e-3\n",
    "\n",
    "from gensim.models import word2vec\n",
    "print(\"Training model...\")\n",
    "model = word2vec.Word2Vec(sentences, workers = num_workers, size = num_features, min_count = min_word_count, window = context, sample = downsampling)\n"
   ]
  },
  {
   "cell_type": "code",
   "execution_count": 19,
   "metadata": {},
   "outputs": [
    {
     "name": "stderr",
     "output_type": "stream",
     "text": [
      "2018-12-07 15:35:38,050 : INFO : precomputing L2-norms of word weight vectors\n"
     ]
    }
   ],
   "source": [
    "model.init_sims(replace = True)"
   ]
  },
  {
   "cell_type": "code",
   "execution_count": 20,
   "metadata": {},
   "outputs": [
    {
     "name": "stderr",
     "output_type": "stream",
     "text": [
      "2018-12-07 15:35:38,938 : INFO : saving Word2Vec object under 300features_40minwords_10context, separately None\n",
      "2018-12-07 15:35:38,939 : INFO : not storing attribute vectors_norm\n",
      "2018-12-07 15:35:38,940 : INFO : not storing attribute cum_table\n",
      "2018-12-07 15:35:39,376 : INFO : saved 300features_40minwords_10context\n"
     ]
    }
   ],
   "source": [
    "model_name = \"300features_40minwords_10context\"\n",
    "model.save(model_name)"
   ]
  },
  {
   "cell_type": "markdown",
   "metadata": {},
   "source": [
    "### Exploring the Model Results"
   ]
  },
  {
   "cell_type": "code",
   "execution_count": 28,
   "metadata": {},
   "outputs": [
    {
     "name": "stderr",
     "output_type": "stream",
     "text": [
      "C:\\Users\\hongji\\Continuum\\anaconda3\\lib\\site-packages\\ipykernel_launcher.py:1: DeprecationWarning: Call to deprecated `doesnt_match` (Method will be removed in 4.0.0, use self.wv.doesnt_match() instead).\n",
      "  \"\"\"Entry point for launching an IPython kernel.\n"
     ]
    },
    {
     "data": {
      "text/plain": [
       "'kitchen'"
      ]
     },
     "execution_count": 28,
     "metadata": {},
     "output_type": "execute_result"
    }
   ],
   "source": [
    "model.doesnt_match(\"man woman child kitchen\".split())"
   ]
  },
  {
   "cell_type": "code",
   "execution_count": 30,
   "metadata": {},
   "outputs": [
    {
     "name": "stderr",
     "output_type": "stream",
     "text": [
      "C:\\Users\\hongji\\Continuum\\anaconda3\\lib\\site-packages\\ipykernel_launcher.py:1: DeprecationWarning: Call to deprecated `doesnt_match` (Method will be removed in 4.0.0, use self.wv.doesnt_match() instead).\n",
      "  \"\"\"Entry point for launching an IPython kernel.\n"
     ]
    },
    {
     "data": {
      "text/plain": [
       "'berlin'"
      ]
     },
     "execution_count": 30,
     "metadata": {},
     "output_type": "execute_result"
    }
   ],
   "source": [
    "model.doesnt_match(\"france england germany berlin\".split())"
   ]
  },
  {
   "cell_type": "code",
   "execution_count": 31,
   "metadata": {},
   "outputs": [
    {
     "name": "stderr",
     "output_type": "stream",
     "text": [
      "C:\\Users\\hongji\\Continuum\\anaconda3\\lib\\site-packages\\ipykernel_launcher.py:1: DeprecationWarning: Call to deprecated `doesnt_match` (Method will be removed in 4.0.0, use self.wv.doesnt_match() instead).\n",
      "  \"\"\"Entry point for launching an IPython kernel.\n"
     ]
    },
    {
     "data": {
      "text/plain": [
       "'paris'"
      ]
     },
     "execution_count": 31,
     "metadata": {},
     "output_type": "execute_result"
    }
   ],
   "source": [
    "model.doesnt_match(\"paris berlin london austria\".split())"
   ]
  },
  {
   "cell_type": "code",
   "execution_count": 32,
   "metadata": {},
   "outputs": [
    {
     "name": "stderr",
     "output_type": "stream",
     "text": [
      "C:\\Users\\hongji\\Continuum\\anaconda3\\lib\\site-packages\\ipykernel_launcher.py:1: DeprecationWarning: Call to deprecated `most_similar` (Method will be removed in 4.0.0, use self.wv.most_similar() instead).\n",
      "  \"\"\"Entry point for launching an IPython kernel.\n"
     ]
    },
    {
     "data": {
      "text/plain": [
       "[('woman', 0.6315307021141052),\n",
       " ('lady', 0.6053035259246826),\n",
       " ('lad', 0.570949375629425),\n",
       " ('monk', 0.5342255234718323),\n",
       " ('guy', 0.5314852595329285),\n",
       " ('businessman', 0.5238685607910156),\n",
       " ('farmer', 0.5166630744934082),\n",
       " ('men', 0.5068111419677734),\n",
       " ('person', 0.5026758909225464),\n",
       " ('gentleman', 0.501833438873291)]"
      ]
     },
     "execution_count": 32,
     "metadata": {},
     "output_type": "execute_result"
    }
   ],
   "source": [
    "model.most_similar(\"man\")"
   ]
  },
  {
   "cell_type": "code",
   "execution_count": 33,
   "metadata": {},
   "outputs": [
    {
     "name": "stderr",
     "output_type": "stream",
     "text": [
      "C:\\Users\\hongji\\Continuum\\anaconda3\\lib\\site-packages\\ipykernel_launcher.py:1: DeprecationWarning: Call to deprecated `most_similar` (Method will be removed in 4.0.0, use self.wv.most_similar() instead).\n",
      "  \"\"\"Entry point for launching an IPython kernel.\n"
     ]
    },
    {
     "data": {
      "text/plain": [
       "[('princess', 0.6863012313842773),\n",
       " ('bride', 0.614600658416748),\n",
       " ('stepmother', 0.6066983342170715),\n",
       " ('victoria', 0.6061610579490662),\n",
       " ('maid', 0.5980666875839233),\n",
       " ('ling', 0.5861284136772156),\n",
       " ('eva', 0.575021505355835),\n",
       " ('regina', 0.574630618095398),\n",
       " ('goddess', 0.5723809003829956),\n",
       " ('maria', 0.5663330554962158)]"
      ]
     },
     "execution_count": 33,
     "metadata": {},
     "output_type": "execute_result"
    }
   ],
   "source": [
    "model.most_similar(\"queen\")"
   ]
  },
  {
   "cell_type": "code",
   "execution_count": 35,
   "metadata": {},
   "outputs": [
    {
     "data": {
      "text/plain": [
       "[('princess', 0.6863012313842773),\n",
       " ('bride', 0.614600658416748),\n",
       " ('stepmother', 0.6066983342170715),\n",
       " ('victoria', 0.6061610579490662),\n",
       " ('maid', 0.5980666875839233),\n",
       " ('ling', 0.5861284136772156),\n",
       " ('eva', 0.575021505355835),\n",
       " ('regina', 0.574630618095398),\n",
       " ('goddess', 0.5723809003829956),\n",
       " ('maria', 0.5663330554962158)]"
      ]
     },
     "execution_count": 35,
     "metadata": {},
     "output_type": "execute_result"
    }
   ],
   "source": [
    "model.wv.most_similar(\"queen\")"
   ]
  },
  {
   "cell_type": "code",
   "execution_count": 36,
   "metadata": {},
   "outputs": [
    {
     "data": {
      "text/plain": [
       "[('terrible', 0.779565691947937),\n",
       " ('horrible', 0.751320481300354),\n",
       " ('atrocious', 0.7289086580276489),\n",
       " ('dreadful', 0.7267299294471741),\n",
       " ('abysmal', 0.7014939188957214),\n",
       " ('horrendous', 0.6837917566299438),\n",
       " ('appalling', 0.6603566408157349),\n",
       " ('horrid', 0.631653904914856),\n",
       " ('lousy', 0.6280209422111511),\n",
       " ('crappy', 0.61123126745224)]"
      ]
     },
     "execution_count": 36,
     "metadata": {},
     "output_type": "execute_result"
    }
   ],
   "source": [
    "model.wv.most_similar(\"awful\")"
   ]
  },
  {
   "cell_type": "markdown",
   "metadata": {},
   "source": [
    "### Numeric Representations of Words"
   ]
  },
  {
   "cell_type": "code",
   "execution_count": 21,
   "metadata": {},
   "outputs": [
    {
     "name": "stderr",
     "output_type": "stream",
     "text": [
      "2018-12-07 15:37:11,977 : INFO : loading Word2Vec object from 300features_40minwords_10context\n",
      "2018-12-07 15:37:12,250 : INFO : loading wv recursively from 300features_40minwords_10context.wv.* with mmap=None\n",
      "2018-12-07 15:37:12,251 : INFO : setting ignored attribute vectors_norm to None\n",
      "2018-12-07 15:37:12,251 : INFO : loading vocabulary recursively from 300features_40minwords_10context.vocabulary.* with mmap=None\n",
      "2018-12-07 15:37:12,252 : INFO : loading trainables recursively from 300features_40minwords_10context.trainables.* with mmap=None\n",
      "2018-12-07 15:37:12,252 : INFO : setting ignored attribute cum_table to None\n",
      "2018-12-07 15:37:12,253 : INFO : loaded 300features_40minwords_10context\n"
     ]
    }
   ],
   "source": [
    "from gensim.models import Word2Vec\n",
    "\n",
    "model = Word2Vec.load(\"300features_40minwords_10context\")"
   ]
  },
  {
   "cell_type": "code",
   "execution_count": 48,
   "metadata": {},
   "outputs": [
    {
     "ename": "AttributeError",
     "evalue": "'Word2Vec' object has no attribute 'syn0'",
     "output_type": "error",
     "traceback": [
      "\u001b[1;31m---------------------------------------------------------------------------\u001b[0m",
      "\u001b[1;31mAttributeError\u001b[0m                            Traceback (most recent call last)",
      "\u001b[1;32m<ipython-input-48-6c3c9c251042>\u001b[0m in \u001b[0;36m<module>\u001b[1;34m()\u001b[0m\n\u001b[1;32m----> 1\u001b[1;33m \u001b[0mtype\u001b[0m\u001b[1;33m(\u001b[0m\u001b[0mmodel\u001b[0m\u001b[1;33m.\u001b[0m\u001b[0msyn0\u001b[0m\u001b[1;33m)\u001b[0m\u001b[1;33m\u001b[0m\u001b[0m\n\u001b[0m",
      "\u001b[1;31mAttributeError\u001b[0m: 'Word2Vec' object has no attribute 'syn0'"
     ]
    }
   ],
   "source": [
    "type(model.syn0_lockf)"
   ]
  },
  {
   "cell_type": "code",
   "execution_count": 25,
   "metadata": {},
   "outputs": [
    {
     "name": "stderr",
     "output_type": "stream",
     "text": [
      "C:\\Users\\hongji\\Continuum\\anaconda3\\lib\\site-packages\\ipykernel_launcher.py:1: DeprecationWarning: Call to deprecated `syn0_lockf` (Attribute will be removed in 4.0.0, use self.trainables.vectors_lockf instead).\n",
      "  \"\"\"Entry point for launching an IPython kernel.\n"
     ]
    },
    {
     "data": {
      "text/plain": [
       "(16490,)"
      ]
     },
     "execution_count": 25,
     "metadata": {},
     "output_type": "execute_result"
    }
   ],
   "source": [
    "model.syn0_lockf.shape"
   ]
  },
  {
   "cell_type": "code",
   "execution_count": 26,
   "metadata": {},
   "outputs": [
    {
     "name": "stderr",
     "output_type": "stream",
     "text": [
      "C:\\Users\\hongji\\Continuum\\anaconda3\\lib\\site-packages\\ipykernel_launcher.py:1: DeprecationWarning: Call to deprecated `__getitem__` (Method will be removed in 4.0.0, use self.wv.__getitem__() instead).\n",
      "  \"\"\"Entry point for launching an IPython kernel.\n"
     ]
    },
    {
     "data": {
      "text/plain": [
       "array([-0.02017601, -0.03184921,  0.02659873,  0.03237246,  0.0212802 ,\n",
       "       -0.00833843,  0.01702683, -0.06281058, -0.02985262,  0.09242319,\n",
       "       -0.01113374,  0.00951598,  0.00948806, -0.02127164, -0.06057234,\n",
       "        0.09808912, -0.05200348, -0.0176842 ,  0.08991907, -0.05729052,\n",
       "        0.05406922, -0.09505454, -0.0457925 ,  0.0039188 ,  0.02682319,\n",
       "       -0.08811907,  0.06231553,  0.0191361 , -0.10751273,  0.0834949 ,\n",
       "        0.00904669, -0.06869647, -0.09434503, -0.0405754 , -0.06138924,\n",
       "       -0.02394167,  0.05724387,  0.06182927,  0.00133882, -0.0338123 ,\n",
       "       -0.02036592,  0.00386212,  0.0081628 , -0.01720913, -0.00899622,\n",
       "       -0.04567929, -0.0160595 , -0.04458978,  0.00461731,  0.06739829,\n",
       "        0.06606103,  0.00393423,  0.01211218,  0.0270275 , -0.00542527,\n",
       "       -0.08123061, -0.02511776, -0.08589065,  0.07413396,  0.04686044,\n",
       "        0.02034957,  0.07189045, -0.06748107,  0.02264898, -0.0190925 ,\n",
       "       -0.04970721,  0.00026929,  0.01003889, -0.00536061, -0.06441281,\n",
       "        0.02866772,  0.0522959 , -0.0971309 ,  0.02923313,  0.00374707,\n",
       "        0.05401437,  0.00017871, -0.01921881,  0.08995096, -0.02415858,\n",
       "        0.03093478, -0.08975972, -0.02724887,  0.08041761,  0.01205751,\n",
       "        0.01476061,  0.10001665, -0.02223487,  0.06833954,  0.00274442,\n",
       "        0.07632681, -0.03381533,  0.00659979,  0.04604152, -0.04456693,\n",
       "       -0.05811782,  0.04151857, -0.02134751, -0.1203701 , -0.00662243,\n",
       "       -0.10607638,  0.01594909, -0.02353998, -0.05851631, -0.05098992,\n",
       "       -0.03416389, -0.01376622, -0.05322029, -0.06963395, -0.02596501,\n",
       "       -0.00139484,  0.04606368,  0.05337393,  0.00090211,  0.0118055 ,\n",
       "       -0.00323508,  0.01959654,  0.05681767,  0.05372163,  0.01390196,\n",
       "       -0.06724872,  0.01040199,  0.05757188, -0.07640515,  0.01963766,\n",
       "        0.04782985, -0.05208535,  0.00075388, -0.03398289,  0.02838512,\n",
       "        0.03959443, -0.01702289, -0.01464732,  0.09349304, -0.02696456,\n",
       "       -0.02959424, -0.00592   ,  0.05323815, -0.02777354,  0.00254012,\n",
       "        0.0791665 ,  0.02190516, -0.11084703,  0.0250508 , -0.1134577 ,\n",
       "        0.01676409, -0.05929579,  0.03131871,  0.01999409, -0.06277773,\n",
       "       -0.09219554,  0.05982329, -0.03806221,  0.01396174, -0.03469308,\n",
       "        0.08088034,  0.05666712, -0.00200228, -0.02186503, -0.12335204,\n",
       "        0.04972393,  0.02585078,  0.05072607, -0.02226957,  0.03537205,\n",
       "        0.07789793, -0.05792426, -0.00190893, -0.02512273, -0.14283943,\n",
       "       -0.01928815,  0.03016897, -0.06953336, -0.04998591,  0.02029917,\n",
       "        0.03230737,  0.01973844,  0.06710347,  0.01393854,  0.10534165,\n",
       "       -0.15179268,  0.08078456,  0.14072102, -0.00628493,  0.09922945,\n",
       "       -0.03354967, -0.03586766,  0.07613666, -0.04555631, -0.11353767,\n",
       "       -0.10571853,  0.09029541,  0.04752324, -0.08659703,  0.03386679,\n",
       "       -0.0446356 ,  0.04801012, -0.0248071 , -0.00903019, -0.04272756,\n",
       "        0.09780259, -0.00880247,  0.02694305,  0.00325834, -0.11661714,\n",
       "       -0.06625559, -0.03205566, -0.05487215,  0.07491988,  0.01039697,\n",
       "        0.02024084,  0.00364305,  0.06353739, -0.07253756, -0.06802799,\n",
       "       -0.00706031, -0.06297452,  0.04010822,  0.09249149, -0.04502743,\n",
       "       -0.16454266, -0.09624903,  0.07991762,  0.09154873, -0.07004824,\n",
       "        0.06871464,  0.03382607, -0.01409265,  0.10767072,  0.00804261,\n",
       "       -0.0567449 ,  0.07628614, -0.05121914, -0.01363783,  0.13400972,\n",
       "       -0.03887752, -0.06072931,  0.01195893,  0.07967927,  0.0352769 ,\n",
       "        0.07443501, -0.08903497, -0.05093915,  0.06673468,  0.00871699,\n",
       "       -0.09795581, -0.01503615, -0.04384923, -0.01976895,  0.00550402,\n",
       "       -0.09337324,  0.11683986, -0.02295106, -0.0965812 ,  0.05408737,\n",
       "        0.00094591,  0.07195922, -0.0286232 , -0.06879519,  0.07895982,\n",
       "        0.03847231, -0.01764209,  0.06381013,  0.12260579, -0.04708033,\n",
       "        0.05634628,  0.01034674,  0.10901689, -0.01742755,  0.02903433,\n",
       "        0.05461439,  0.0154171 ,  0.07274839,  0.04205046,  0.05372978,\n",
       "       -0.0300186 ,  0.0228873 ,  0.01676668,  0.12345221, -0.0239632 ,\n",
       "       -0.0740866 ,  0.07907752, -0.02927519, -0.03323636, -0.0955679 ,\n",
       "       -0.11351941, -0.02621002,  0.000244  ,  0.03370643, -0.00655691,\n",
       "       -0.02971227, -0.04175473, -0.04303491, -0.06600698, -0.00261202,\n",
       "       -0.05645833, -0.0313557 , -0.00762252,  0.02577394, -0.05521204],\n",
       "      dtype=float32)"
      ]
     },
     "execution_count": 26,
     "metadata": {},
     "output_type": "execute_result"
    }
   ],
   "source": [
    "model[\"flower\"]"
   ]
  },
  {
   "cell_type": "markdown",
   "metadata": {},
   "source": [
    "### From Words To Paragraphs, Attempt 1: Vector Averaging"
   ]
  },
  {
   "cell_type": "code",
   "execution_count": 51,
   "metadata": {},
   "outputs": [],
   "source": [
    "import numpy as np"
   ]
  },
  {
   "cell_type": "code",
   "execution_count": 52,
   "metadata": {},
   "outputs": [],
   "source": [
    "def makeFeatureVec(words, model, num_features):\n",
    "    featureVec = np.zeros((num_features,), dtype = \"float32\")\n",
    "    nwords = 0.\n",
    "    index2word_set = set(model.wv.index2word)\n",
    "    \n",
    "    for word in words:\n",
    "        if word in index2word_set:\n",
    "            nwords = nwords +1.\n",
    "            featureVec = np.add(featureVec,model[word])\n",
    "    featureVec = np.divide(featureVec, nwords)\n",
    "    return featureVec"
   ]
  },
  {
   "cell_type": "code",
   "execution_count": 53,
   "metadata": {},
   "outputs": [],
   "source": [
    "def getAvgFeatureVecs(reviews, model, num_features):\n",
    "    counter = 0\n",
    "    reviewFeatureVecs = np.zeros((len(reviews), num_features), dtype = \"float32\")\n",
    "    \n",
    "    for review in reviews:\n",
    "        if counter%1000. == 0.:\n",
    "            print(\"Review %d of %d\" % (counter, len(reviews)))\n",
    "        \n",
    "        reviewFeatureVecs[counter] = makeFeatureVec(review, model, num_features)\n",
    "        \n",
    "        counter = counter + 1\n",
    "    return reviewFeatureVecs"
   ]
  },
  {
   "cell_type": "code",
   "execution_count": 54,
   "metadata": {},
   "outputs": [
    {
     "name": "stdout",
     "output_type": "stream",
     "text": [
      "Review 0 of 25000\n"
     ]
    },
    {
     "name": "stderr",
     "output_type": "stream",
     "text": [
      "C:\\Users\\hongji\\Continuum\\anaconda3\\lib\\site-packages\\ipykernel_launcher.py:9: DeprecationWarning: Call to deprecated `__getitem__` (Method will be removed in 4.0.0, use self.wv.__getitem__() instead).\n",
      "  if __name__ == '__main__':\n"
     ]
    },
    {
     "name": "stdout",
     "output_type": "stream",
     "text": [
      "Review 1000 of 25000\n",
      "Review 2000 of 25000\n",
      "Review 3000 of 25000\n",
      "Review 4000 of 25000\n",
      "Review 5000 of 25000\n",
      "Review 6000 of 25000\n",
      "Review 7000 of 25000\n",
      "Review 8000 of 25000\n",
      "Review 9000 of 25000\n",
      "Review 10000 of 25000\n",
      "Review 11000 of 25000\n",
      "Review 12000 of 25000\n",
      "Review 13000 of 25000\n",
      "Review 14000 of 25000\n",
      "Review 15000 of 25000\n",
      "Review 16000 of 25000\n",
      "Review 17000 of 25000\n",
      "Review 18000 of 25000\n",
      "Review 19000 of 25000\n",
      "Review 20000 of 25000\n",
      "Review 21000 of 25000\n",
      "Review 22000 of 25000\n",
      "Review 23000 of 25000\n",
      "Review 24000 of 25000\n",
      "Creating average feature vecs for test reviews\n",
      "Review 0 of 25000\n",
      "Review 1000 of 25000\n",
      "Review 2000 of 25000\n",
      "Review 3000 of 25000\n",
      "Review 4000 of 25000\n",
      "Review 5000 of 25000\n",
      "Review 6000 of 25000\n",
      "Review 7000 of 25000\n",
      "Review 8000 of 25000\n",
      "Review 9000 of 25000\n",
      "Review 10000 of 25000\n",
      "Review 11000 of 25000\n",
      "Review 12000 of 25000\n",
      "Review 13000 of 25000\n",
      "Review 14000 of 25000\n",
      "Review 15000 of 25000\n",
      "Review 16000 of 25000\n",
      "Review 17000 of 25000\n",
      "Review 18000 of 25000\n",
      "Review 19000 of 25000\n",
      "Review 20000 of 25000\n",
      "Review 21000 of 25000\n",
      "Review 22000 of 25000\n",
      "Review 23000 of 25000\n",
      "Review 24000 of 25000\n"
     ]
    }
   ],
   "source": [
    "clean_train_reviews = []\n",
    "for review in train[\"review\"]:\n",
    "    clean_train_reviews.append(review_to_wordlist(review, remove_stopwords=True))\n",
    "\n",
    "trainDataVecs = getAvgFeatureVecs(clean_train_reviews, model, num_features)\n",
    "\n",
    "print(\"Creating average feature vecs for test reviews\")\n",
    "clean_test_reviews = []\n",
    "for review in test[\"review\"]:\n",
    "    clean_test_reviews.append(review_to_wordlist(review, remove_stopwords = True))\n",
    "    \n",
    "testDataVecs = getAvgFeatureVecs(clean_test_reviews, model, num_features)"
   ]
  },
  {
   "cell_type": "code",
   "execution_count": 55,
   "metadata": {},
   "outputs": [
    {
     "data": {
      "text/plain": [
       "array([[-0.00985947, -0.01259374, -0.00751184, ...,  0.00038333,\n",
       "        -0.02540913, -0.0046104 ],\n",
       "       [ 0.00447914, -0.00349662, -0.01992455, ...,  0.00207914,\n",
       "        -0.02462348,  0.00984769],\n",
       "       [-0.00869235, -0.02592963, -0.0077205 , ..., -0.00033624,\n",
       "        -0.01902071, -0.0107389 ],\n",
       "       ...,\n",
       "       [-0.01457774,  0.0058221 ,  0.00787921, ...,  0.01484792,\n",
       "        -0.0205282 , -0.00426833],\n",
       "       [-0.02621752,  0.01248683, -0.03063243, ..., -0.01002957,\n",
       "        -0.01880038, -0.0122584 ],\n",
       "       [-0.007042  , -0.01533785,  0.00302217, ...,  0.00766373,\n",
       "        -0.01790794, -0.01799494]], dtype=float32)"
      ]
     },
     "execution_count": 55,
     "metadata": {},
     "output_type": "execute_result"
    }
   ],
   "source": [
    "trainDataVecs"
   ]
  },
  {
   "cell_type": "code",
   "execution_count": 56,
   "metadata": {},
   "outputs": [
    {
     "data": {
      "text/plain": [
       "array([[-3.32020707e-02, -8.73537455e-03, -2.02662591e-02, ...,\n",
       "        -1.29704189e-03, -7.60610402e-03, -1.71422530e-02],\n",
       "       [-1.21722892e-02, -2.55439281e-02, -1.52510516e-02, ...,\n",
       "         2.07793452e-02, -3.56308743e-02, -1.47780431e-02],\n",
       "       [-2.86992379e-02, -2.19665337e-02, -1.54829118e-02, ...,\n",
       "         2.40296666e-02, -3.17606144e-02, -9.14056040e-03],\n",
       "       ...,\n",
       "       [-1.55588584e-02, -2.18681898e-02, -4.11389919e-05, ...,\n",
       "        -1.78538403e-03, -2.19194554e-02, -1.37092546e-02],\n",
       "       [-1.89161040e-02,  3.27523495e-03, -7.23429956e-03, ...,\n",
       "        -1.48805035e-02, -4.22214810e-03, -9.75359138e-03],\n",
       "       [-1.57774277e-02, -2.83299591e-02, -7.10942363e-03, ...,\n",
       "         1.71020832e-02, -1.33280111e-02, -9.54742264e-03]], dtype=float32)"
      ]
     },
     "execution_count": 56,
     "metadata": {},
     "output_type": "execute_result"
    }
   ],
   "source": [
    "testDataVecs"
   ]
  },
  {
   "cell_type": "code",
   "execution_count": 57,
   "metadata": {},
   "outputs": [
    {
     "name": "stdout",
     "output_type": "stream",
     "text": [
      "Fitting a random forest to labeled training data...\n"
     ]
    }
   ],
   "source": [
    "from sklearn.ensemble import RandomForestClassifier\n",
    "forest = RandomForestClassifier( n_estimators = 100)\n",
    "\n",
    "print(\"Fitting a random forest to labeled training data...\")\n",
    "forest = forest.fit(trainDataVecs, train[\"sentiment\"])\n",
    "\n",
    "result = forest.predict(testDataVecs)\n",
    "\n",
    "output = pd.DataFrame(data = {\"id\":test[\"id\"], \"sentiment\":result})\n",
    "output.to_csv(\"Word2Vec_AverageVectors.csv\", index=False, quoting = 3)"
   ]
  },
  {
   "cell_type": "code",
   "execution_count": 47,
   "metadata": {},
   "outputs": [
    {
     "data": {
      "text/plain": [
       "array([], shape=(0, 300), dtype=float32)"
      ]
     },
     "execution_count": 47,
     "metadata": {},
     "output_type": "execute_result"
    }
   ],
   "source": []
  },
  {
   "cell_type": "markdown",
   "metadata": {},
   "source": [
    "### From Words to Paragraphs, Attempt 2: Clustering"
   ]
  },
  {
   "cell_type": "code",
   "execution_count": 59,
   "metadata": {},
   "outputs": [],
   "source": [
    "from sklearn.cluster import KMeans\n",
    "import time"
   ]
  },
  {
   "cell_type": "code",
   "execution_count": null,
   "metadata": {},
   "outputs": [],
   "source": []
  }
 ],
 "metadata": {
  "kernelspec": {
   "display_name": "Python 3",
   "language": "python",
   "name": "python3"
  },
  "language_info": {
   "codemirror_mode": {
    "name": "ipython",
    "version": 3
   },
   "file_extension": ".py",
   "mimetype": "text/x-python",
   "name": "python",
   "nbconvert_exporter": "python",
   "pygments_lexer": "ipython3",
   "version": "3.7.0"
  }
 },
 "nbformat": 4,
 "nbformat_minor": 2
}
