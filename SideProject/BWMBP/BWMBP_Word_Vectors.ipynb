{
 "cells": [
  {
   "cell_type": "markdown",
   "metadata": {},
   "source": [
    "# Bag of Words Meets A Bag of Popcorns"
   ]
  },
  {
   "cell_type": "markdown",
   "metadata": {},
   "source": [
    "## Word Vectors"
   ]
  },
  {
   "cell_type": "code",
   "execution_count": 1,
   "metadata": {},
   "outputs": [],
   "source": [
    "import pandas as pd"
   ]
  },
  {
   "cell_type": "code",
   "execution_count": 2,
   "metadata": {},
   "outputs": [],
   "source": [
    "train = pd.read_csv(\"labeledTrainData.tsv\", header = 0, delimiter= \"\\t\", quoting=3)"
   ]
  },
  {
   "cell_type": "code",
   "execution_count": 3,
   "metadata": {},
   "outputs": [],
   "source": [
    "test = pd.read_csv(\"testData.tsv\", header = 0, delimiter=\"\\t\", quoting=3)"
   ]
  },
  {
   "cell_type": "code",
   "execution_count": 4,
   "metadata": {},
   "outputs": [],
   "source": [
    "unlabeled_train = pd.read_csv(\"unlabeledTrainData.tsv\", header = 0, delimiter=\"\\t\", quoting=3)"
   ]
  },
  {
   "cell_type": "code",
   "execution_count": 5,
   "metadata": {},
   "outputs": [
    {
     "data": {
      "text/html": [
       "<div>\n",
       "<style scoped>\n",
       "    .dataframe tbody tr th:only-of-type {\n",
       "        vertical-align: middle;\n",
       "    }\n",
       "\n",
       "    .dataframe tbody tr th {\n",
       "        vertical-align: top;\n",
       "    }\n",
       "\n",
       "    .dataframe thead th {\n",
       "        text-align: right;\n",
       "    }\n",
       "</style>\n",
       "<table border=\"1\" class=\"dataframe\">\n",
       "  <thead>\n",
       "    <tr style=\"text-align: right;\">\n",
       "      <th></th>\n",
       "      <th>id</th>\n",
       "      <th>sentiment</th>\n",
       "      <th>review</th>\n",
       "    </tr>\n",
       "  </thead>\n",
       "  <tbody>\n",
       "    <tr>\n",
       "      <th>0</th>\n",
       "      <td>\"5814_8\"</td>\n",
       "      <td>1</td>\n",
       "      <td>\"With all this stuff going down at the moment ...</td>\n",
       "    </tr>\n",
       "    <tr>\n",
       "      <th>1</th>\n",
       "      <td>\"2381_9\"</td>\n",
       "      <td>1</td>\n",
       "      <td>\"\\\"The Classic War of the Worlds\\\" by Timothy ...</td>\n",
       "    </tr>\n",
       "    <tr>\n",
       "      <th>2</th>\n",
       "      <td>\"7759_3\"</td>\n",
       "      <td>0</td>\n",
       "      <td>\"The film starts with a manager (Nicholas Bell...</td>\n",
       "    </tr>\n",
       "    <tr>\n",
       "      <th>3</th>\n",
       "      <td>\"3630_4\"</td>\n",
       "      <td>0</td>\n",
       "      <td>\"It must be assumed that those who praised thi...</td>\n",
       "    </tr>\n",
       "    <tr>\n",
       "      <th>4</th>\n",
       "      <td>\"9495_8\"</td>\n",
       "      <td>1</td>\n",
       "      <td>\"Superbly trashy and wondrously unpretentious ...</td>\n",
       "    </tr>\n",
       "  </tbody>\n",
       "</table>\n",
       "</div>"
      ],
      "text/plain": [
       "         id  sentiment                                             review\n",
       "0  \"5814_8\"          1  \"With all this stuff going down at the moment ...\n",
       "1  \"2381_9\"          1  \"\\\"The Classic War of the Worlds\\\" by Timothy ...\n",
       "2  \"7759_3\"          0  \"The film starts with a manager (Nicholas Bell...\n",
       "3  \"3630_4\"          0  \"It must be assumed that those who praised thi...\n",
       "4  \"9495_8\"          1  \"Superbly trashy and wondrously unpretentious ..."
      ]
     },
     "execution_count": 5,
     "metadata": {},
     "output_type": "execute_result"
    }
   ],
   "source": [
    "train.head()"
   ]
  },
  {
   "cell_type": "code",
   "execution_count": 6,
   "metadata": {},
   "outputs": [
    {
     "name": "stdout",
     "output_type": "stream",
     "text": [
      "Read 25000 labeled train reviews, 25000 labeled test reviews, and 50000 unlabeled reviews\n"
     ]
    }
   ],
   "source": [
    "print(\"Read %d labeled train reviews, %d labeled test reviews, and %d unlabeled reviews\" \\\n",
    "      %(train[\"review\"].size, test[\"review\"].size, unlabeled_train[\"review\"].size))"
   ]
  },
  {
   "cell_type": "markdown",
   "metadata": {},
   "source": [
    "## Data cleaning and processing"
   ]
  },
  {
   "cell_type": "code",
   "execution_count": 7,
   "metadata": {},
   "outputs": [],
   "source": [
    "from bs4 import BeautifulSoup\n",
    "import re\n",
    "from nltk.corpus import stopwords"
   ]
  },
  {
   "cell_type": "code",
   "execution_count": 8,
   "metadata": {},
   "outputs": [],
   "source": [
    "def review_to_wordlist(review, remove_stopwords = False):\n",
    "    review_text = BeautifulSoup(review).get_text()\n",
    "    review_text = re.sub(\"[^a-zA-Z]\", \" \", review_text)\n",
    "    words = review_text.lower().split()\n",
    "    if remove_stopwords:\n",
    "        stops = set(stopwords.words(\"english\"))\n",
    "        words = [w for w in words if not w in stops]\n",
    "    return(words)"
   ]
  },
  {
   "cell_type": "code",
   "execution_count": 9,
   "metadata": {},
   "outputs": [],
   "source": [
    "import nltk.data"
   ]
  },
  {
   "cell_type": "code",
   "execution_count": 10,
   "metadata": {},
   "outputs": [],
   "source": [
    "tokenizer = nltk.data.load('tokenizers/punkt/english.pickle')"
   ]
  },
  {
   "cell_type": "code",
   "execution_count": 11,
   "metadata": {},
   "outputs": [],
   "source": [
    "def review_to_sentences(review, tokenizer, remove_stopwords = False):\n",
    "    raw_sentences = tokenizer.tokenize(review.strip())\n",
    "    sentences = []\n",
    "    for raw_sentence in raw_sentences:\n",
    "        if len(raw_sentence) > 0:\n",
    "            sentences.append(review_to_wordlist( raw_sentence, remove_stopwords))\n",
    "        return sentences"
   ]
  },
  {
   "cell_type": "code",
   "execution_count": 12,
   "metadata": {},
   "outputs": [],
   "source": [
    "# Download the punkt tokenizer for sentence splitting\n",
    "import nltk.data\n",
    "\n",
    "# Load the punkt tokenizer\n",
    "tokenizer = nltk.data.load('tokenizers/punkt/english.pickle')\n",
    "\n",
    "# Define a function to split a review into parsed sentences\n",
    "def review_to_sentences( review, tokenizer, remove_stopwords=False ):\n",
    "    # Function to split a review into parsed sentences. Returns a \n",
    "    # list of sentences, where each sentence is a list of words\n",
    "    #\n",
    "    # 1. Use the NLTK tokenizer to split the paragraph into sentences\n",
    "    raw_sentences = tokenizer.tokenize(review.strip())\n",
    "    #\n",
    "    # 2. Loop over each sentence\n",
    "    sentences = []\n",
    "    for raw_sentence in raw_sentences:\n",
    "        # If a sentence is empty, skip it\n",
    "        if len(raw_sentence) > 0:\n",
    "            # Otherwise, call review_to_wordlist to get a list of words\n",
    "            sentences.append( review_to_wordlist( raw_sentence, \\\n",
    "              remove_stopwords ))\n",
    "    #\n",
    "    # Return the list of sentences (each sentence is a list of words,\n",
    "    # so this returns a list of lists\n",
    "    return sentences"
   ]
  },
  {
   "cell_type": "code",
   "execution_count": 13,
   "metadata": {},
   "outputs": [
    {
     "name": "stdout",
     "output_type": "stream",
     "text": [
      "Parsing sentences from training set\n"
     ]
    },
    {
     "name": "stderr",
     "output_type": "stream",
     "text": [
      "C:\\Users\\hongji\\Continuum\\anaconda3\\lib\\site-packages\\bs4\\__init__.py:273: UserWarning: \"b'.'\" looks like a filename, not markup. You should probably open this file and pass the filehandle into Beautiful Soup.\n",
      "  ' Beautiful Soup.' % markup)\n",
      "C:\\Users\\hongji\\Continuum\\anaconda3\\lib\\site-packages\\bs4\\__init__.py:273: UserWarning: \"b'...'\" looks like a filename, not markup. You should probably open this file and pass the filehandle into Beautiful Soup.\n",
      "  ' Beautiful Soup.' % markup)\n",
      "C:\\Users\\hongji\\Continuum\\anaconda3\\lib\\site-packages\\bs4\\__init__.py:336: UserWarning: \"http://www.happierabroad.com\"\" looks like a URL. Beautiful Soup is not an HTTP client. You should probably use an HTTP client like requests to get the document behind the URL, and feed that document to Beautiful Soup.\n",
      "  ' that document to Beautiful Soup.' % decoded_markup\n"
     ]
    },
    {
     "name": "stdout",
     "output_type": "stream",
     "text": [
      "Parsing sentences from unlabeled set\n"
     ]
    },
    {
     "name": "stderr",
     "output_type": "stream",
     "text": [
      "C:\\Users\\hongji\\Continuum\\anaconda3\\lib\\site-packages\\bs4\\__init__.py:336: UserWarning: \"http://www.archive.org/details/LovefromaStranger\"\" looks like a URL. Beautiful Soup is not an HTTP client. You should probably use an HTTP client like requests to get the document behind the URL, and feed that document to Beautiful Soup.\n",
      "  ' that document to Beautiful Soup.' % decoded_markup\n",
      "C:\\Users\\hongji\\Continuum\\anaconda3\\lib\\site-packages\\bs4\\__init__.py:336: UserWarning: \"http://www.loosechangeguide.com/LooseChangeGuide.html\"\" looks like a URL. Beautiful Soup is not an HTTP client. You should probably use an HTTP client like requests to get the document behind the URL, and feed that document to Beautiful Soup.\n",
      "  ' that document to Beautiful Soup.' % decoded_markup\n",
      "C:\\Users\\hongji\\Continuum\\anaconda3\\lib\\site-packages\\bs4\\__init__.py:273: UserWarning: \"b'... ...'\" looks like a filename, not markup. You should probably open this file and pass the filehandle into Beautiful Soup.\n",
      "  ' Beautiful Soup.' % markup)\n",
      "C:\\Users\\hongji\\Continuum\\anaconda3\\lib\\site-packages\\bs4\\__init__.py:273: UserWarning: \"b'....'\" looks like a filename, not markup. You should probably open this file and pass the filehandle into Beautiful Soup.\n",
      "  ' Beautiful Soup.' % markup)\n",
      "C:\\Users\\hongji\\Continuum\\anaconda3\\lib\\site-packages\\bs4\\__init__.py:336: UserWarning: \"http://www.msnbc.msn.com/id/4972055/site/newsweek/\"\" looks like a URL. Beautiful Soup is not an HTTP client. You should probably use an HTTP client like requests to get the document behind the URL, and feed that document to Beautiful Soup.\n",
      "  ' that document to Beautiful Soup.' % decoded_markup\n",
      "C:\\Users\\hongji\\Continuum\\anaconda3\\lib\\site-packages\\bs4\\__init__.py:273: UserWarning: \"b'..'\" looks like a filename, not markup. You should probably open this file and pass the filehandle into Beautiful Soup.\n",
      "  ' Beautiful Soup.' % markup)\n",
      "C:\\Users\\hongji\\Continuum\\anaconda3\\lib\\site-packages\\bs4\\__init__.py:336: UserWarning: \"http://www.youtube.com/watch?v=a0KSqelmgN8\"\" looks like a URL. Beautiful Soup is not an HTTP client. You should probably use an HTTP client like requests to get the document behind the URL, and feed that document to Beautiful Soup.\n",
      "  ' that document to Beautiful Soup.' % decoded_markup\n",
      "C:\\Users\\hongji\\Continuum\\anaconda3\\lib\\site-packages\\bs4\\__init__.py:273: UserWarning: \"b'.. .'\" looks like a filename, not markup. You should probably open this file and pass the filehandle into Beautiful Soup.\n",
      "  ' Beautiful Soup.' % markup)\n",
      "C:\\Users\\hongji\\Continuum\\anaconda3\\lib\\site-packages\\bs4\\__init__.py:336: UserWarning: \"http://jake-weird.blogspot.com/2007/08/beneath.html\"\" looks like a URL. Beautiful Soup is not an HTTP client. You should probably use an HTTP client like requests to get the document behind the URL, and feed that document to Beautiful Soup.\n",
      "  ' that document to Beautiful Soup.' % decoded_markup\n"
     ]
    }
   ],
   "source": [
    "sentences = []  # Initialize an empty list of sentences\n",
    "\n",
    "print(\"Parsing sentences from training set\")\n",
    "for review in train[\"review\"]:\n",
    "    sentences += review_to_sentences(review, tokenizer)\n",
    "\n",
    "print(\"Parsing sentences from unlabeled set\")\n",
    "for review in unlabeled_train[\"review\"]:\n",
    "    sentences += review_to_sentences(review, tokenizer)"
   ]
  },
  {
   "cell_type": "code",
   "execution_count": 14,
   "metadata": {},
   "outputs": [
    {
     "name": "stdout",
     "output_type": "stream",
     "text": [
      "795538\n"
     ]
    }
   ],
   "source": [
    "print(len(sentences))"
   ]
  },
  {
   "cell_type": "code",
   "execution_count": 15,
   "metadata": {},
   "outputs": [
    {
     "name": "stdout",
     "output_type": "stream",
     "text": [
      "['with', 'all', 'this', 'stuff', 'going', 'down', 'at', 'the', 'moment', 'with', 'mj', 'i', 've', 'started', 'listening', 'to', 'his', 'music', 'watching', 'the', 'odd', 'documentary', 'here', 'and', 'there', 'watched', 'the', 'wiz', 'and', 'watched', 'moonwalker', 'again']\n"
     ]
    }
   ],
   "source": [
    "print(sentences[0])"
   ]
  },
  {
   "cell_type": "code",
   "execution_count": 16,
   "metadata": {},
   "outputs": [
    {
     "name": "stdout",
     "output_type": "stream",
     "text": [
      "['maybe', 'i', 'just', 'want', 'to', 'get', 'a', 'certain', 'insight', 'into', 'this', 'guy', 'who', 'i', 'thought', 'was', 'really', 'cool', 'in', 'the', 'eighties', 'just', 'to', 'maybe', 'make', 'up', 'my', 'mind', 'whether', 'he', 'is', 'guilty', 'or', 'innocent']\n"
     ]
    }
   ],
   "source": [
    "print(sentences[1])"
   ]
  },
  {
   "cell_type": "code",
   "execution_count": 17,
   "metadata": {},
   "outputs": [],
   "source": [
    "import logging\n",
    "logging.basicConfig(format = '%(asctime)s : %(levelname)s : %(message)s', level=logging.INFO)"
   ]
  },
  {
   "cell_type": "code",
   "execution_count": 18,
   "metadata": {},
   "outputs": [
    {
     "name": "stderr",
     "output_type": "stream",
     "text": [
      "C:\\Users\\hongji\\Continuum\\anaconda3\\lib\\site-packages\\gensim\\utils.py:1197: UserWarning: detected Windows; aliasing chunkize to chunkize_serial\n",
      "  warnings.warn(\"detected Windows; aliasing chunkize to chunkize_serial\")\n",
      "2018-12-07 16:22:57,910 : INFO : 'pattern' package not found; tag filters are not available for English\n",
      "2018-12-07 16:22:57,916 : INFO : collecting all words and their counts\n",
      "2018-12-07 16:22:57,916 : INFO : PROGRESS: at sentence #0, processed 0 words, keeping 0 word types\n",
      "2018-12-07 16:22:57,956 : INFO : PROGRESS: at sentence #10000, processed 225803 words, keeping 17776 word types\n",
      "2018-12-07 16:22:57,996 : INFO : PROGRESS: at sentence #20000, processed 451892 words, keeping 24948 word types\n",
      "2018-12-07 16:22:58,035 : INFO : PROGRESS: at sentence #30000, processed 671315 words, keeping 30034 word types\n",
      "2018-12-07 16:22:58,076 : INFO : PROGRESS: at sentence #40000, processed 897815 words, keeping 34348 word types\n",
      "2018-12-07 16:22:58,120 : INFO : PROGRESS: at sentence #50000, processed 1116963 words, keeping 37761 word types\n"
     ]
    },
    {
     "name": "stdout",
     "output_type": "stream",
     "text": [
      "Training model...\n"
     ]
    },
    {
     "name": "stderr",
     "output_type": "stream",
     "text": [
      "2018-12-07 16:22:58,159 : INFO : PROGRESS: at sentence #60000, processed 1338404 words, keeping 40723 word types\n",
      "2018-12-07 16:22:58,200 : INFO : PROGRESS: at sentence #70000, processed 1561580 words, keeping 43333 word types\n",
      "2018-12-07 16:22:58,244 : INFO : PROGRESS: at sentence #80000, processed 1780887 words, keeping 45714 word types\n",
      "2018-12-07 16:22:58,286 : INFO : PROGRESS: at sentence #90000, processed 2004996 words, keeping 48135 word types\n",
      "2018-12-07 16:22:58,327 : INFO : PROGRESS: at sentence #100000, processed 2226966 words, keeping 50207 word types\n",
      "2018-12-07 16:22:58,372 : INFO : PROGRESS: at sentence #110000, processed 2446580 words, keeping 52081 word types\n",
      "2018-12-07 16:22:58,412 : INFO : PROGRESS: at sentence #120000, processed 2668775 words, keeping 54119 word types\n",
      "2018-12-07 16:22:58,453 : INFO : PROGRESS: at sentence #130000, processed 2894303 words, keeping 55847 word types\n",
      "2018-12-07 16:22:58,505 : INFO : PROGRESS: at sentence #140000, processed 3107005 words, keeping 57346 word types\n",
      "2018-12-07 16:22:58,546 : INFO : PROGRESS: at sentence #150000, processed 3332627 words, keeping 59055 word types\n",
      "2018-12-07 16:22:58,588 : INFO : PROGRESS: at sentence #160000, processed 3555315 words, keeping 60617 word types\n",
      "2018-12-07 16:22:58,632 : INFO : PROGRESS: at sentence #170000, processed 3778655 words, keeping 62077 word types\n",
      "2018-12-07 16:22:58,673 : INFO : PROGRESS: at sentence #180000, processed 3999236 words, keeping 63496 word types\n",
      "2018-12-07 16:22:58,715 : INFO : PROGRESS: at sentence #190000, processed 4224449 words, keeping 64794 word types\n",
      "2018-12-07 16:22:58,757 : INFO : PROGRESS: at sentence #200000, processed 4448603 words, keeping 66087 word types\n",
      "2018-12-07 16:22:58,800 : INFO : PROGRESS: at sentence #210000, processed 4669967 words, keeping 67390 word types\n",
      "2018-12-07 16:22:58,843 : INFO : PROGRESS: at sentence #220000, processed 4894968 words, keeping 68697 word types\n",
      "2018-12-07 16:22:58,888 : INFO : PROGRESS: at sentence #230000, processed 5117545 words, keeping 69958 word types\n",
      "2018-12-07 16:22:58,929 : INFO : PROGRESS: at sentence #240000, processed 5345050 words, keeping 71167 word types\n",
      "2018-12-07 16:22:58,972 : INFO : PROGRESS: at sentence #250000, processed 5559165 words, keeping 72351 word types\n",
      "2018-12-07 16:22:59,014 : INFO : PROGRESS: at sentence #260000, processed 5779146 words, keeping 73478 word types\n",
      "2018-12-07 16:22:59,059 : INFO : PROGRESS: at sentence #270000, processed 6000435 words, keeping 74767 word types\n",
      "2018-12-07 16:22:59,111 : INFO : PROGRESS: at sentence #280000, processed 6226314 words, keeping 76369 word types\n",
      "2018-12-07 16:22:59,162 : INFO : PROGRESS: at sentence #290000, processed 6449474 words, keeping 77839 word types\n",
      "2018-12-07 16:22:59,213 : INFO : PROGRESS: at sentence #300000, processed 6674077 words, keeping 79171 word types\n",
      "2018-12-07 16:22:59,262 : INFO : PROGRESS: at sentence #310000, processed 6899391 words, keeping 80480 word types\n",
      "2018-12-07 16:22:59,305 : INFO : PROGRESS: at sentence #320000, processed 7124278 words, keeping 81808 word types\n",
      "2018-12-07 16:22:59,360 : INFO : PROGRESS: at sentence #330000, processed 7346021 words, keeping 83030 word types\n",
      "2018-12-07 16:22:59,405 : INFO : PROGRESS: at sentence #340000, processed 7575533 words, keeping 84280 word types\n",
      "2018-12-07 16:22:59,448 : INFO : PROGRESS: at sentence #350000, processed 7798803 words, keeping 85425 word types\n",
      "2018-12-07 16:22:59,505 : INFO : PROGRESS: at sentence #360000, processed 8019427 words, keeping 86596 word types\n",
      "2018-12-07 16:22:59,559 : INFO : PROGRESS: at sentence #370000, processed 8246619 words, keeping 87708 word types\n",
      "2018-12-07 16:22:59,610 : INFO : PROGRESS: at sentence #380000, processed 8471766 words, keeping 88878 word types\n",
      "2018-12-07 16:22:59,660 : INFO : PROGRESS: at sentence #390000, processed 8701497 words, keeping 89907 word types\n",
      "2018-12-07 16:22:59,707 : INFO : PROGRESS: at sentence #400000, processed 8924446 words, keeping 90916 word types\n",
      "2018-12-07 16:22:59,755 : INFO : PROGRESS: at sentence #410000, processed 9145796 words, keeping 91880 word types\n",
      "2018-12-07 16:22:59,805 : INFO : PROGRESS: at sentence #420000, processed 9366876 words, keeping 92912 word types\n",
      "2018-12-07 16:22:59,846 : INFO : PROGRESS: at sentence #430000, processed 9594413 words, keeping 93932 word types\n",
      "2018-12-07 16:22:59,893 : INFO : PROGRESS: at sentence #440000, processed 9821166 words, keeping 94906 word types\n",
      "2018-12-07 16:22:59,936 : INFO : PROGRESS: at sentence #450000, processed 10044928 words, keeping 96036 word types\n",
      "2018-12-07 16:22:59,976 : INFO : PROGRESS: at sentence #460000, processed 10277688 words, keeping 97088 word types\n",
      "2018-12-07 16:23:00,022 : INFO : PROGRESS: at sentence #470000, processed 10505613 words, keeping 97933 word types\n",
      "2018-12-07 16:23:00,064 : INFO : PROGRESS: at sentence #480000, processed 10725997 words, keeping 98862 word types\n",
      "2018-12-07 16:23:00,110 : INFO : PROGRESS: at sentence #490000, processed 10952741 words, keeping 99871 word types\n",
      "2018-12-07 16:23:00,153 : INFO : PROGRESS: at sentence #500000, processed 11174397 words, keeping 100765 word types\n",
      "2018-12-07 16:23:00,196 : INFO : PROGRESS: at sentence #510000, processed 11399672 words, keeping 101699 word types\n",
      "2018-12-07 16:23:00,240 : INFO : PROGRESS: at sentence #520000, processed 11623020 words, keeping 102598 word types\n",
      "2018-12-07 16:23:00,280 : INFO : PROGRESS: at sentence #530000, processed 11847418 words, keeping 103400 word types\n",
      "2018-12-07 16:23:00,324 : INFO : PROGRESS: at sentence #540000, processed 12072033 words, keeping 104265 word types\n",
      "2018-12-07 16:23:00,367 : INFO : PROGRESS: at sentence #550000, processed 12297571 words, keeping 105133 word types\n",
      "2018-12-07 16:23:00,410 : INFO : PROGRESS: at sentence #560000, processed 12518861 words, keeping 105997 word types\n",
      "2018-12-07 16:23:00,452 : INFO : PROGRESS: at sentence #570000, processed 12747916 words, keeping 106787 word types\n",
      "2018-12-07 16:23:00,497 : INFO : PROGRESS: at sentence #580000, processed 12969412 words, keeping 107665 word types\n",
      "2018-12-07 16:23:00,542 : INFO : PROGRESS: at sentence #590000, processed 13194937 words, keeping 108501 word types\n",
      "2018-12-07 16:23:00,582 : INFO : PROGRESS: at sentence #600000, processed 13417135 words, keeping 109218 word types\n",
      "2018-12-07 16:23:00,625 : INFO : PROGRESS: at sentence #610000, processed 13638158 words, keeping 110092 word types\n",
      "2018-12-07 16:23:00,671 : INFO : PROGRESS: at sentence #620000, processed 13864483 words, keeping 110837 word types\n",
      "2018-12-07 16:23:00,710 : INFO : PROGRESS: at sentence #630000, processed 14088769 words, keeping 111610 word types\n",
      "2018-12-07 16:23:00,755 : INFO : PROGRESS: at sentence #640000, processed 14309552 words, keeping 112416 word types\n",
      "2018-12-07 16:23:00,795 : INFO : PROGRESS: at sentence #650000, processed 14535308 words, keeping 113196 word types\n",
      "2018-12-07 16:23:00,839 : INFO : PROGRESS: at sentence #660000, processed 14758098 words, keeping 113945 word types\n",
      "2018-12-07 16:23:00,883 : INFO : PROGRESS: at sentence #670000, processed 14981482 words, keeping 114643 word types\n",
      "2018-12-07 16:23:00,931 : INFO : PROGRESS: at sentence #680000, processed 15206314 words, keeping 115354 word types\n",
      "2018-12-07 16:23:00,971 : INFO : PROGRESS: at sentence #690000, processed 15428507 words, keeping 116131 word types\n",
      "2018-12-07 16:23:01,016 : INFO : PROGRESS: at sentence #700000, processed 15657213 words, keeping 116943 word types\n",
      "2018-12-07 16:23:01,064 : INFO : PROGRESS: at sentence #710000, processed 15880202 words, keeping 117596 word types\n",
      "2018-12-07 16:23:01,111 : INFO : PROGRESS: at sentence #720000, processed 16105489 words, keeping 118221 word types\n",
      "2018-12-07 16:23:01,159 : INFO : PROGRESS: at sentence #730000, processed 16331870 words, keeping 118954 word types\n",
      "2018-12-07 16:23:01,207 : INFO : PROGRESS: at sentence #740000, processed 16552903 words, keeping 119668 word types\n",
      "2018-12-07 16:23:01,261 : INFO : PROGRESS: at sentence #750000, processed 16771230 words, keeping 120295 word types\n",
      "2018-12-07 16:23:01,308 : INFO : PROGRESS: at sentence #760000, processed 16990622 words, keeping 120930 word types\n",
      "2018-12-07 16:23:01,357 : INFO : PROGRESS: at sentence #770000, processed 17217759 words, keeping 121703 word types\n"
     ]
    },
    {
     "name": "stderr",
     "output_type": "stream",
     "text": [
      "2018-12-07 16:23:01,402 : INFO : PROGRESS: at sentence #780000, processed 17447905 words, keeping 122402 word types\n",
      "2018-12-07 16:23:01,450 : INFO : PROGRESS: at sentence #790000, processed 17674981 words, keeping 123066 word types\n",
      "2018-12-07 16:23:01,476 : INFO : collected 123504 word types from a corpus of 17798082 raw words and 795538 sentences\n",
      "2018-12-07 16:23:01,477 : INFO : Loading a fresh vocabulary\n",
      "2018-12-07 16:23:01,541 : INFO : min_count=40 retains 16490 unique words (13% of original 123504, drops 107014)\n",
      "2018-12-07 16:23:01,541 : INFO : min_count=40 leaves 17238940 word corpus (96% of original 17798082, drops 559142)\n",
      "2018-12-07 16:23:01,591 : INFO : deleting the raw counts dictionary of 123504 items\n",
      "2018-12-07 16:23:01,595 : INFO : sample=0.001 downsamples 48 most-common words\n",
      "2018-12-07 16:23:01,596 : INFO : downsampling leaves estimated 12749658 word corpus (74.0% of prior 17238940)\n",
      "2018-12-07 16:23:01,648 : INFO : estimated required memory for 16490 words and 300 dimensions: 47821000 bytes\n",
      "2018-12-07 16:23:01,649 : INFO : resetting layer weights\n",
      "2018-12-07 16:23:01,869 : INFO : training model with 4 workers on 16490 vocabulary and 300 features, using sg=0 hs=0 sample=0.001 negative=5 window=10\n",
      "2018-12-07 16:23:02,881 : INFO : EPOCH 1 - PROGRESS: at 9.06% examples, 1143529 words/s, in_qsize 7, out_qsize 0\n",
      "2018-12-07 16:23:03,892 : INFO : EPOCH 1 - PROGRESS: at 17.96% examples, 1127763 words/s, in_qsize 7, out_qsize 0\n",
      "2018-12-07 16:23:04,895 : INFO : EPOCH 1 - PROGRESS: at 25.40% examples, 1065695 words/s, in_qsize 7, out_qsize 0\n",
      "2018-12-07 16:23:05,898 : INFO : EPOCH 1 - PROGRESS: at 32.86% examples, 1034457 words/s, in_qsize 7, out_qsize 0\n",
      "2018-12-07 16:23:06,898 : INFO : EPOCH 1 - PROGRESS: at 40.24% examples, 1016331 words/s, in_qsize 7, out_qsize 0\n",
      "2018-12-07 16:23:07,899 : INFO : EPOCH 1 - PROGRESS: at 47.56% examples, 1002748 words/s, in_qsize 7, out_qsize 0\n",
      "2018-12-07 16:23:08,902 : INFO : EPOCH 1 - PROGRESS: at 54.99% examples, 994853 words/s, in_qsize 7, out_qsize 0\n",
      "2018-12-07 16:23:09,904 : INFO : EPOCH 1 - PROGRESS: at 62.25% examples, 987458 words/s, in_qsize 7, out_qsize 0\n",
      "2018-12-07 16:23:10,918 : INFO : EPOCH 1 - PROGRESS: at 69.48% examples, 978748 words/s, in_qsize 7, out_qsize 0\n",
      "2018-12-07 16:23:11,923 : INFO : EPOCH 1 - PROGRESS: at 76.98% examples, 976172 words/s, in_qsize 7, out_qsize 0\n",
      "2018-12-07 16:23:12,926 : INFO : EPOCH 1 - PROGRESS: at 84.45% examples, 973666 words/s, in_qsize 8, out_qsize 0\n",
      "2018-12-07 16:23:13,931 : INFO : EPOCH 1 - PROGRESS: at 91.87% examples, 971389 words/s, in_qsize 7, out_qsize 0\n",
      "2018-12-07 16:23:14,936 : INFO : EPOCH 1 - PROGRESS: at 98.34% examples, 959711 words/s, in_qsize 7, out_qsize 0\n",
      "2018-12-07 16:23:15,167 : INFO : worker thread finished; awaiting finish of 3 more threads\n",
      "2018-12-07 16:23:15,176 : INFO : worker thread finished; awaiting finish of 2 more threads\n",
      "2018-12-07 16:23:15,192 : INFO : worker thread finished; awaiting finish of 1 more threads\n",
      "2018-12-07 16:23:15,194 : INFO : worker thread finished; awaiting finish of 0 more threads\n",
      "2018-12-07 16:23:15,194 : INFO : EPOCH - 1 : training on 17798082 raw words (12748079 effective words) took 13.3s, 957140 effective words/s\n",
      "2018-12-07 16:23:16,206 : INFO : EPOCH 2 - PROGRESS: at 7.08% examples, 896038 words/s, in_qsize 7, out_qsize 0\n",
      "2018-12-07 16:23:17,216 : INFO : EPOCH 2 - PROGRESS: at 14.62% examples, 919645 words/s, in_qsize 8, out_qsize 1\n",
      "2018-12-07 16:23:18,221 : INFO : EPOCH 2 - PROGRESS: at 22.03% examples, 923655 words/s, in_qsize 8, out_qsize 1\n",
      "2018-12-07 16:23:19,221 : INFO : EPOCH 2 - PROGRESS: at 29.42% examples, 928494 words/s, in_qsize 7, out_qsize 0\n",
      "2018-12-07 16:23:20,232 : INFO : EPOCH 2 - PROGRESS: at 36.85% examples, 927862 words/s, in_qsize 7, out_qsize 0\n",
      "2018-12-07 16:23:21,236 : INFO : EPOCH 2 - PROGRESS: at 44.27% examples, 931193 words/s, in_qsize 7, out_qsize 0\n",
      "2018-12-07 16:23:22,239 : INFO : EPOCH 2 - PROGRESS: at 51.52% examples, 930542 words/s, in_qsize 8, out_qsize 1\n",
      "2018-12-07 16:23:23,239 : INFO : EPOCH 2 - PROGRESS: at 58.79% examples, 931161 words/s, in_qsize 7, out_qsize 0\n",
      "2018-12-07 16:23:24,246 : INFO : EPOCH 2 - PROGRESS: at 66.17% examples, 931927 words/s, in_qsize 7, out_qsize 0\n",
      "2018-12-07 16:23:25,249 : INFO : EPOCH 2 - PROGRESS: at 73.56% examples, 933022 words/s, in_qsize 7, out_qsize 0\n",
      "2018-12-07 16:23:26,250 : INFO : EPOCH 2 - PROGRESS: at 80.76% examples, 931316 words/s, in_qsize 8, out_qsize 0\n",
      "2018-12-07 16:23:27,251 : INFO : EPOCH 2 - PROGRESS: at 87.91% examples, 929961 words/s, in_qsize 7, out_qsize 0\n",
      "2018-12-07 16:23:28,253 : INFO : EPOCH 2 - PROGRESS: at 93.80% examples, 916045 words/s, in_qsize 7, out_qsize 0\n",
      "2018-12-07 16:23:29,207 : INFO : worker thread finished; awaiting finish of 3 more threads\n",
      "2018-12-07 16:23:29,213 : INFO : worker thread finished; awaiting finish of 2 more threads\n",
      "2018-12-07 16:23:29,223 : INFO : worker thread finished; awaiting finish of 1 more threads\n",
      "2018-12-07 16:23:29,229 : INFO : worker thread finished; awaiting finish of 0 more threads\n",
      "2018-12-07 16:23:29,231 : INFO : EPOCH - 2 : training on 17798082 raw words (12750595 effective words) took 14.0s, 908804 effective words/s\n",
      "2018-12-07 16:23:30,244 : INFO : EPOCH 3 - PROGRESS: at 6.23% examples, 789539 words/s, in_qsize 7, out_qsize 0\n",
      "2018-12-07 16:23:31,245 : INFO : EPOCH 3 - PROGRESS: at 13.60% examples, 859272 words/s, in_qsize 7, out_qsize 0\n",
      "2018-12-07 16:23:32,253 : INFO : EPOCH 3 - PROGRESS: at 21.01% examples, 882643 words/s, in_qsize 7, out_qsize 0\n",
      "2018-12-07 16:23:33,260 : INFO : EPOCH 3 - PROGRESS: at 27.85% examples, 878583 words/s, in_qsize 8, out_qsize 0\n",
      "2018-12-07 16:23:34,264 : INFO : EPOCH 3 - PROGRESS: at 35.33% examples, 890664 words/s, in_qsize 7, out_qsize 0\n",
      "2018-12-07 16:23:35,276 : INFO : EPOCH 3 - PROGRESS: at 42.52% examples, 894268 words/s, in_qsize 7, out_qsize 0\n",
      "2018-12-07 16:23:36,278 : INFO : EPOCH 3 - PROGRESS: at 49.61% examples, 896182 words/s, in_qsize 8, out_qsize 0\n",
      "2018-12-07 16:23:37,285 : INFO : EPOCH 3 - PROGRESS: at 56.49% examples, 893191 words/s, in_qsize 8, out_qsize 0\n",
      "2018-12-07 16:23:38,286 : INFO : EPOCH 3 - PROGRESS: at 63.55% examples, 894680 words/s, in_qsize 7, out_qsize 0\n",
      "2018-12-07 16:23:39,293 : INFO : EPOCH 3 - PROGRESS: at 69.99% examples, 887013 words/s, in_qsize 8, out_qsize 1\n",
      "2018-12-07 16:23:40,304 : INFO : EPOCH 3 - PROGRESS: at 77.16% examples, 888725 words/s, in_qsize 8, out_qsize 0\n",
      "2018-12-07 16:23:41,307 : INFO : EPOCH 3 - PROGRESS: at 84.28% examples, 890089 words/s, in_qsize 7, out_qsize 0\n",
      "2018-12-07 16:23:42,311 : INFO : EPOCH 3 - PROGRESS: at 91.37% examples, 891241 words/s, in_qsize 8, out_qsize 0\n",
      "2018-12-07 16:23:43,311 : INFO : EPOCH 3 - PROGRESS: at 98.66% examples, 893917 words/s, in_qsize 8, out_qsize 1\n",
      "2018-12-07 16:23:43,463 : INFO : worker thread finished; awaiting finish of 3 more threads\n",
      "2018-12-07 16:23:43,481 : INFO : worker thread finished; awaiting finish of 2 more threads\n",
      "2018-12-07 16:23:43,483 : INFO : worker thread finished; awaiting finish of 1 more threads\n",
      "2018-12-07 16:23:43,485 : INFO : worker thread finished; awaiting finish of 0 more threads\n",
      "2018-12-07 16:23:43,486 : INFO : EPOCH - 3 : training on 17798082 raw words (12751062 effective words) took 14.2s, 894971 effective words/s\n",
      "2018-12-07 16:23:44,494 : INFO : EPOCH 4 - PROGRESS: at 7.02% examples, 892629 words/s, in_qsize 7, out_qsize 0\n",
      "2018-12-07 16:23:45,496 : INFO : EPOCH 4 - PROGRESS: at 14.17% examples, 895997 words/s, in_qsize 7, out_qsize 0\n",
      "2018-12-07 16:23:46,497 : INFO : EPOCH 4 - PROGRESS: at 20.73% examples, 873487 words/s, in_qsize 7, out_qsize 0\n",
      "2018-12-07 16:23:47,500 : INFO : EPOCH 4 - PROGRESS: at 27.63% examples, 874448 words/s, in_qsize 7, out_qsize 0\n",
      "2018-12-07 16:23:48,500 : INFO : EPOCH 4 - PROGRESS: at 34.27% examples, 866550 words/s, in_qsize 7, out_qsize 0\n",
      "2018-12-07 16:23:49,502 : INFO : EPOCH 4 - PROGRESS: at 41.49% examples, 875534 words/s, in_qsize 7, out_qsize 0\n",
      "2018-12-07 16:23:50,515 : INFO : EPOCH 4 - PROGRESS: at 48.49% examples, 877428 words/s, in_qsize 7, out_qsize 0\n",
      "2018-12-07 16:23:51,520 : INFO : EPOCH 4 - PROGRESS: at 55.55% examples, 879966 words/s, in_qsize 7, out_qsize 0\n",
      "2018-12-07 16:23:52,527 : INFO : EPOCH 4 - PROGRESS: at 62.54% examples, 881564 words/s, in_qsize 8, out_qsize 1\n"
     ]
    },
    {
     "name": "stderr",
     "output_type": "stream",
     "text": [
      "2018-12-07 16:23:53,531 : INFO : EPOCH 4 - PROGRESS: at 69.19% examples, 878244 words/s, in_qsize 7, out_qsize 0\n",
      "2018-12-07 16:23:54,531 : INFO : EPOCH 4 - PROGRESS: at 76.27% examples, 880294 words/s, in_qsize 7, out_qsize 0\n",
      "2018-12-07 16:23:55,532 : INFO : EPOCH 4 - PROGRESS: at 83.39% examples, 882583 words/s, in_qsize 7, out_qsize 0\n",
      "2018-12-07 16:23:56,541 : INFO : EPOCH 4 - PROGRESS: at 90.65% examples, 885511 words/s, in_qsize 7, out_qsize 0\n",
      "2018-12-07 16:23:57,541 : INFO : EPOCH 4 - PROGRESS: at 97.78% examples, 887147 words/s, in_qsize 6, out_qsize 1\n",
      "2018-12-07 16:23:57,823 : INFO : worker thread finished; awaiting finish of 3 more threads\n",
      "2018-12-07 16:23:57,830 : INFO : worker thread finished; awaiting finish of 2 more threads\n",
      "2018-12-07 16:23:57,837 : INFO : worker thread finished; awaiting finish of 1 more threads\n",
      "2018-12-07 16:23:57,843 : INFO : worker thread finished; awaiting finish of 0 more threads\n",
      "2018-12-07 16:23:57,844 : INFO : EPOCH - 4 : training on 17798082 raw words (12749147 effective words) took 14.4s, 888325 effective words/s\n",
      "2018-12-07 16:23:58,855 : INFO : EPOCH 5 - PROGRESS: at 7.02% examples, 891309 words/s, in_qsize 7, out_qsize 0\n",
      "2018-12-07 16:23:59,875 : INFO : EPOCH 5 - PROGRESS: at 14.17% examples, 887543 words/s, in_qsize 6, out_qsize 1\n",
      "2018-12-07 16:24:00,880 : INFO : EPOCH 5 - PROGRESS: at 21.29% examples, 890500 words/s, in_qsize 7, out_qsize 0\n",
      "2018-12-07 16:24:01,884 : INFO : EPOCH 5 - PROGRESS: at 28.37% examples, 892120 words/s, in_qsize 7, out_qsize 0\n",
      "2018-12-07 16:24:02,891 : INFO : EPOCH 5 - PROGRESS: at 35.44% examples, 891009 words/s, in_qsize 7, out_qsize 0\n",
      "2018-12-07 16:24:03,894 : INFO : EPOCH 5 - PROGRESS: at 42.47% examples, 892361 words/s, in_qsize 7, out_qsize 0\n",
      "2018-12-07 16:24:04,901 : INFO : EPOCH 5 - PROGRESS: at 49.38% examples, 890662 words/s, in_qsize 7, out_qsize 0\n",
      "2018-12-07 16:24:05,905 : INFO : EPOCH 5 - PROGRESS: at 56.60% examples, 894254 words/s, in_qsize 7, out_qsize 0\n",
      "2018-12-07 16:24:06,914 : INFO : EPOCH 5 - PROGRESS: at 63.39% examples, 890855 words/s, in_qsize 8, out_qsize 1\n",
      "2018-12-07 16:24:07,920 : INFO : EPOCH 5 - PROGRESS: at 70.49% examples, 892111 words/s, in_qsize 7, out_qsize 0\n",
      "2018-12-07 16:24:08,927 : INFO : EPOCH 5 - PROGRESS: at 77.32% examples, 889679 words/s, in_qsize 7, out_qsize 0\n",
      "2018-12-07 16:24:09,938 : INFO : EPOCH 5 - PROGRESS: at 84.12% examples, 886926 words/s, in_qsize 7, out_qsize 0\n",
      "2018-12-07 16:24:10,948 : INFO : EPOCH 5 - PROGRESS: at 90.12% examples, 877481 words/s, in_qsize 7, out_qsize 0\n",
      "2018-12-07 16:24:11,964 : INFO : EPOCH 5 - PROGRESS: at 96.03% examples, 867011 words/s, in_qsize 8, out_qsize 0\n",
      "2018-12-07 16:24:12,638 : INFO : worker thread finished; awaiting finish of 3 more threads\n",
      "2018-12-07 16:24:12,656 : INFO : worker thread finished; awaiting finish of 2 more threads\n",
      "2018-12-07 16:24:12,663 : INFO : worker thread finished; awaiting finish of 1 more threads\n",
      "2018-12-07 16:24:12,669 : INFO : worker thread finished; awaiting finish of 0 more threads\n",
      "2018-12-07 16:24:12,670 : INFO : EPOCH - 5 : training on 17798082 raw words (12749371 effective words) took 14.8s, 860377 effective words/s\n",
      "2018-12-07 16:24:12,671 : INFO : training on a 88990410 raw words (63748254 effective words) took 70.8s, 900389 effective words/s\n"
     ]
    }
   ],
   "source": [
    "num_features = 300\n",
    "min_word_count = 40\n",
    "num_workers = 4\n",
    "context =10\n",
    "downsampling = 1e-3\n",
    "\n",
    "from gensim.models import word2vec\n",
    "print(\"Training model...\")\n",
    "model = word2vec.Word2Vec(sentences, workers = num_workers, size = num_features, min_count = min_word_count, window = context, sample = downsampling)\n"
   ]
  },
  {
   "cell_type": "code",
   "execution_count": 19,
   "metadata": {},
   "outputs": [
    {
     "name": "stderr",
     "output_type": "stream",
     "text": [
      "2018-12-07 16:24:12,677 : INFO : precomputing L2-norms of word weight vectors\n"
     ]
    }
   ],
   "source": [
    "model.init_sims(replace = True)"
   ]
  },
  {
   "cell_type": "code",
   "execution_count": 20,
   "metadata": {},
   "outputs": [
    {
     "name": "stderr",
     "output_type": "stream",
     "text": [
      "2018-12-07 16:24:12,872 : INFO : saving Word2Vec object under 300features_40minwords_10context, separately None\n",
      "2018-12-07 16:24:12,874 : INFO : not storing attribute vectors_norm\n",
      "2018-12-07 16:24:12,874 : INFO : not storing attribute cum_table\n",
      "2018-12-07 16:24:13,343 : INFO : saved 300features_40minwords_10context\n"
     ]
    }
   ],
   "source": [
    "model_name = \"300features_40minwords_10context\"\n",
    "model.save(model_name)"
   ]
  },
  {
   "cell_type": "markdown",
   "metadata": {},
   "source": [
    "### Exploring the Model Results"
   ]
  },
  {
   "cell_type": "code",
   "execution_count": 21,
   "metadata": {},
   "outputs": [
    {
     "name": "stderr",
     "output_type": "stream",
     "text": [
      "C:\\Users\\hongji\\Continuum\\anaconda3\\lib\\site-packages\\ipykernel_launcher.py:1: DeprecationWarning: Call to deprecated `doesnt_match` (Method will be removed in 4.0.0, use self.wv.doesnt_match() instead).\n",
      "  \"\"\"Entry point for launching an IPython kernel.\n"
     ]
    },
    {
     "data": {
      "text/plain": [
       "'kitchen'"
      ]
     },
     "execution_count": 21,
     "metadata": {},
     "output_type": "execute_result"
    }
   ],
   "source": [
    "model.doesnt_match(\"man woman child kitchen\".split())"
   ]
  },
  {
   "cell_type": "code",
   "execution_count": 22,
   "metadata": {},
   "outputs": [
    {
     "name": "stderr",
     "output_type": "stream",
     "text": [
      "C:\\Users\\hongji\\Continuum\\anaconda3\\lib\\site-packages\\ipykernel_launcher.py:1: DeprecationWarning: Call to deprecated `doesnt_match` (Method will be removed in 4.0.0, use self.wv.doesnt_match() instead).\n",
      "  \"\"\"Entry point for launching an IPython kernel.\n"
     ]
    },
    {
     "data": {
      "text/plain": [
       "'berlin'"
      ]
     },
     "execution_count": 22,
     "metadata": {},
     "output_type": "execute_result"
    }
   ],
   "source": [
    "model.doesnt_match(\"france england germany berlin\".split())"
   ]
  },
  {
   "cell_type": "code",
   "execution_count": 23,
   "metadata": {},
   "outputs": [
    {
     "name": "stderr",
     "output_type": "stream",
     "text": [
      "C:\\Users\\hongji\\Continuum\\anaconda3\\lib\\site-packages\\ipykernel_launcher.py:1: DeprecationWarning: Call to deprecated `doesnt_match` (Method will be removed in 4.0.0, use self.wv.doesnt_match() instead).\n",
      "  \"\"\"Entry point for launching an IPython kernel.\n"
     ]
    },
    {
     "data": {
      "text/plain": [
       "'paris'"
      ]
     },
     "execution_count": 23,
     "metadata": {},
     "output_type": "execute_result"
    }
   ],
   "source": [
    "model.doesnt_match(\"paris berlin london austria\".split())"
   ]
  },
  {
   "cell_type": "code",
   "execution_count": 24,
   "metadata": {},
   "outputs": [
    {
     "name": "stderr",
     "output_type": "stream",
     "text": [
      "C:\\Users\\hongji\\Continuum\\anaconda3\\lib\\site-packages\\ipykernel_launcher.py:1: DeprecationWarning: Call to deprecated `most_similar` (Method will be removed in 4.0.0, use self.wv.most_similar() instead).\n",
      "  \"\"\"Entry point for launching an IPython kernel.\n"
     ]
    },
    {
     "data": {
      "text/plain": [
       "[('woman', 0.6199898719787598),\n",
       " ('lady', 0.5875682830810547),\n",
       " ('monk', 0.541907787322998),\n",
       " ('guy', 0.540055513381958),\n",
       " ('lad', 0.5359101891517639),\n",
       " ('person', 0.5129542350769043),\n",
       " ('farmer', 0.5112081170082092),\n",
       " ('millionaire', 0.5098932981491089),\n",
       " ('poet', 0.5077937245368958),\n",
       " ('soldier', 0.5071138739585876)]"
      ]
     },
     "execution_count": 24,
     "metadata": {},
     "output_type": "execute_result"
    }
   ],
   "source": [
    "model.most_similar(\"man\")"
   ]
  },
  {
   "cell_type": "code",
   "execution_count": 25,
   "metadata": {},
   "outputs": [
    {
     "name": "stderr",
     "output_type": "stream",
     "text": [
      "C:\\Users\\hongji\\Continuum\\anaconda3\\lib\\site-packages\\ipykernel_launcher.py:1: DeprecationWarning: Call to deprecated `most_similar` (Method will be removed in 4.0.0, use self.wv.most_similar() instead).\n",
      "  \"\"\"Entry point for launching an IPython kernel.\n"
     ]
    },
    {
     "data": {
      "text/plain": [
       "[('princess', 0.6501305103302002),\n",
       " ('bride', 0.6225188374519348),\n",
       " ('belle', 0.6057083606719971),\n",
       " ('maria', 0.5866658091545105),\n",
       " ('showgirl', 0.5830126404762268),\n",
       " ('voluptuous', 0.5761037468910217),\n",
       " ('mistress', 0.5753309726715088),\n",
       " ('stepmother', 0.5740993618965149),\n",
       " ('regina', 0.5702788829803467),\n",
       " ('goddess', 0.5691624879837036)]"
      ]
     },
     "execution_count": 25,
     "metadata": {},
     "output_type": "execute_result"
    }
   ],
   "source": [
    "model.most_similar(\"queen\")"
   ]
  },
  {
   "cell_type": "code",
   "execution_count": 26,
   "metadata": {},
   "outputs": [
    {
     "data": {
      "text/plain": [
       "[('princess', 0.6501305103302002),\n",
       " ('bride', 0.6225188374519348),\n",
       " ('belle', 0.6057083606719971),\n",
       " ('maria', 0.5866658091545105),\n",
       " ('showgirl', 0.5830126404762268),\n",
       " ('voluptuous', 0.5761037468910217),\n",
       " ('mistress', 0.5753309726715088),\n",
       " ('stepmother', 0.5740993618965149),\n",
       " ('regina', 0.5702788829803467),\n",
       " ('goddess', 0.5691624879837036)]"
      ]
     },
     "execution_count": 26,
     "metadata": {},
     "output_type": "execute_result"
    }
   ],
   "source": [
    "model.wv.most_similar(\"queen\")"
   ]
  },
  {
   "cell_type": "code",
   "execution_count": 27,
   "metadata": {},
   "outputs": [
    {
     "data": {
      "text/plain": [
       "[('terrible', 0.7752892374992371),\n",
       " ('horrible', 0.7612673044204712),\n",
       " ('atrocious', 0.7319850921630859),\n",
       " ('dreadful', 0.7110860347747803),\n",
       " ('abysmal', 0.7070614099502563),\n",
       " ('appalling', 0.6937450766563416),\n",
       " ('horrendous', 0.690858006477356),\n",
       " ('horrid', 0.6669932007789612),\n",
       " ('lousy', 0.6175165176391602),\n",
       " ('crappy', 0.6162477731704712)]"
      ]
     },
     "execution_count": 27,
     "metadata": {},
     "output_type": "execute_result"
    }
   ],
   "source": [
    "model.wv.most_similar(\"awful\")"
   ]
  },
  {
   "cell_type": "markdown",
   "metadata": {},
   "source": [
    "### Numeric Representations of Words"
   ]
  },
  {
   "cell_type": "code",
   "execution_count": 28,
   "metadata": {},
   "outputs": [
    {
     "name": "stderr",
     "output_type": "stream",
     "text": [
      "2018-12-07 16:24:13,420 : INFO : loading Word2Vec object from 300features_40minwords_10context\n",
      "2018-12-07 16:24:13,764 : INFO : loading wv recursively from 300features_40minwords_10context.wv.* with mmap=None\n",
      "2018-12-07 16:24:13,765 : INFO : setting ignored attribute vectors_norm to None\n",
      "2018-12-07 16:24:13,765 : INFO : loading vocabulary recursively from 300features_40minwords_10context.vocabulary.* with mmap=None\n",
      "2018-12-07 16:24:13,766 : INFO : loading trainables recursively from 300features_40minwords_10context.trainables.* with mmap=None\n",
      "2018-12-07 16:24:13,766 : INFO : setting ignored attribute cum_table to None\n",
      "2018-12-07 16:24:13,767 : INFO : loaded 300features_40minwords_10context\n"
     ]
    }
   ],
   "source": [
    "from gensim.models import Word2Vec\n",
    "\n",
    "model = Word2Vec.load(\"300features_40minwords_10context\")"
   ]
  },
  {
   "cell_type": "code",
   "execution_count": 29,
   "metadata": {},
   "outputs": [
    {
     "name": "stderr",
     "output_type": "stream",
     "text": [
      "C:\\Users\\hongji\\Continuum\\anaconda3\\lib\\site-packages\\ipykernel_launcher.py:1: DeprecationWarning: Call to deprecated `syn0` (Attribute will be removed in 4.0.0, use self.wv.vectors instead).\n",
      "  \"\"\"Entry point for launching an IPython kernel.\n"
     ]
    },
    {
     "data": {
      "text/plain": [
       "numpy.ndarray"
      ]
     },
     "execution_count": 29,
     "metadata": {},
     "output_type": "execute_result"
    }
   ],
   "source": [
    "type(model.wv.syn0)"
   ]
  },
  {
   "cell_type": "code",
   "execution_count": 30,
   "metadata": {},
   "outputs": [
    {
     "name": "stderr",
     "output_type": "stream",
     "text": [
      "C:\\Users\\hongji\\Continuum\\anaconda3\\lib\\site-packages\\ipykernel_launcher.py:1: DeprecationWarning: Call to deprecated `syn0` (Attribute will be removed in 4.0.0, use self.wv.vectors instead).\n",
      "  \"\"\"Entry point for launching an IPython kernel.\n"
     ]
    },
    {
     "data": {
      "text/plain": [
       "(16490, 300)"
      ]
     },
     "execution_count": 30,
     "metadata": {},
     "output_type": "execute_result"
    }
   ],
   "source": [
    "model.wv.syn0.shape"
   ]
  },
  {
   "cell_type": "code",
   "execution_count": 31,
   "metadata": {},
   "outputs": [
    {
     "name": "stderr",
     "output_type": "stream",
     "text": [
      "C:\\Users\\hongji\\Continuum\\anaconda3\\lib\\site-packages\\ipykernel_launcher.py:1: DeprecationWarning: Call to deprecated `__getitem__` (Method will be removed in 4.0.0, use self.wv.__getitem__() instead).\n",
      "  \"\"\"Entry point for launching an IPython kernel.\n"
     ]
    },
    {
     "data": {
      "text/plain": [
       "array([-6.79905489e-02,  4.79103401e-02, -7.51963407e-02, -7.59368315e-02,\n",
       "        3.18425559e-02,  7.46567100e-02,  1.43892169e-02, -1.16791233e-01,\n",
       "        1.13090694e-01,  5.09426482e-02,  4.31687124e-02,  1.25429593e-03,\n",
       "       -8.40775073e-02,  9.23774838e-02,  8.08008909e-02,  1.19474724e-01,\n",
       "       -9.90575701e-02,  1.29886687e-01,  2.33578049e-02, -7.16446294e-03,\n",
       "       -1.11426321e-04,  8.59347284e-02,  2.12857220e-02,  6.49599871e-03,\n",
       "       -2.37856377e-02,  1.19387291e-01,  6.49650395e-02,  2.89626569e-02,\n",
       "       -2.72357860e-03,  4.10408154e-02, -3.72854657e-02, -9.46135893e-02,\n",
       "        8.01337063e-02, -9.58624333e-02, -1.21818595e-01, -1.12912841e-02,\n",
       "        5.71373552e-02, -1.66012831e-02, -2.96142977e-02, -8.85493830e-02,\n",
       "        5.05695306e-02,  6.40890673e-02,  3.42576727e-02, -3.62741500e-02,\n",
       "        9.64733511e-02,  5.63212372e-02, -6.51532784e-02,  2.83266827e-02,\n",
       "        9.77551751e-03, -4.12805490e-02, -3.16814194e-03, -5.11106364e-02,\n",
       "        5.10611795e-02,  2.07801759e-02,  5.83009645e-02, -1.07372534e-02,\n",
       "        1.29629243e-02,  3.85528132e-02,  6.80713430e-02,  1.03766128e-01,\n",
       "        2.43253913e-02, -2.82048695e-02, -4.94754761e-02,  7.89510738e-03,\n",
       "        1.35888942e-02, -5.03120497e-02,  5.34964837e-02, -7.79071674e-02,\n",
       "       -6.37488738e-02, -2.39734337e-01, -1.88066065e-02, -4.19943668e-02,\n",
       "        2.26345994e-02,  1.18544526e-01,  9.19696540e-02,  6.71404675e-02,\n",
       "        1.52289430e-02,  2.78319307e-02,  1.11649267e-01,  6.90088281e-03,\n",
       "       -1.61809195e-03, -2.99961194e-02, -3.69645283e-02, -2.50066500e-02,\n",
       "        1.26757417e-02, -7.50780851e-02, -3.45762558e-02, -1.28681362e-02,\n",
       "       -3.92100625e-02,  2.06323359e-02,  4.65256087e-02, -9.78394132e-03,\n",
       "       -1.97641533e-02, -1.74174048e-02, -8.27462152e-02,  5.75909391e-03,\n",
       "        6.05162717e-02, -2.68149972e-02,  4.09610718e-02, -5.37407473e-02,\n",
       "       -1.79704934e-01, -4.56624813e-02,  1.33443266e-01, -4.21534330e-02,\n",
       "       -2.11641081e-02,  3.81548926e-02, -4.06375304e-02, -1.18340403e-01,\n",
       "        3.12096532e-02,  3.49408574e-02,  9.32596624e-02, -2.45047230e-02,\n",
       "       -2.32810769e-02,  3.98194343e-02, -5.61682433e-02,  5.33111840e-02,\n",
       "        1.46122614e-03,  4.56956821e-03,  1.18254401e-01,  5.12133278e-02,\n",
       "        6.65042400e-02, -2.02194937e-02, -7.36908540e-02, -4.66743484e-02,\n",
       "       -9.87534076e-02, -3.65995162e-04,  7.07549835e-03,  2.17812285e-02,\n",
       "        1.94415569e-01, -6.99309930e-02,  3.22885327e-02, -4.95745838e-02,\n",
       "       -2.51608919e-02,  8.89953896e-02,  5.28276376e-02,  5.87284006e-02,\n",
       "        1.13886707e-02,  4.67313081e-02,  6.92101428e-04,  8.16271603e-02,\n",
       "        1.10802054e-01, -1.21678105e-02, -2.05798186e-02, -7.43519589e-02,\n",
       "       -9.85245872e-03, -7.76657760e-02,  1.39076924e-02, -5.64855803e-03,\n",
       "       -9.39462893e-03,  1.26690092e-02,  4.28617885e-03,  5.33807687e-02,\n",
       "        4.41364758e-02, -4.15110141e-02, -7.34810904e-02, -4.76436689e-03,\n",
       "        5.31017482e-02, -1.03352897e-01,  7.43820220e-02,  5.74536854e-03,\n",
       "        3.36504318e-02,  3.98505554e-02,  5.22913262e-02, -4.83871326e-02,\n",
       "       -5.37917726e-02,  6.73568174e-02,  1.03606492e-01, -4.43094559e-02,\n",
       "        1.44284097e-02,  3.52997221e-02, -3.42147090e-02, -4.52904031e-02,\n",
       "        1.07544102e-02, -6.84752986e-02, -1.81020182e-02,  9.87235643e-03,\n",
       "       -6.10413961e-02,  1.90266389e-02,  4.60797139e-02, -8.41893628e-02,\n",
       "        1.85333323e-02, -4.71868850e-02, -2.23348457e-02, -7.19470857e-03,\n",
       "       -4.93522249e-02,  1.86592370e-01,  8.09947476e-02, -3.42301987e-02,\n",
       "       -4.84458804e-02, -3.41237970e-02, -3.96471433e-02,  7.73496255e-02,\n",
       "        1.64367761e-02,  4.09433693e-02, -6.14330657e-02, -2.17820983e-02,\n",
       "        2.01671291e-02,  5.55335283e-02,  4.74236645e-02, -5.23363799e-03,\n",
       "        2.08100472e-02,  4.08767648e-02, -4.26592305e-02, -2.22088527e-02,\n",
       "       -4.11646739e-02,  3.30123939e-02,  1.50237661e-02, -4.11549509e-02,\n",
       "       -4.02045138e-02,  7.35319629e-02,  4.40693758e-02, -7.04833400e-03,\n",
       "       -3.58560197e-02, -9.44521045e-04, -5.90525568e-02, -6.42798841e-02,\n",
       "        1.06557705e-01, -3.15916948e-02,  1.01529166e-01, -6.59645572e-02,\n",
       "       -6.68732226e-02,  4.93692495e-02, -5.51237874e-02, -4.90159430e-02,\n",
       "        1.68568292e-03, -8.05846676e-02,  4.91475351e-02,  2.71901414e-02,\n",
       "        6.41747657e-03, -7.65832933e-03,  4.53862250e-02,  1.62218362e-02,\n",
       "       -1.75685771e-02,  5.78850135e-02, -4.68490757e-02,  4.95946035e-02,\n",
       "       -4.19137403e-02,  4.73566540e-02,  1.16068767e-02, -7.40563497e-03,\n",
       "        2.01554634e-02, -9.36386269e-03, -4.78608049e-02, -1.07899839e-02,\n",
       "       -2.56982539e-02, -5.58563657e-02, -3.87006328e-02, -7.06553757e-02,\n",
       "        1.71897002e-02,  6.63153902e-02,  4.06227335e-02, -4.70133238e-02,\n",
       "       -4.12602387e-02,  2.46190443e-03,  3.96747366e-02,  1.17724249e-02,\n",
       "        8.03356022e-02, -6.38529137e-02,  2.81223916e-02, -9.34737697e-02,\n",
       "       -1.01542078e-01, -3.44788358e-02, -3.89483795e-02, -2.57254634e-02,\n",
       "        7.88257346e-02, -3.09389345e-02, -2.69618854e-02,  3.30350827e-03,\n",
       "       -6.93991035e-02,  3.47380415e-02,  2.59132590e-03,  2.05046916e-03,\n",
       "        1.19591922e-01, -2.00670604e-02,  4.28154096e-02, -5.90662472e-03,\n",
       "        1.38424663e-02, -1.21103076e-03, -2.85798050e-02,  1.92374606e-02,\n",
       "       -3.03298440e-02, -2.85128783e-02,  6.12326562e-02, -3.29402797e-02,\n",
       "       -5.18290028e-02, -9.81495529e-03,  3.39313261e-02, -2.01758128e-02,\n",
       "       -2.51018405e-02, -4.59426194e-02, -6.00060001e-02, -3.46147008e-02,\n",
       "        2.05870215e-02,  1.68254618e-02, -8.39541387e-03,  6.48687333e-02,\n",
       "       -7.10082427e-02, -5.16407890e-03, -5.31769395e-02, -9.86473076e-03],\n",
       "      dtype=float32)"
      ]
     },
     "execution_count": 31,
     "metadata": {},
     "output_type": "execute_result"
    }
   ],
   "source": [
    "model[\"flower\"]"
   ]
  },
  {
   "cell_type": "markdown",
   "metadata": {},
   "source": [
    "### From Words To Paragraphs, Attempt 1: Vector Averaging"
   ]
  },
  {
   "cell_type": "code",
   "execution_count": 32,
   "metadata": {},
   "outputs": [],
   "source": [
    "import numpy as np"
   ]
  },
  {
   "cell_type": "code",
   "execution_count": 33,
   "metadata": {},
   "outputs": [],
   "source": [
    "def makeFeatureVec(words, model, num_features):\n",
    "    featureVec = np.zeros((num_features,), dtype = \"float32\")\n",
    "    nwords = 0.\n",
    "    index2word_set = set(model.wv.index2word)\n",
    "    \n",
    "    for word in words:\n",
    "        if word in index2word_set:\n",
    "            nwords = nwords +1.\n",
    "            featureVec = np.add(featureVec,model[word])\n",
    "    featureVec = np.divide(featureVec, nwords)\n",
    "    return featureVec"
   ]
  },
  {
   "cell_type": "code",
   "execution_count": 34,
   "metadata": {},
   "outputs": [],
   "source": [
    "def getAvgFeatureVecs(reviews, model, num_features):\n",
    "    counter = 0\n",
    "    reviewFeatureVecs = np.zeros((len(reviews), num_features), dtype = \"float32\")\n",
    "    \n",
    "    for review in reviews:\n",
    "        if counter%1000. == 0.:\n",
    "            print(\"Review %d of %d\" % (counter, len(reviews)))\n",
    "        \n",
    "        reviewFeatureVecs[counter] = makeFeatureVec(review, model, num_features)\n",
    "        \n",
    "        counter = counter + 1\n",
    "    return reviewFeatureVecs"
   ]
  },
  {
   "cell_type": "code",
   "execution_count": 35,
   "metadata": {},
   "outputs": [
    {
     "name": "stdout",
     "output_type": "stream",
     "text": [
      "Review 0 of 25000\n"
     ]
    },
    {
     "name": "stderr",
     "output_type": "stream",
     "text": [
      "C:\\Users\\hongji\\Continuum\\anaconda3\\lib\\site-packages\\ipykernel_launcher.py:9: DeprecationWarning: Call to deprecated `__getitem__` (Method will be removed in 4.0.0, use self.wv.__getitem__() instead).\n",
      "  if __name__ == '__main__':\n"
     ]
    },
    {
     "name": "stdout",
     "output_type": "stream",
     "text": [
      "Review 1000 of 25000\n",
      "Review 2000 of 25000\n",
      "Review 3000 of 25000\n",
      "Review 4000 of 25000\n",
      "Review 5000 of 25000\n",
      "Review 6000 of 25000\n",
      "Review 7000 of 25000\n",
      "Review 8000 of 25000\n",
      "Review 9000 of 25000\n",
      "Review 10000 of 25000\n",
      "Review 11000 of 25000\n",
      "Review 12000 of 25000\n",
      "Review 13000 of 25000\n",
      "Review 14000 of 25000\n",
      "Review 15000 of 25000\n",
      "Review 16000 of 25000\n",
      "Review 17000 of 25000\n",
      "Review 18000 of 25000\n",
      "Review 19000 of 25000\n",
      "Review 20000 of 25000\n",
      "Review 21000 of 25000\n",
      "Review 22000 of 25000\n",
      "Review 23000 of 25000\n",
      "Review 24000 of 25000\n",
      "Creating average feature vecs for test reviews\n",
      "Review 0 of 25000\n",
      "Review 1000 of 25000\n",
      "Review 2000 of 25000\n",
      "Review 3000 of 25000\n",
      "Review 4000 of 25000\n",
      "Review 5000 of 25000\n",
      "Review 6000 of 25000\n",
      "Review 7000 of 25000\n",
      "Review 8000 of 25000\n",
      "Review 9000 of 25000\n",
      "Review 10000 of 25000\n",
      "Review 11000 of 25000\n",
      "Review 12000 of 25000\n",
      "Review 13000 of 25000\n",
      "Review 14000 of 25000\n",
      "Review 15000 of 25000\n",
      "Review 16000 of 25000\n",
      "Review 17000 of 25000\n",
      "Review 18000 of 25000\n",
      "Review 19000 of 25000\n",
      "Review 20000 of 25000\n",
      "Review 21000 of 25000\n",
      "Review 22000 of 25000\n",
      "Review 23000 of 25000\n",
      "Review 24000 of 25000\n"
     ]
    }
   ],
   "source": [
    "clean_train_reviews = []\n",
    "for review in train[\"review\"]:\n",
    "    clean_train_reviews.append(review_to_wordlist(review, remove_stopwords=True))\n",
    "\n",
    "trainDataVecs = getAvgFeatureVecs(clean_train_reviews, model, num_features)\n",
    "\n",
    "print(\"Creating average feature vecs for test reviews\")\n",
    "clean_test_reviews = []\n",
    "for review in test[\"review\"]:\n",
    "    clean_test_reviews.append(review_to_wordlist(review, remove_stopwords = True))\n",
    "    \n",
    "testDataVecs = getAvgFeatureVecs(clean_test_reviews, model, num_features)"
   ]
  },
  {
   "cell_type": "code",
   "execution_count": 36,
   "metadata": {},
   "outputs": [
    {
     "data": {
      "text/plain": [
       "array([[-1.22751715e-02, -2.28399653e-02,  1.54675404e-02, ...,\n",
       "         3.55393649e-03,  1.02672046e-02, -1.08140509e-03],\n",
       "       [-4.02781516e-02, -2.21547037e-02,  4.35531884e-02, ...,\n",
       "         1.58176292e-02,  1.13732219e-02,  6.55760244e-03],\n",
       "       [-2.17449795e-02, -3.47934058e-03,  2.20970642e-02, ...,\n",
       "         2.82143810e-05, -8.82775057e-03,  4.53439448e-03],\n",
       "       ...,\n",
       "       [-4.74437140e-03, -3.02658062e-02,  2.76851412e-02, ...,\n",
       "         7.74862361e-04,  8.89352243e-03,  6.67165639e-03],\n",
       "       [-3.38495634e-02, -4.08084430e-02,  2.63757557e-02, ...,\n",
       "         7.25536491e-04, -1.94670241e-02, -4.95104166e-03],\n",
       "       [-4.29469347e-02, -2.60304827e-02,  2.50425301e-02, ...,\n",
       "         2.11889227e-03, -1.64426398e-02,  6.92247692e-03]], dtype=float32)"
      ]
     },
     "execution_count": 36,
     "metadata": {},
     "output_type": "execute_result"
    }
   ],
   "source": [
    "trainDataVecs"
   ]
  },
  {
   "cell_type": "code",
   "execution_count": 37,
   "metadata": {},
   "outputs": [
    {
     "data": {
      "text/plain": [
       "array([[-0.02519491, -0.03208986,  0.02594041, ..., -0.01933474,\n",
       "        -0.01815491, -0.00064313],\n",
       "       [-0.02925995, -0.02932343,  0.04511272, ..., -0.00550658,\n",
       "         0.00380823,  0.01080793],\n",
       "       [-0.03003048, -0.04275   ,  0.04341628, ..., -0.00849386,\n",
       "         0.00066014,  0.00673819],\n",
       "       ...,\n",
       "       [-0.02959181, -0.02622495,  0.02530962, ..., -0.00733268,\n",
       "         0.01838987,  0.00809767],\n",
       "       [-0.02866081, -0.01544304, -0.00133891, ..., -0.01768848,\n",
       "        -0.00772899,  0.00056236],\n",
       "       [-0.02626836, -0.02471805,  0.02522402, ...,  0.00470375,\n",
       "        -0.00574452,  0.00684188]], dtype=float32)"
      ]
     },
     "execution_count": 37,
     "metadata": {},
     "output_type": "execute_result"
    }
   ],
   "source": [
    "testDataVecs"
   ]
  },
  {
   "cell_type": "code",
   "execution_count": 38,
   "metadata": {},
   "outputs": [
    {
     "name": "stderr",
     "output_type": "stream",
     "text": [
      "C:\\Users\\hongji\\Continuum\\anaconda3\\lib\\site-packages\\sklearn\\ensemble\\weight_boosting.py:29: DeprecationWarning: numpy.core.umath_tests is an internal NumPy module and should not be imported. It will be removed in a future NumPy release.\n",
      "  from numpy.core.umath_tests import inner1d\n"
     ]
    },
    {
     "name": "stdout",
     "output_type": "stream",
     "text": [
      "Fitting a random forest to labeled training data...\n"
     ]
    }
   ],
   "source": [
    "from sklearn.ensemble import RandomForestClassifier\n",
    "forest = RandomForestClassifier( n_estimators = 100)\n",
    "\n",
    "print(\"Fitting a random forest to labeled training data...\")\n",
    "forest = forest.fit(trainDataVecs, train[\"sentiment\"])\n",
    "\n",
    "result = forest.predict(testDataVecs)\n",
    "\n",
    "output = pd.DataFrame(data = {\"id\":test[\"id\"], \"sentiment\":result})\n",
    "output.to_csv(\"Word2Vec_AverageVectors.csv\", index=False, quoting = 3)"
   ]
  },
  {
   "cell_type": "code",
   "execution_count": null,
   "metadata": {},
   "outputs": [],
   "source": []
  },
  {
   "cell_type": "markdown",
   "metadata": {},
   "source": [
    "### From Words to Paragraphs, Attempt 2: Clustering"
   ]
  },
  {
   "cell_type": "code",
   "execution_count": 39,
   "metadata": {},
   "outputs": [],
   "source": [
    "from sklearn.cluster import KMeans\n",
    "import time"
   ]
  },
  {
   "cell_type": "code",
   "execution_count": null,
   "metadata": {},
   "outputs": [],
   "source": []
  },
  {
   "cell_type": "code",
   "execution_count": 40,
   "metadata": {},
   "outputs": [
    {
     "name": "stderr",
     "output_type": "stream",
     "text": [
      "C:\\Users\\hongji\\Continuum\\anaconda3\\lib\\site-packages\\ipykernel_launcher.py:3: DeprecationWarning: Call to deprecated `syn0` (Attribute will be removed in 4.0.0, use self.wv.vectors instead).\n",
      "  This is separate from the ipykernel package so we can avoid doing imports until\n",
      "C:\\Users\\hongji\\Continuum\\anaconda3\\lib\\site-packages\\ipykernel_launcher.py:5: DeprecationWarning: Call to deprecated `syn0` (Attribute will be removed in 4.0.0, use self.wv.vectors instead).\n",
      "  \"\"\"\n",
      "C:\\Users\\hongji\\Continuum\\anaconda3\\lib\\site-packages\\sklearn\\metrics\\pairwise.py:257: RuntimeWarning: invalid value encountered in sqrt\n",
      "  return distances if squared else np.sqrt(distances, out=distances)\n"
     ]
    },
    {
     "name": "stdout",
     "output_type": "stream",
     "text": [
      "Time taken for K Means clustering:  580.6943757534027 seconds.\n"
     ]
    }
   ],
   "source": [
    "start = time.time()\n",
    "\n",
    "model.wv.syn0\n",
    "\n",
    "word_vectors = model.wv.syn0\n",
    "num_clusters = int(word_vectors.shape[0] / 5)\n",
    "\n",
    "kmeans_clustering = KMeans(n_clusters = num_clusters)\n",
    "idx = kmeans_clustering.fit_predict(word_vectors)\n",
    "\n",
    "end = time.time()\n",
    "elapsed = end - start\n",
    "print(\"Time taken for K Means clustering: \", elapsed, \"seconds.\")"
   ]
  },
  {
   "cell_type": "code",
   "execution_count": 41,
   "metadata": {},
   "outputs": [],
   "source": [
    "word_centroid_map = dict(zip(model.wv.index2word, idx))"
   ]
  },
  {
   "cell_type": "code",
   "execution_count": 52,
   "metadata": {},
   "outputs": [
    {
     "name": "stdout",
     "output_type": "stream",
     "text": [
      "\n",
      "Cluster 0\n",
      "['boss', 'leader', 'rival', 'pirate', 'rivals', 'arch', 'foe', 'recruit']\n",
      "\n",
      "Cluster 1\n",
      "['sophisticated', 'refined']\n",
      "\n",
      "Cluster 2\n",
      "['terry', 'doc', 'benjamin', 'noah', 'sherman', 'clyde', 'gilliam', 'kramer', 'cromwell', 'theodore', 'mckenzie', 'arabia', 'terrence', 'forsyth', 'aldrich', 'flaherty', 'costa', 'koch']\n",
      "\n",
      "Cluster 3\n",
      "['disappear', 'vanish']\n",
      "\n",
      "Cluster 4\n",
      "['smash', 'plate', 'ropes', 'bolt']\n",
      "\n",
      "Cluster 5\n",
      "['intelligence', 'decency', 'intellect']\n",
      "\n",
      "Cluster 6\n",
      "['mainland', 'beijing']\n",
      "\n",
      "Cluster 7\n",
      "['overkill', 'repetitious']\n",
      "\n",
      "Cluster 8\n",
      "['remarkable', 'magnificent', 'fabulous', 'marvelous', 'tremendous', 'splendid', 'masterful', 'sublime', 'shakespearean', 'superlative', 'sparkling', 'robust', 'sturdy', 'bravura']\n",
      "\n",
      "Cluster 9\n",
      "['fun', 'entertaining', 'enjoyable', 'exciting', 'amusing', 'watchable', 'addictive', 'recommendable']\n"
     ]
    }
   ],
   "source": [
    "for cluster in range(0,10):\n",
    "    print(\"\\nCluster %d\" % cluster)\n",
    "    words = []\n",
    "    for i in range(0, len(word_centroid_map.values())):\n",
    "        if(list(word_centroid_map.values())[i] == cluster):\n",
    "            words.append(list(word_centroid_map.keys())[i])\n",
    "    print(words)"
   ]
  },
  {
   "cell_type": "code",
   "execution_count": 58,
   "metadata": {},
   "outputs": [],
   "source": [
    "def create_bag_of_centroids(wordlist, word_centroid_map):\n",
    "    num_centroids = max(word_centroid_map.values()) + 1\n",
    "    bag_of_centroids = np.zeros(num_centroids, dtype=\"float32\")\n",
    "    for word in wordlist:\n",
    "        if word in word_centroid_map:\n",
    "            index = word_centroid_map[word]\n",
    "            bag_of_centroids[index] += 1\n",
    "    return bag_of_centroids"
   ]
  },
  {
   "cell_type": "code",
   "execution_count": 59,
   "metadata": {},
   "outputs": [],
   "source": [
    "train_centroids = np.zeros((train[\"review\"].size, num_clusters), dtype = \"float32\")\n",
    "\n",
    "counter = 0\n",
    "for review in clean_train_reviews:\n",
    "    train_centroids[counter] = create_bag_of_centroids(review, word_centroid_map)\n",
    "    counter += 1\n",
    "    \n",
    "test_centroids = np.zeros((test[\"review\"].size, num_clusters), dtype = \"float32\")\n",
    "\n",
    "counter = 0\n",
    "for review in clean_test_reviews:\n",
    "    test_centroids[counter] = create_bag_of_centroids(review, word_centroid_map)\n",
    "    counter += 1\n",
    "    \n"
   ]
  },
  {
   "cell_type": "code",
   "execution_count": 60,
   "metadata": {},
   "outputs": [
    {
     "name": "stdout",
     "output_type": "stream",
     "text": [
      "Fitting a random forest to labeled training data...\n"
     ]
    }
   ],
   "source": [
    "forest = RandomForestClassifier(n_estimators=100)\n",
    "\n",
    "print(\"Fitting a random forest to labeled training data...\")\n",
    "forest = forest.fit(train_centroids, train[\"sentiment\"])\n",
    "result = forest.predict(test_centroids)\n",
    "\n",
    "output = pd.DataFrame(data = {\"id\":test[\"id\"], \"sentiment\": result})\n",
    "output.to_csv(\"BagOfCentroids.csv\", index = False, quoting= 3)"
   ]
  },
  {
   "cell_type": "code",
   "execution_count": null,
   "metadata": {},
   "outputs": [],
   "source": []
  }
 ],
 "metadata": {
  "kernelspec": {
   "display_name": "Python 3",
   "language": "python",
   "name": "python3"
  },
  "language_info": {
   "codemirror_mode": {
    "name": "ipython",
    "version": 3
   },
   "file_extension": ".py",
   "mimetype": "text/x-python",
   "name": "python",
   "nbconvert_exporter": "python",
   "pygments_lexer": "ipython3",
   "version": "3.7.0"
  }
 },
 "nbformat": 4,
 "nbformat_minor": 2
}
