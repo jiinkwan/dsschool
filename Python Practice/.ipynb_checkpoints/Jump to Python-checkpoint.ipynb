{
 "cells": [
  {
   "cell_type": "markdown",
   "metadata": {},
   "source": [
    "# 점프 투 파이썬 연습문제"
   ]
  },
  {
   "cell_type": "markdown",
   "metadata": {},
   "source": [
    "## 파이썬 프로그래밍의 기초, 자료형"
   ]
  },
  {
   "cell_type": "markdown",
   "metadata": {},
   "source": [
    "### 숫자형"
   ]
  },
  {
   "cell_type": "markdown",
   "metadata": {},
   "source": [
    "[문제1] 점수의 평균\n",
    "\n",
    "홍길동씨의 과목별 점수는 각각 다음과 같다.\n",
    "\n",
    "과목\t점수  \n",
    "국어\t80  \n",
    "영어\t75  \n",
    "수학\t55  \n",
    "홍길동씨의 평균점수를 구하시오.\n"
   ]
  },
  {
   "cell_type": "code",
   "execution_count": 4,
   "metadata": {},
   "outputs": [
    {
     "data": {
      "text/plain": [
       "70.0"
      ]
     },
     "execution_count": 4,
     "metadata": {},
     "output_type": "execute_result"
    }
   ],
   "source": [
    "korean = 80\n",
    "english = 75\n",
    "math = 55\n",
    "total = korean + english + math\n",
    "mean = total / 3\n",
    "\n",
    "mean"
   ]
  },
  {
   "cell_type": "markdown",
   "metadata": {},
   "source": [
    "[문제2] 나눗셈의 몫\n",
    "\n",
    "17을 3으로 나누었을 때 그 몫을 구하시오.\n",
    "\n",
    "\n"
   ]
  },
  {
   "cell_type": "code",
   "execution_count": 13,
   "metadata": {},
   "outputs": [
    {
     "data": {
      "text/plain": [
       "5"
      ]
     },
     "execution_count": 13,
     "metadata": {},
     "output_type": "execute_result"
    }
   ],
   "source": [
    "(17 // 3)"
   ]
  },
  {
   "cell_type": "markdown",
   "metadata": {},
   "source": [
    "[문제3] 나눗셈의 나머지\n",
    "\n",
    "17을 3으로 나누었을 때 그 나머지 값을 구하시오.\n"
   ]
  },
  {
   "cell_type": "code",
   "execution_count": 14,
   "metadata": {},
   "outputs": [
    {
     "data": {
      "text/plain": [
       "2"
      ]
     },
     "execution_count": 14,
     "metadata": {},
     "output_type": "execute_result"
    }
   ],
   "source": [
    "(17 % 3)"
   ]
  },
  {
   "cell_type": "markdown",
   "metadata": {},
   "source": [
    "[문제4] 자연수의 홀짝\n",
    "\n",
    "주어진 자연수가 홀수인지 짝수인지 판별할 수 있는 방법에 대해서 말해보자.\n",
    "\n"
   ]
  },
  {
   "cell_type": "code",
   "execution_count": 18,
   "metadata": {},
   "outputs": [
    {
     "name": "stdout",
     "output_type": "stream",
     "text": [
      "홀수\n"
     ]
    }
   ],
   "source": [
    "n = 3\n",
    "if (n % 2) == 0:\n",
    "    print('짝수')\n",
    "else:\n",
    "    print('홀수')"
   ]
  },
  {
   "cell_type": "markdown",
   "metadata": {},
   "source": [
    "### 문자열 자료형"
   ]
  },
  {
   "cell_type": "markdown",
   "metadata": {},
   "source": [
    "[문제1] 문자열 출력 1\n",
    "\n",
    "다음과 같은 문자열을 출력하시오.\n",
    "\n",
    "\"점프 투 파이썬\" 문제를 풀어보자\n"
   ]
  },
  {
   "cell_type": "code",
   "execution_count": 19,
   "metadata": {},
   "outputs": [
    {
     "name": "stdout",
     "output_type": "stream",
     "text": [
      "점프 투 파이썬\n"
     ]
    }
   ],
   "source": [
    "print(\"점프 투 파이썬\")"
   ]
  },
  {
   "cell_type": "markdown",
   "metadata": {},
   "source": [
    "[문제2] 문자열 출력 2\n",
    "\n",
    "다음과 같은 문자열을 출력하시오.\n",
    "\n",
    "Life is too short\n",
    "You need Python"
   ]
  },
  {
   "cell_type": "code",
   "execution_count": 20,
   "metadata": {},
   "outputs": [
    {
     "name": "stdout",
     "output_type": "stream",
     "text": [
      "Life is too short You need Python\n"
     ]
    }
   ],
   "source": [
    "print(\"Life is too short You need Python\")"
   ]
  },
  {
   "cell_type": "markdown",
   "metadata": {},
   "source": [
    "[문제3] 공백 추가\n",
    "\n",
    "다음과 같은 6개의 문자로 이루어진 \"PYTHON\"이라는 문자열이 있다.\n",
    "\n",
    "PYTHON\n",
    "이 \"PYTHON\"이라는 문자열 앞에 공백 24개를 추가하여 다음과 같은 형태의 30자리의 문자열로 만드시오.\n",
    "\n",
    "                        PYTHON"
   ]
  },
  {
   "cell_type": "code",
   "execution_count": 24,
   "metadata": {},
   "outputs": [
    {
     "data": {
      "text/plain": [
       "'                        PYTHON'"
      ]
     },
     "execution_count": 24,
     "metadata": {},
     "output_type": "execute_result"
    }
   ],
   "source": [
    "\"{0:>30}\".format(\"PYTHON\")"
   ]
  },
  {
   "cell_type": "markdown",
   "metadata": {},
   "source": [
    "[문제4] 문자열 나누기\n",
    "\n",
    "홍길동 씨의 주민등록번호는 881120-1068234이다. 홍길동씨의 주민등록번호를 연월일(YYYYMMDD) 부분과 그 뒤의 숫자 부분으로 나누어 출력해 보자.\n",
    "\n",
    "\n"
   ]
  },
  {
   "cell_type": "code",
   "execution_count": 28,
   "metadata": {},
   "outputs": [
    {
     "data": {
      "text/plain": [
       "['881120', '1068234']"
      ]
     },
     "execution_count": 28,
     "metadata": {},
     "output_type": "execute_result"
    }
   ],
   "source": [
    "resno = '881120-1068234'\n",
    "resno.split('-')"
   ]
  },
  {
   "cell_type": "markdown",
   "metadata": {},
   "source": [
    "[문제5] 문자열 인덱싱\n",
    "\n",
    "주민등록번호 뒷자리의 맨 첫 번째 숫자는 성별을 나타낸다. 주민등록번호에서 성별을 나타내는 숫자를 출력해 보자.\n",
    "\n",
    "> pin = \"881120-1068234\""
   ]
  },
  {
   "cell_type": "code",
   "execution_count": 36,
   "metadata": {},
   "outputs": [
    {
     "data": {
      "text/plain": [
       "'1'"
      ]
     },
     "execution_count": 36,
     "metadata": {},
     "output_type": "execute_result"
    }
   ],
   "source": [
    "resno.split('-')[1][0]"
   ]
  },
  {
   "cell_type": "markdown",
   "metadata": {},
   "source": [
    "[문제6] 문자열 변경\n",
    "\n",
    "다음과 같은 문자열이 있다.\n",
    "\n",
    "1980M1120\n",
    "위 문자열을 다음과 같이 변경하시오.\n",
    "\n",
    "M19801120"
   ]
  },
  {
   "cell_type": "code",
   "execution_count": 39,
   "metadata": {},
   "outputs": [
    {
     "data": {
      "text/plain": [
       "'M19801120'"
      ]
     },
     "execution_count": 39,
     "metadata": {},
     "output_type": "execute_result"
    }
   ],
   "source": [
    "passno = '1980M1120'\n",
    "passno[passno.find('M')] + passno.split('M')[0] + passno.split('M')[1]"
   ]
  },
  {
   "cell_type": "markdown",
   "metadata": {},
   "source": [
    "[문제7] 문자열 찾기\n",
    "\n",
    "다음의 문자열에서 \"short\"라는 문자열이 시작되는 인덱스를 구하시오.\n",
    "\n",
    "Life is too short, you need python"
   ]
  },
  {
   "cell_type": "code",
   "execution_count": 41,
   "metadata": {},
   "outputs": [
    {
     "data": {
      "text/plain": [
       "12"
      ]
     },
     "execution_count": 41,
     "metadata": {},
     "output_type": "execute_result"
    }
   ],
   "source": [
    "message = \"Life is too short, you need python\"\n",
    "\n",
    "message.find('short')"
   ]
  },
  {
   "cell_type": "markdown",
   "metadata": {},
   "source": [
    "\n",
    "\n",
    "[문제8] 문자열 바꾸기1\n",
    "\n",
    "다음과 같은 문자열이 있다.\n",
    "\n",
    "a:b:c:d\n",
    "문자열의 replace 함수를 이용하여 위 문자열을 다음과 같이 고치시오.\n",
    "\n",
    "a#b#c#d"
   ]
  },
  {
   "cell_type": "code",
   "execution_count": 42,
   "metadata": {},
   "outputs": [
    {
     "data": {
      "text/plain": [
       "'a#b#c#d'"
      ]
     },
     "execution_count": 42,
     "metadata": {},
     "output_type": "execute_result"
    }
   ],
   "source": [
    "message = 'a:b:c:d'\n",
    "message.replace(':','#')"
   ]
  },
  {
   "cell_type": "markdown",
   "metadata": {},
   "source": [
    "\n",
    "\n",
    "[문제9] 문자열 바꾸기2\n",
    "\n",
    "다음과 같은 문자열이 있다.\n",
    "\n",
    "a:b:c:d\n",
    "문자열의 split와 join 함수를 이용하여 위 문자열을 다음과 같이 고치시오.\n",
    "\n",
    "a#b#c#d"
   ]
  },
  {
   "cell_type": "code",
   "execution_count": 46,
   "metadata": {},
   "outputs": [
    {
     "data": {
      "text/plain": [
       "'a#b#c#d'"
      ]
     },
     "execution_count": 46,
     "metadata": {},
     "output_type": "execute_result"
    }
   ],
   "source": [
    "'#'.join(message.split(':'))"
   ]
  },
  {
   "cell_type": "markdown",
   "metadata": {},
   "source": [
    "### 리스트"
   ]
  },
  {
   "cell_type": "markdown",
   "metadata": {},
   "source": [
    "[문제1] 리스트 인덱싱\n",
    "\n",
    "다음과 같은 리스트 a가 있다.\n",
    "\n",
    "> a = ['Life', 'is', 'too', 'short', 'you', 'need', 'python']  \n",
    "\n",
    "a 리스트를 이용하여 다음과 같은 문자열을 출력하시오.\n",
    "\n",
    "you too\n"
   ]
  },
  {
   "cell_type": "code",
   "execution_count": 49,
   "metadata": {},
   "outputs": [
    {
     "name": "stdout",
     "output_type": "stream",
     "text": [
      "you too\n"
     ]
    }
   ],
   "source": [
    "a = ['Life', 'is', 'too', 'short', 'you', 'need', 'python'] \n",
    "\n",
    "print(a[4] + ' ' +a[2])"
   ]
  },
  {
   "cell_type": "markdown",
   "metadata": {},
   "source": [
    "\n",
    "[문제2] 리스트 조인\n",
    "\n",
    "['Life', 'is', 'too', 'short'] 라는 리스트를 Life is too short라는 문자열로 만들어 출력해 보자."
   ]
  },
  {
   "cell_type": "code",
   "execution_count": 51,
   "metadata": {},
   "outputs": [
    {
     "data": {
      "text/plain": [
       "'Life is too short'"
      ]
     },
     "execution_count": 51,
     "metadata": {},
     "output_type": "execute_result"
    }
   ],
   "source": [
    "b = ['Life', 'is', 'too', 'short']\n",
    "\n",
    "' '.join(b)"
   ]
  },
  {
   "cell_type": "markdown",
   "metadata": {},
   "source": [
    "\n",
    "\n",
    "\n",
    "[문제3] 리스트의 갯수\n",
    "\n",
    "다음과 같은 리스트 a가 있다.\n",
    "\n",
    "> a = [1, 2, 3]\n",
    "이 리스트의 갯수(사이즈)를 구하시오.\n",
    "\n",
    "(힌트. 객체의 길이를 리턴하는 파이썬 내장함수 len을 이용해 보자.)"
   ]
  },
  {
   "cell_type": "code",
   "execution_count": 66,
   "metadata": {},
   "outputs": [
    {
     "data": {
      "text/plain": [
       "3"
      ]
     },
     "execution_count": 66,
     "metadata": {},
     "output_type": "execute_result"
    }
   ],
   "source": [
    "a = [1, 2, 3] \n",
    "len(a)"
   ]
  },
  {
   "cell_type": "markdown",
   "metadata": {},
   "source": [
    "[문제4] 리스트의 append와 extend\n",
    "\n",
    "다음과 같은 리스트 a가 있다.\n",
    "\n",
    "> a = [1, 2, 3]\n",
    "\n",
    "리스트 a에 [4, 5]를 append 했을 때와 extend했을 때의 차이점은 무엇인가?"
   ]
  },
  {
   "cell_type": "code",
   "execution_count": 67,
   "metadata": {},
   "outputs": [
    {
     "data": {
      "text/plain": [
       "[1, 2, 3, [4, 5]]"
      ]
     },
     "execution_count": 67,
     "metadata": {},
     "output_type": "execute_result"
    }
   ],
   "source": [
    "a.append([4,5]) ## [4.5]를 리스트로 갖는 원소가 추가됨.\n",
    "a"
   ]
  },
  {
   "cell_type": "code",
   "execution_count": 68,
   "metadata": {},
   "outputs": [],
   "source": [
    "a = [1, 2, 3] "
   ]
  },
  {
   "cell_type": "code",
   "execution_count": 69,
   "metadata": {},
   "outputs": [],
   "source": [
    "a.extend([4,5]) ## 숫자 4, 5가 주가됨 \n",
    "a"
   ]
  },
  {
   "cell_type": "markdown",
   "metadata": {},
   "source": [
    "[문제5] 리스트 정렬\n",
    "\n",
    "[1, 3, 5, 4, 2]라는 리스트를 [5, 4, 3, 2, 1]로 만들어보자. (힌트. 리스트의 내장함수인 sort와 reverse를 활용해 보자.)"
   ]
  },
  {
   "cell_type": "code",
   "execution_count": 75,
   "metadata": {},
   "outputs": [
    {
     "data": {
      "text/plain": [
       "[5, 4, 3, 2, 1]"
      ]
     },
     "execution_count": 75,
     "metadata": {},
     "output_type": "execute_result"
    }
   ],
   "source": [
    "a = [1, 3, 5, 4, 2]\n",
    "a.sort()\n",
    "a.reverse()\n",
    "\n",
    "a"
   ]
  },
  {
   "cell_type": "markdown",
   "metadata": {},
   "source": [
    "[문제6] 리스트 삭제\n",
    "\n",
    "[1, 2, 3, 4, 5]라는 리스트를 [1, 3, 5]로 만들어 보자.\n",
    "\n",
    "1. 리스트의 remove 함수 이용하기\n",
    "2. 리스트의 pop 함수 이용하기\n",
    "3. del을 이용하기\n"
   ]
  },
  {
   "cell_type": "code",
   "execution_count": 79,
   "metadata": {},
   "outputs": [
    {
     "data": {
      "text/plain": [
       "[1, 3, 5]"
      ]
     },
     "execution_count": 79,
     "metadata": {},
     "output_type": "execute_result"
    }
   ],
   "source": [
    "a = [1, 2, 3, 4, 5]\n",
    "a.remove(2)\n",
    "a.remove(4)\n",
    "a"
   ]
  },
  {
   "cell_type": "code",
   "execution_count": 82,
   "metadata": {},
   "outputs": [
    {
     "data": {
      "text/plain": [
       "[1, 3, 5]"
      ]
     },
     "execution_count": 82,
     "metadata": {},
     "output_type": "execute_result"
    }
   ],
   "source": [
    "a = [1, 2, 3, 4, 5]\n",
    "a.pop(1)\n",
    "a.pop(2)\n",
    "a"
   ]
  },
  {
   "cell_type": "code",
   "execution_count": 83,
   "metadata": {},
   "outputs": [
    {
     "data": {
      "text/plain": [
       "[1, 3, 5]"
      ]
     },
     "execution_count": 83,
     "metadata": {},
     "output_type": "execute_result"
    }
   ],
   "source": [
    "a = [1, 2, 3, 4, 5]\n",
    "del a[1]\n",
    "del a[2]\n",
    "a"
   ]
  },
  {
   "cell_type": "markdown",
   "metadata": {},
   "source": [
    "### 튜플"
   ]
  },
  {
   "cell_type": "markdown",
   "metadata": {},
   "source": [
    "문제1] 튜플 작성\n",
    "\n",
    "숫자 3만을 요소값으로 가지는 튜플을 작성하라."
   ]
  },
  {
   "cell_type": "code",
   "execution_count": 90,
   "metadata": {},
   "outputs": [
    {
     "data": {
      "text/plain": [
       "tuple"
      ]
     },
     "execution_count": 90,
     "metadata": {},
     "output_type": "execute_result"
    }
   ],
   "source": [
    "a = (3,)\n",
    "type(a)"
   ]
  },
  {
   "cell_type": "markdown",
   "metadata": {},
   "source": [
    "[문제2] 튜플 변경\n",
    "\n",
    "다음은 튜플 (1, 2, 3)을 (1, 4, 3)과 같이 변경하려고 시도했을 경우이다. 오류의 원인에 대해서 설명하시오.\n",
    "\n",
    "> a = (1, 2, 3)  \n",
    "> a[1] = 4  \n",
    "Traceback (most recent call last):  \n",
    "  File \"<stdin>\", line 1, in <module>  \n",
    "TypeError: 'tuple' object does not support item assignment  "
   ]
  },
  {
   "cell_type": "markdown",
   "metadata": {},
   "source": [
    "튜플은 데이터 수정을 허용하지 않는다."
   ]
  },
  {
   "cell_type": "markdown",
   "metadata": {},
   "source": [
    "[문제3] 튜플 추가\n",
    "\n",
    "(1,2,3)이라는 튜플에 4라는 값을 추가하여 (1,2,3,4)처럼 만들어 출력해 보자.\n"
   ]
  },
  {
   "cell_type": "markdown",
   "metadata": {},
   "source": [
    "오류가 발생하며 추가되지 않는다."
   ]
  },
  {
   "cell_type": "markdown",
   "metadata": {},
   "source": [
    "### 딕셔너리"
   ]
  },
  {
   "cell_type": "markdown",
   "metadata": {},
   "source": [
    "[문제1] 딕셔너리 만들기\n",
    "\n",
    "다음 표를 딕셔너리로 만드시오.\n",
    "\n",
    "항목\t  값  \n",
    "name\t홍길동  \n",
    "birth\t1128  \n",
    "age\t    30  "
   ]
  },
  {
   "cell_type": "code",
   "execution_count": 95,
   "metadata": {},
   "outputs": [
    {
     "data": {
      "text/plain": [
       "{'name': '홍길동', 'birth': 1128, 'age': '30'}"
      ]
     },
     "execution_count": 95,
     "metadata": {},
     "output_type": "execute_result"
    }
   ],
   "source": [
    "a = { 'name': '홍길동', 'birth': 1128, 'age': '30'}\n",
    "a"
   ]
  },
  {
   "cell_type": "markdown",
   "metadata": {},
   "source": [
    "[문제2] 딕셔너리 오류\n",
    "\n",
    "다음과 같은 딕셔너리 a가 있다.\n",
    "\n",
    "> a = dict()\n",
    "> a\n",
    "{}\n",
    "다음 중 오류가 발생하는 경우는 어떤 경우인가? 그리고 그 이유를 설명하시오.\n",
    "\n",
    "a['name'] = 'python'  \n",
    "a[('a',)] = 'python'  \n",
    "a[[1]] = 'python'  \n",
    "a[250] = 'python'  "
   ]
  },
  {
   "cell_type": "code",
   "execution_count": 98,
   "metadata": {},
   "outputs": [],
   "source": [
    "a = dict()"
   ]
  },
  {
   "cell_type": "markdown",
   "metadata": {},
   "source": [
    "a[[1]] = 'python'  \n",
    "[[]]는 리스트를 불러오기 때문에 존재하지 않는 리스트를 불러오게 된다."
   ]
  },
  {
   "cell_type": "markdown",
   "metadata": {},
   "source": [
    "[문제3] 딕셔너리 값 추출1\n",
    "\n",
    "딕셔너리 a에서 'B'에 해당되는 값을 추출하고 삭제해 보자.\n",
    "\n",
    "> a = {'A':90, 'B':80, 'C':70}"
   ]
  },
  {
   "cell_type": "code",
   "execution_count": 103,
   "metadata": {},
   "outputs": [
    {
     "data": {
      "text/plain": [
       "80"
      ]
     },
     "execution_count": 103,
     "metadata": {},
     "output_type": "execute_result"
    }
   ],
   "source": [
    "a = {'A':90, 'B':80, 'C':70}\n",
    "\n",
    "a['B']    "
   ]
  },
  {
   "cell_type": "markdown",
   "metadata": {},
   "source": [
    "[문제4] 딕셔너리 값 추출2\n",
    "\n",
    "다음은 딕셔너리의 a에서 'C'라는 key에 해당되는 value를 출력하는 프로그램이다.\n",
    "\n",
    "> a = {'A':90, 'B':80}\n",
    "> a['C']  \n",
    "Traceback (most recent call last):  \n",
    "  File \"<stdin>\", line 1, in <module>  \n",
    "KeyError: 'C'  \n",
    "a 딕셔너리에는 'C'라는 key가 없으므로 위와 같은 오류가 발생하게 된다.  \n",
    "'C'에 해당되는 키값이 없을 경우 오류 대신 70을 얻을수 있도록 수정해 보자.\n"
   ]
  },
  {
   "cell_type": "code",
   "execution_count": 106,
   "metadata": {},
   "outputs": [
    {
     "data": {
      "text/plain": [
       "70"
      ]
     },
     "execution_count": 106,
     "metadata": {},
     "output_type": "execute_result"
    }
   ],
   "source": [
    "a = {'A':90, 'B':80} \n",
    "\n",
    "a['C'] = 70\n",
    "\n",
    "a['C']"
   ]
  },
  {
   "cell_type": "markdown",
   "metadata": {},
   "source": [
    "[문제5] 딕셔너리 최소값\n",
    "\n",
    "다음과 같은 딕셔너리 a가 있다.\n",
    "\n",
    "> a = {'A':90, 'B':80, 'C':70}  \n",
    "딕셔너리 a의 value중에서 최소 값을 출력하시오.  \n",
    "\n",
    "(힌트. 여러개의 요소값중 최소값을 얻을수 있는 min함수를 이용해 보자.)\n",
    "\n"
   ]
  },
  {
   "cell_type": "code",
   "execution_count": 116,
   "metadata": {},
   "outputs": [
    {
     "data": {
      "text/plain": [
       "90"
      ]
     },
     "execution_count": 116,
     "metadata": {},
     "output_type": "execute_result"
    }
   ],
   "source": [
    "a = {'A':90, 'B':80, 'C':70}\n",
    "\n",
    "a[min(a)]"
   ]
  },
  {
   "cell_type": "markdown",
   "metadata": {},
   "source": [
    "[문제6] 딕셔너리 리스트 변환\n",
    "\n",
    "다음과 같은 딕셔너리 a가 있다.\n",
    "\n",
    "> a = {'A':90, 'B':80, 'C':70}  \n",
    "위 딕셔너리 a를 다음과 같은 리스트로 만들어보자.  \n",
    "\n",
    "[('A', 90), ('B', 80), ('C', 70)]  \n",
    "(힌트. 딕셔너리의 items 내장함수를 이용해 보자.)"
   ]
  },
  {
   "cell_type": "code",
   "execution_count": 117,
   "metadata": {},
   "outputs": [
    {
     "data": {
      "text/plain": [
       "[('A', 90), ('B', 80), ('C', 70)]"
      ]
     },
     "execution_count": 117,
     "metadata": {},
     "output_type": "execute_result"
    }
   ],
   "source": [
    "a = {'A':90, 'B':80, 'C':70}\n",
    "a = list(a.items())\n",
    "a"
   ]
  },
  {
   "cell_type": "markdown",
   "metadata": {},
   "source": [
    "### 집합"
   ]
  },
  {
   "cell_type": "markdown",
   "metadata": {},
   "source": [
    "- 중복을 허용하지 않는다.\n",
    "- 순서가 없다(Unordered).\n",
    "\n",
    "리스트나 튜플은 순서가 있기(ordered) 때문에 인덱싱을 통해 자료형의 값을 얻을 수 있지만 set 자료형은 순서가 없기(unordered) 때문에 인덱싱으로 값을 얻을 수 없다. 이는 마치 02-5절에서 살펴본 딕셔너리와 비슷하다. 딕셔너리 역시 순서가 없는 자료형이라 인덱싱을 지원하지 않는다. 만약 set 자료형에 저장된 값을 인덱싱으로 접근하려면 다음과 같이 리스트나 튜플로 변환한 후 해야 한다.\n"
   ]
  },
  {
   "cell_type": "markdown",
   "metadata": {},
   "source": [
    "> s1 = set([1,2,3])  \n",
    "> l1 = list(s1)  \n",
    "> l1  \n",
    "[1, 2, 3]  \n",
    "> l1[0]  \n",
    "1    \n",
    "> t1 = tuple(s1)  \n",
    "> t1  \n",
    "(1, 2, 3)  \n",
    "> t1[0]  \n",
    "1  "
   ]
  },
  {
   "cell_type": "markdown",
   "metadata": {},
   "source": [
    "[문제1] 집합 만들기1\n",
    "\n",
    "['a', 'b', 'c'] 라는 리스트를 집합 자료형으로 만드시오."
   ]
  },
  {
   "cell_type": "code",
   "execution_count": 118,
   "metadata": {},
   "outputs": [
    {
     "data": {
      "text/plain": [
       "{'a', 'b', 'c'}"
      ]
     },
     "execution_count": 118,
     "metadata": {},
     "output_type": "execute_result"
    }
   ],
   "source": [
    "a = ['a', 'b', 'c']\n",
    "set(a)"
   ]
  },
  {
   "cell_type": "markdown",
   "metadata": {},
   "source": [
    "[문제2] 집합의 중복\n",
    "\n",
    "중복을 허용하지 않는 집합 자료형의 특징을 이용하여 다음 a 리스트에서 중복된 숫자들을 제거해 보자.\n",
    "\n",
    "> a = [1, 1, 1, 2, 2, 3, 3, 3, 4, 4, 5]"
   ]
  },
  {
   "cell_type": "code",
   "execution_count": 119,
   "metadata": {},
   "outputs": [
    {
     "data": {
      "text/plain": [
       "{1, 2, 3, 4, 5}"
      ]
     },
     "execution_count": 119,
     "metadata": {},
     "output_type": "execute_result"
    }
   ],
   "source": [
    "a = [1, 1, 1, 2, 2, 3, 3, 3, 4, 4, 5]\n",
    "set(a)"
   ]
  },
  {
   "cell_type": "markdown",
   "metadata": {},
   "source": [
    "[문제3] 차집합\n",
    "\n",
    "다음과 같은 2개의 집합 자료형이 있다.\n",
    "\n",
    "> s1 = set(['a', 'b', 'c', 'd', 'e'])  \n",
    "> s2 = set(['c', 'd', 'e', 'f', 'g'])  \n",
    "s1 집합의 항목 중 s2 집합에 포함된 항목을 제거 해 보자."
   ]
  },
  {
   "cell_type": "code",
   "execution_count": 122,
   "metadata": {},
   "outputs": [
    {
     "data": {
      "text/plain": [
       "{'a', 'b'}"
      ]
     },
     "execution_count": 122,
     "metadata": {},
     "output_type": "execute_result"
    }
   ],
   "source": [
    "s1 = set(['a', 'b', 'c', 'd', 'e'])\n",
    "s2 = set(['c', 'd', 'e', 'f', 'g'])\n",
    "\n",
    "s1 - s2"
   ]
  },
  {
   "cell_type": "markdown",
   "metadata": {},
   "source": [
    "[문제4] 집합 만들기2\n",
    "\n",
    "집합 자료형은 다음과 같이 만들 수 있다.\n",
    "\n",
    "> a = {'a', 'b', 'c'}  \n",
    "> a  \n",
    "{'a', 'b', 'c'}  \n",
    "> type(a)   \n",
    "<class 'set'>  \n",
    "값이 하나도 없는 비어있는 set을 만들기 위해 다음과 같이 시도 해 보자.\n",
    "\n",
    "> a = {}  \n",
    "> type(a)  \n",
    "<class 'dict'>\n",
    "위와 같이 값이 있을 경우에는 집합 자료형으로 인식했지만 값이 없을경우에는 딕셔너리로 인식하게 된다. 그렇다면 값이 비어있는 집합 자료형은 어떻게 만들 수 있을까?\n"
   ]
  },
  {
   "cell_type": "code",
   "execution_count": 124,
   "metadata": {},
   "outputs": [
    {
     "data": {
      "text/plain": [
       "set"
      ]
     },
     "execution_count": 124,
     "metadata": {},
     "output_type": "execute_result"
    }
   ],
   "source": [
    "a = set({})\n",
    "type(a)"
   ]
  },
  {
   "cell_type": "markdown",
   "metadata": {},
   "source": [
    "[문제5] 집합 추가\n",
    "\n",
    "다음과 같은 집합 자료형 a가 있다.\n",
    "\n",
    "> a = {'a', 'b', 'c'}  \n",
    "a 에 {'d', 'e', 'f'} 를 추가하시오.\n"
   ]
  },
  {
   "cell_type": "code",
   "execution_count": 128,
   "metadata": {},
   "outputs": [
    {
     "data": {
      "text/plain": [
       "{'a', 'b', 'c', 'd', 'e', 'f'}"
      ]
     },
     "execution_count": 128,
     "metadata": {},
     "output_type": "execute_result"
    }
   ],
   "source": [
    "a = {'a', 'b', 'c'}\n",
    "a.add('d')\n",
    "a.add('e')\n",
    "a.add('f')\n",
    "a"
   ]
  },
  {
   "cell_type": "markdown",
   "metadata": {},
   "source": [
    "### 불(Bool)"
   ]
  },
  {
   "cell_type": "markdown",
   "metadata": {},
   "source": [
    "[문제1] 불 자료형과 조건문\n",
    "\n",
    "다음은 불 자료형을 리턴하는 조건문들이다. 각 각의 예제의 결과가 어떻게 나오는지 예상해 보자.\n",
    "\n",
    "> 1 != 1  \n",
    "> 3 > 1  \n",
    "> 'a' in 'abc'  \n",
    "> 'a' not in [1, 2, 3]  "
   ]
  },
  {
   "cell_type": "markdown",
   "metadata": {},
   "source": [
    "False  \n",
    "True\n",
    "True\n",
    "True"
   ]
  },
  {
   "cell_type": "code",
   "execution_count": 130,
   "metadata": {},
   "outputs": [
    {
     "name": "stdout",
     "output_type": "stream",
     "text": [
      "False\n",
      "True\n",
      "True\n",
      "True\n"
     ]
    }
   ],
   "source": [
    "print(1 != 1)\n",
    "print(3 > 1)\n",
    "print('a' in 'abc')\n",
    "print('a' not in [1, 2, 3])"
   ]
  },
  {
   "cell_type": "markdown",
   "metadata": {},
   "source": [
    "[문제2] bool 연산자\n",
    "\n",
    "bool 연산자를 이용하여 다음 자료형들의 참과 거짓을 판별하시오.\n",
    "\n",
    "> a = \"python\"  \n",
    "> b = \"\"  \n",
    "> c = (1,2,3)  \n",
    "> d = 0  "
   ]
  },
  {
   "cell_type": "code",
   "execution_count": 131,
   "metadata": {},
   "outputs": [
    {
     "name": "stdout",
     "output_type": "stream",
     "text": [
      "True\n",
      "False\n",
      "True\n",
      "False\n"
     ]
    }
   ],
   "source": [
    "a = \"python\"\n",
    "b = \"\"\n",
    "c = (1,2,3)\n",
    "d = 0\n",
    "print(bool(a))\n",
    "print(bool(b))\n",
    "print(bool(c))\n",
    "print(bool(d))\n"
   ]
  },
  {
   "cell_type": "markdown",
   "metadata": {},
   "source": [
    "### 변수"
   ]
  },
  {
   "cell_type": "code",
   "execution_count": null,
   "metadata": {},
   "outputs": [],
   "source": []
  }
 ],
 "metadata": {
  "kernelspec": {
   "display_name": "Python 3",
   "language": "python",
   "name": "python3"
  },
  "language_info": {
   "codemirror_mode": {
    "name": "ipython",
    "version": 3
   },
   "file_extension": ".py",
   "mimetype": "text/x-python",
   "name": "python",
   "nbconvert_exporter": "python",
   "pygments_lexer": "ipython3",
   "version": "3.7.0"
  }
 },
 "nbformat": 4,
 "nbformat_minor": 2
}
