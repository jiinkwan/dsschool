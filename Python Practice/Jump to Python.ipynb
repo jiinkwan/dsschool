{
 "cells": [
  {
   "cell_type": "markdown",
   "metadata": {},
   "source": [
    "# 점프 투 파이썬 연습문제"
   ]
  },
  {
   "cell_type": "markdown",
   "metadata": {},
   "source": [
    "## 파이썬 프로그래밍의 기초, 자료형"
   ]
  },
  {
   "cell_type": "markdown",
   "metadata": {},
   "source": [
    "### 숫자형"
   ]
  },
  {
   "cell_type": "markdown",
   "metadata": {},
   "source": [
    "[문제1] 점수의 평균\n",
    "\n",
    "홍길동씨의 과목별 점수는 각각 다음과 같다.\n",
    "\n",
    "과목\t점수  \n",
    "국어\t80  \n",
    "영어\t75  \n",
    "수학\t55  \n",
    "홍길동씨의 평균점수를 구하시오.\n"
   ]
  },
  {
   "cell_type": "code",
   "execution_count": 4,
   "metadata": {},
   "outputs": [
    {
     "data": {
      "text/plain": [
       "70.0"
      ]
     },
     "execution_count": 4,
     "metadata": {},
     "output_type": "execute_result"
    }
   ],
   "source": [
    "korean = 80\n",
    "english = 75\n",
    "math = 55\n",
    "total = korean + english + math\n",
    "mean = total / 3\n",
    "\n",
    "mean"
   ]
  },
  {
   "cell_type": "markdown",
   "metadata": {},
   "source": [
    "[문제2] 나눗셈의 몫\n",
    "\n",
    "17을 3으로 나누었을 때 그 몫을 구하시오.\n",
    "\n",
    "\n"
   ]
  },
  {
   "cell_type": "code",
   "execution_count": 13,
   "metadata": {},
   "outputs": [
    {
     "data": {
      "text/plain": [
       "5"
      ]
     },
     "execution_count": 13,
     "metadata": {},
     "output_type": "execute_result"
    }
   ],
   "source": [
    "(17 // 3)"
   ]
  },
  {
   "cell_type": "markdown",
   "metadata": {},
   "source": [
    "[문제3] 나눗셈의 나머지\n",
    "\n",
    "17을 3으로 나누었을 때 그 나머지 값을 구하시오.\n"
   ]
  },
  {
   "cell_type": "code",
   "execution_count": 14,
   "metadata": {},
   "outputs": [
    {
     "data": {
      "text/plain": [
       "2"
      ]
     },
     "execution_count": 14,
     "metadata": {},
     "output_type": "execute_result"
    }
   ],
   "source": [
    "(17 % 3)"
   ]
  },
  {
   "cell_type": "markdown",
   "metadata": {},
   "source": [
    "[문제4] 자연수의 홀짝\n",
    "\n",
    "주어진 자연수가 홀수인지 짝수인지 판별할 수 있는 방법에 대해서 말해보자.\n",
    "\n"
   ]
  },
  {
   "cell_type": "code",
   "execution_count": 18,
   "metadata": {},
   "outputs": [
    {
     "name": "stdout",
     "output_type": "stream",
     "text": [
      "홀수\n"
     ]
    }
   ],
   "source": [
    "n = 3\n",
    "if (n % 2) == 0:\n",
    "    print('짝수')\n",
    "else:\n",
    "    print('홀수')"
   ]
  },
  {
   "cell_type": "markdown",
   "metadata": {},
   "source": [
    "### 문자열 자료형"
   ]
  },
  {
   "cell_type": "markdown",
   "metadata": {},
   "source": [
    "[문제1] 문자열 출력 1\n",
    "\n",
    "다음과 같은 문자열을 출력하시오.\n",
    "\n",
    "\"점프 투 파이썬\" 문제를 풀어보자\n"
   ]
  },
  {
   "cell_type": "code",
   "execution_count": 19,
   "metadata": {},
   "outputs": [
    {
     "name": "stdout",
     "output_type": "stream",
     "text": [
      "점프 투 파이썬\n"
     ]
    }
   ],
   "source": [
    "print(\"점프 투 파이썬\")"
   ]
  },
  {
   "cell_type": "markdown",
   "metadata": {},
   "source": [
    "[문제2] 문자열 출력 2\n",
    "\n",
    "다음과 같은 문자열을 출력하시오.\n",
    "\n",
    "Life is too short\n",
    "You need Python"
   ]
  },
  {
   "cell_type": "code",
   "execution_count": 20,
   "metadata": {},
   "outputs": [
    {
     "name": "stdout",
     "output_type": "stream",
     "text": [
      "Life is too short You need Python\n"
     ]
    }
   ],
   "source": [
    "print(\"Life is too short You need Python\")"
   ]
  },
  {
   "cell_type": "markdown",
   "metadata": {},
   "source": [
    "[문제3] 공백 추가\n",
    "\n",
    "다음과 같은 6개의 문자로 이루어진 \"PYTHON\"이라는 문자열이 있다.\n",
    "\n",
    "PYTHON\n",
    "이 \"PYTHON\"이라는 문자열 앞에 공백 24개를 추가하여 다음과 같은 형태의 30자리의 문자열로 만드시오.\n",
    "\n",
    "                        PYTHON"
   ]
  },
  {
   "cell_type": "code",
   "execution_count": 24,
   "metadata": {},
   "outputs": [
    {
     "data": {
      "text/plain": [
       "'                        PYTHON'"
      ]
     },
     "execution_count": 24,
     "metadata": {},
     "output_type": "execute_result"
    }
   ],
   "source": [
    "\"{0:>30}\".format(\"PYTHON\")"
   ]
  },
  {
   "cell_type": "markdown",
   "metadata": {},
   "source": [
    "[문제4] 문자열 나누기\n",
    "\n",
    "홍길동 씨의 주민등록번호는 881120-1068234이다. 홍길동씨의 주민등록번호를 연월일(YYYYMMDD) 부분과 그 뒤의 숫자 부분으로 나누어 출력해 보자.\n",
    "\n",
    "\n"
   ]
  },
  {
   "cell_type": "code",
   "execution_count": 28,
   "metadata": {},
   "outputs": [
    {
     "data": {
      "text/plain": [
       "['881120', '1068234']"
      ]
     },
     "execution_count": 28,
     "metadata": {},
     "output_type": "execute_result"
    }
   ],
   "source": [
    "resno = '881120-1068234'\n",
    "resno.split('-')"
   ]
  },
  {
   "cell_type": "markdown",
   "metadata": {},
   "source": [
    "[문제5] 문자열 인덱싱\n",
    "\n",
    "주민등록번호 뒷자리의 맨 첫 번째 숫자는 성별을 나타낸다. 주민등록번호에서 성별을 나타내는 숫자를 출력해 보자.\n",
    "\n",
    "> pin = \"881120-1068234\""
   ]
  },
  {
   "cell_type": "code",
   "execution_count": 36,
   "metadata": {},
   "outputs": [
    {
     "data": {
      "text/plain": [
       "'1'"
      ]
     },
     "execution_count": 36,
     "metadata": {},
     "output_type": "execute_result"
    }
   ],
   "source": [
    "resno.split('-')[1][0]"
   ]
  },
  {
   "cell_type": "markdown",
   "metadata": {},
   "source": [
    "[문제6] 문자열 변경\n",
    "\n",
    "다음과 같은 문자열이 있다.\n",
    "\n",
    "1980M1120\n",
    "위 문자열을 다음과 같이 변경하시오.\n",
    "\n",
    "M19801120"
   ]
  },
  {
   "cell_type": "code",
   "execution_count": 39,
   "metadata": {},
   "outputs": [
    {
     "data": {
      "text/plain": [
       "'M19801120'"
      ]
     },
     "execution_count": 39,
     "metadata": {},
     "output_type": "execute_result"
    }
   ],
   "source": [
    "passno = '1980M1120'\n",
    "passno[passno.find('M')] + passno.split('M')[0] + passno.split('M')[1]"
   ]
  },
  {
   "cell_type": "markdown",
   "metadata": {},
   "source": [
    "[문제7] 문자열 찾기\n",
    "\n",
    "다음의 문자열에서 \"short\"라는 문자열이 시작되는 인덱스를 구하시오.\n",
    "\n",
    "Life is too short, you need python"
   ]
  },
  {
   "cell_type": "code",
   "execution_count": 41,
   "metadata": {},
   "outputs": [
    {
     "data": {
      "text/plain": [
       "12"
      ]
     },
     "execution_count": 41,
     "metadata": {},
     "output_type": "execute_result"
    }
   ],
   "source": [
    "message = \"Life is too short, you need python\"\n",
    "\n",
    "message.find('short')"
   ]
  },
  {
   "cell_type": "markdown",
   "metadata": {},
   "source": [
    "\n",
    "\n",
    "[문제8] 문자열 바꾸기1\n",
    "\n",
    "다음과 같은 문자열이 있다.\n",
    "\n",
    "a:b:c:d\n",
    "문자열의 replace 함수를 이용하여 위 문자열을 다음과 같이 고치시오.\n",
    "\n",
    "a#b#c#d"
   ]
  },
  {
   "cell_type": "code",
   "execution_count": 42,
   "metadata": {},
   "outputs": [
    {
     "data": {
      "text/plain": [
       "'a#b#c#d'"
      ]
     },
     "execution_count": 42,
     "metadata": {},
     "output_type": "execute_result"
    }
   ],
   "source": [
    "message = 'a:b:c:d'\n",
    "message.replace(':','#')"
   ]
  },
  {
   "cell_type": "markdown",
   "metadata": {},
   "source": [
    "\n",
    "\n",
    "[문제9] 문자열 바꾸기2\n",
    "\n",
    "다음과 같은 문자열이 있다.\n",
    "\n",
    "a:b:c:d\n",
    "문자열의 split와 join 함수를 이용하여 위 문자열을 다음과 같이 고치시오.\n",
    "\n",
    "a#b#c#d"
   ]
  },
  {
   "cell_type": "code",
   "execution_count": 46,
   "metadata": {},
   "outputs": [
    {
     "data": {
      "text/plain": [
       "'a#b#c#d'"
      ]
     },
     "execution_count": 46,
     "metadata": {},
     "output_type": "execute_result"
    }
   ],
   "source": [
    "'#'.join(message.split(':'))"
   ]
  },
  {
   "cell_type": "markdown",
   "metadata": {},
   "source": [
    "### 리스트"
   ]
  },
  {
   "cell_type": "markdown",
   "metadata": {},
   "source": [
    "[문제1] 리스트 인덱싱\n",
    "\n",
    "다음과 같은 리스트 a가 있다.\n",
    "\n",
    "> a = ['Life', 'is', 'too', 'short', 'you', 'need', 'python']  \n",
    "\n",
    "a 리스트를 이용하여 다음과 같은 문자열을 출력하시오.\n",
    "\n",
    "you too\n"
   ]
  },
  {
   "cell_type": "code",
   "execution_count": 49,
   "metadata": {},
   "outputs": [
    {
     "name": "stdout",
     "output_type": "stream",
     "text": [
      "you too\n"
     ]
    }
   ],
   "source": [
    "a = ['Life', 'is', 'too', 'short', 'you', 'need', 'python'] \n",
    "\n",
    "print(a[4] + ' ' +a[2])"
   ]
  },
  {
   "cell_type": "markdown",
   "metadata": {},
   "source": [
    "\n",
    "[문제2] 리스트 조인\n",
    "\n",
    "['Life', 'is', 'too', 'short'] 라는 리스트를 Life is too short라는 문자열로 만들어 출력해 보자."
   ]
  },
  {
   "cell_type": "code",
   "execution_count": 51,
   "metadata": {},
   "outputs": [
    {
     "data": {
      "text/plain": [
       "'Life is too short'"
      ]
     },
     "execution_count": 51,
     "metadata": {},
     "output_type": "execute_result"
    }
   ],
   "source": [
    "b = ['Life', 'is', 'too', 'short']\n",
    "\n",
    "' '.join(b)"
   ]
  },
  {
   "cell_type": "markdown",
   "metadata": {},
   "source": [
    "\n",
    "\n",
    "\n",
    "[문제3] 리스트의 갯수\n",
    "\n",
    "다음과 같은 리스트 a가 있다.\n",
    "\n",
    "> a = [1, 2, 3]\n",
    "이 리스트의 갯수(사이즈)를 구하시오.\n",
    "\n",
    "(힌트. 객체의 길이를 리턴하는 파이썬 내장함수 len을 이용해 보자.)"
   ]
  },
  {
   "cell_type": "code",
   "execution_count": 66,
   "metadata": {},
   "outputs": [
    {
     "data": {
      "text/plain": [
       "3"
      ]
     },
     "execution_count": 66,
     "metadata": {},
     "output_type": "execute_result"
    }
   ],
   "source": [
    "a = [1, 2, 3] \n",
    "len(a)"
   ]
  },
  {
   "cell_type": "markdown",
   "metadata": {},
   "source": [
    "[문제4] 리스트의 append와 extend\n",
    "\n",
    "다음과 같은 리스트 a가 있다.\n",
    "\n",
    "> a = [1, 2, 3]\n",
    "\n",
    "리스트 a에 [4, 5]를 append 했을 때와 extend했을 때의 차이점은 무엇인가?"
   ]
  },
  {
   "cell_type": "code",
   "execution_count": 67,
   "metadata": {},
   "outputs": [
    {
     "data": {
      "text/plain": [
       "[1, 2, 3, [4, 5]]"
      ]
     },
     "execution_count": 67,
     "metadata": {},
     "output_type": "execute_result"
    }
   ],
   "source": [
    "a.append([4,5]) ## [4.5]를 리스트로 갖는 원소가 추가됨.\n",
    "a"
   ]
  },
  {
   "cell_type": "code",
   "execution_count": 68,
   "metadata": {},
   "outputs": [],
   "source": [
    "a = [1, 2, 3] "
   ]
  },
  {
   "cell_type": "code",
   "execution_count": 69,
   "metadata": {},
   "outputs": [],
   "source": [
    "a.extend([4,5]) ## 숫자 4, 5가 주가됨 \n",
    "a"
   ]
  },
  {
   "cell_type": "markdown",
   "metadata": {},
   "source": [
    "[문제5] 리스트 정렬\n",
    "\n",
    "[1, 3, 5, 4, 2]라는 리스트를 [5, 4, 3, 2, 1]로 만들어보자. (힌트. 리스트의 내장함수인 sort와 reverse를 활용해 보자.)"
   ]
  },
  {
   "cell_type": "code",
   "execution_count": 75,
   "metadata": {},
   "outputs": [
    {
     "data": {
      "text/plain": [
       "[5, 4, 3, 2, 1]"
      ]
     },
     "execution_count": 75,
     "metadata": {},
     "output_type": "execute_result"
    }
   ],
   "source": [
    "a = [1, 3, 5, 4, 2]\n",
    "a.sort()\n",
    "a.reverse()\n",
    "\n",
    "a"
   ]
  },
  {
   "cell_type": "markdown",
   "metadata": {},
   "source": [
    "[문제6] 리스트 삭제\n",
    "\n",
    "[1, 2, 3, 4, 5]라는 리스트를 [1, 3, 5]로 만들어 보자.\n",
    "\n",
    "1. 리스트의 remove 함수 이용하기\n",
    "2. 리스트의 pop 함수 이용하기\n",
    "3. del을 이용하기\n"
   ]
  },
  {
   "cell_type": "code",
   "execution_count": 79,
   "metadata": {},
   "outputs": [
    {
     "data": {
      "text/plain": [
       "[1, 3, 5]"
      ]
     },
     "execution_count": 79,
     "metadata": {},
     "output_type": "execute_result"
    }
   ],
   "source": [
    "a = [1, 2, 3, 4, 5]\n",
    "a.remove(2)\n",
    "a.remove(4)\n",
    "a"
   ]
  },
  {
   "cell_type": "code",
   "execution_count": 82,
   "metadata": {},
   "outputs": [
    {
     "data": {
      "text/plain": [
       "[1, 3, 5]"
      ]
     },
     "execution_count": 82,
     "metadata": {},
     "output_type": "execute_result"
    }
   ],
   "source": [
    "a = [1, 2, 3, 4, 5]\n",
    "a.pop(1)\n",
    "a.pop(2)\n",
    "a"
   ]
  },
  {
   "cell_type": "code",
   "execution_count": 83,
   "metadata": {},
   "outputs": [
    {
     "data": {
      "text/plain": [
       "[1, 3, 5]"
      ]
     },
     "execution_count": 83,
     "metadata": {},
     "output_type": "execute_result"
    }
   ],
   "source": [
    "a = [1, 2, 3, 4, 5]\n",
    "del a[1]\n",
    "del a[2]\n",
    "a"
   ]
  },
  {
   "cell_type": "markdown",
   "metadata": {},
   "source": [
    "### 튜플"
   ]
  },
  {
   "cell_type": "markdown",
   "metadata": {},
   "source": [
    "문제1] 튜플 작성\n",
    "\n",
    "숫자 3만을 요소값으로 가지는 튜플을 작성하라."
   ]
  },
  {
   "cell_type": "code",
   "execution_count": 90,
   "metadata": {},
   "outputs": [
    {
     "data": {
      "text/plain": [
       "tuple"
      ]
     },
     "execution_count": 90,
     "metadata": {},
     "output_type": "execute_result"
    }
   ],
   "source": [
    "a = (3,)\n",
    "type(a)"
   ]
  },
  {
   "cell_type": "markdown",
   "metadata": {},
   "source": [
    "[문제2] 튜플 변경\n",
    "\n",
    "다음은 튜플 (1, 2, 3)을 (1, 4, 3)과 같이 변경하려고 시도했을 경우이다. 오류의 원인에 대해서 설명하시오.\n",
    "\n",
    "> a = (1, 2, 3)  \n",
    "> a[1] = 4  \n",
    "Traceback (most recent call last):  \n",
    "  File \"<stdin>\", line 1, in <module>  \n",
    "TypeError: 'tuple' object does not support item assignment  "
   ]
  },
  {
   "cell_type": "markdown",
   "metadata": {},
   "source": [
    "튜플은 데이터 수정을 허용하지 않는다."
   ]
  },
  {
   "cell_type": "markdown",
   "metadata": {},
   "source": [
    "[문제3] 튜플 추가\n",
    "\n",
    "(1,2,3)이라는 튜플에 4라는 값을 추가하여 (1,2,3,4)처럼 만들어 출력해 보자.\n"
   ]
  },
  {
   "cell_type": "markdown",
   "metadata": {},
   "source": [
    "오류가 발생하며 추가되지 않는다."
   ]
  },
  {
   "cell_type": "markdown",
   "metadata": {},
   "source": [
    "### 딕셔너리"
   ]
  },
  {
   "cell_type": "markdown",
   "metadata": {},
   "source": [
    "[문제1] 딕셔너리 만들기\n",
    "\n",
    "다음 표를 딕셔너리로 만드시오.\n",
    "\n",
    "항목\t  값  \n",
    "name\t홍길동  \n",
    "birth\t1128  \n",
    "age\t    30  "
   ]
  },
  {
   "cell_type": "code",
   "execution_count": 95,
   "metadata": {},
   "outputs": [
    {
     "data": {
      "text/plain": [
       "{'name': '홍길동', 'birth': 1128, 'age': '30'}"
      ]
     },
     "execution_count": 95,
     "metadata": {},
     "output_type": "execute_result"
    }
   ],
   "source": [
    "a = { 'name': '홍길동', 'birth': 1128, 'age': '30'}\n",
    "a"
   ]
  },
  {
   "cell_type": "markdown",
   "metadata": {},
   "source": [
    "[문제2] 딕셔너리 오류\n",
    "\n",
    "다음과 같은 딕셔너리 a가 있다.\n",
    "\n",
    "> a = dict()\n",
    "> a\n",
    "{}\n",
    "다음 중 오류가 발생하는 경우는 어떤 경우인가? 그리고 그 이유를 설명하시오.\n",
    "\n",
    "a['name'] = 'python'  \n",
    "a[('a',)] = 'python'  \n",
    "a[[1]] = 'python'  \n",
    "a[250] = 'python'  "
   ]
  },
  {
   "cell_type": "code",
   "execution_count": 98,
   "metadata": {},
   "outputs": [],
   "source": [
    "a = dict()"
   ]
  },
  {
   "cell_type": "markdown",
   "metadata": {},
   "source": [
    "a[[1]] = 'python'  \n",
    "[[]]는 리스트를 불러오기 때문에 존재하지 않는 리스트를 불러오게 된다."
   ]
  },
  {
   "cell_type": "markdown",
   "metadata": {},
   "source": [
    "[문제3] 딕셔너리 값 추출1\n",
    "\n",
    "딕셔너리 a에서 'B'에 해당되는 값을 추출하고 삭제해 보자.\n",
    "\n",
    "> a = {'A':90, 'B':80, 'C':70}"
   ]
  },
  {
   "cell_type": "code",
   "execution_count": 103,
   "metadata": {},
   "outputs": [
    {
     "data": {
      "text/plain": [
       "80"
      ]
     },
     "execution_count": 103,
     "metadata": {},
     "output_type": "execute_result"
    }
   ],
   "source": [
    "a = {'A':90, 'B':80, 'C':70}\n",
    "\n",
    "a['B']    "
   ]
  },
  {
   "cell_type": "markdown",
   "metadata": {},
   "source": [
    "[문제4] 딕셔너리 값 추출2\n",
    "\n",
    "다음은 딕셔너리의 a에서 'C'라는 key에 해당되는 value를 출력하는 프로그램이다.\n",
    "\n",
    "> a = {'A':90, 'B':80}\n",
    "> a['C']  \n",
    "Traceback (most recent call last):  \n",
    "  File \"<stdin>\", line 1, in <module>  \n",
    "KeyError: 'C'  \n",
    "a 딕셔너리에는 'C'라는 key가 없으므로 위와 같은 오류가 발생하게 된다.  \n",
    "'C'에 해당되는 키값이 없을 경우 오류 대신 70을 얻을수 있도록 수정해 보자.\n"
   ]
  },
  {
   "cell_type": "code",
   "execution_count": 106,
   "metadata": {},
   "outputs": [
    {
     "data": {
      "text/plain": [
       "70"
      ]
     },
     "execution_count": 106,
     "metadata": {},
     "output_type": "execute_result"
    }
   ],
   "source": [
    "a = {'A':90, 'B':80} \n",
    "\n",
    "a['C'] = 70\n",
    "\n",
    "a['C']"
   ]
  },
  {
   "cell_type": "markdown",
   "metadata": {},
   "source": [
    "[문제5] 딕셔너리 최소값\n",
    "\n",
    "다음과 같은 딕셔너리 a가 있다.\n",
    "\n",
    "> a = {'A':90, 'B':80, 'C':70}  \n",
    "딕셔너리 a의 value중에서 최소 값을 출력하시오.  \n",
    "\n",
    "(힌트. 여러개의 요소값중 최소값을 얻을수 있는 min함수를 이용해 보자.)\n",
    "\n"
   ]
  },
  {
   "cell_type": "code",
   "execution_count": 116,
   "metadata": {},
   "outputs": [
    {
     "data": {
      "text/plain": [
       "90"
      ]
     },
     "execution_count": 116,
     "metadata": {},
     "output_type": "execute_result"
    }
   ],
   "source": [
    "a = {'A':90, 'B':80, 'C':70}\n",
    "\n",
    "a[min(a)]"
   ]
  },
  {
   "cell_type": "markdown",
   "metadata": {},
   "source": [
    "[문제6] 딕셔너리 리스트 변환\n",
    "\n",
    "다음과 같은 딕셔너리 a가 있다.\n",
    "\n",
    "> a = {'A':90, 'B':80, 'C':70}  \n",
    "위 딕셔너리 a를 다음과 같은 리스트로 만들어보자.  \n",
    "\n",
    "[('A', 90), ('B', 80), ('C', 70)]  \n",
    "(힌트. 딕셔너리의 items 내장함수를 이용해 보자.)"
   ]
  },
  {
   "cell_type": "code",
   "execution_count": 117,
   "metadata": {},
   "outputs": [
    {
     "data": {
      "text/plain": [
       "[('A', 90), ('B', 80), ('C', 70)]"
      ]
     },
     "execution_count": 117,
     "metadata": {},
     "output_type": "execute_result"
    }
   ],
   "source": [
    "a = {'A':90, 'B':80, 'C':70}\n",
    "a = list(a.items())\n",
    "a"
   ]
  },
  {
   "cell_type": "markdown",
   "metadata": {},
   "source": [
    "### 집합"
   ]
  },
  {
   "cell_type": "markdown",
   "metadata": {},
   "source": [
    "- 중복을 허용하지 않는다.\n",
    "- 순서가 없다(Unordered).\n",
    "\n",
    "리스트나 튜플은 순서가 있기(ordered) 때문에 인덱싱을 통해 자료형의 값을 얻을 수 있지만 set 자료형은 순서가 없기(unordered) 때문에 인덱싱으로 값을 얻을 수 없다. 이는 마치 02-5절에서 살펴본 딕셔너리와 비슷하다. 딕셔너리 역시 순서가 없는 자료형이라 인덱싱을 지원하지 않는다. 만약 set 자료형에 저장된 값을 인덱싱으로 접근하려면 다음과 같이 리스트나 튜플로 변환한 후 해야 한다.\n"
   ]
  },
  {
   "cell_type": "markdown",
   "metadata": {},
   "source": [
    "> s1 = set([1,2,3])  \n",
    "> l1 = list(s1)  \n",
    "> l1  \n",
    "[1, 2, 3]  \n",
    "> l1[0]  \n",
    "1    \n",
    "> t1 = tuple(s1)  \n",
    "> t1  \n",
    "(1, 2, 3)  \n",
    "> t1[0]  \n",
    "1  "
   ]
  },
  {
   "cell_type": "markdown",
   "metadata": {},
   "source": [
    "[문제1] 집합 만들기1\n",
    "\n",
    "['a', 'b', 'c'] 라는 리스트를 집합 자료형으로 만드시오."
   ]
  },
  {
   "cell_type": "code",
   "execution_count": 118,
   "metadata": {},
   "outputs": [
    {
     "data": {
      "text/plain": [
       "{'a', 'b', 'c'}"
      ]
     },
     "execution_count": 118,
     "metadata": {},
     "output_type": "execute_result"
    }
   ],
   "source": [
    "a = ['a', 'b', 'c']\n",
    "set(a)"
   ]
  },
  {
   "cell_type": "markdown",
   "metadata": {},
   "source": [
    "[문제2] 집합의 중복\n",
    "\n",
    "중복을 허용하지 않는 집합 자료형의 특징을 이용하여 다음 a 리스트에서 중복된 숫자들을 제거해 보자.\n",
    "\n",
    "> a = [1, 1, 1, 2, 2, 3, 3, 3, 4, 4, 5]"
   ]
  },
  {
   "cell_type": "code",
   "execution_count": 119,
   "metadata": {},
   "outputs": [
    {
     "data": {
      "text/plain": [
       "{1, 2, 3, 4, 5}"
      ]
     },
     "execution_count": 119,
     "metadata": {},
     "output_type": "execute_result"
    }
   ],
   "source": [
    "a = [1, 1, 1, 2, 2, 3, 3, 3, 4, 4, 5]\n",
    "set(a)"
   ]
  },
  {
   "cell_type": "markdown",
   "metadata": {},
   "source": [
    "[문제3] 차집합\n",
    "\n",
    "다음과 같은 2개의 집합 자료형이 있다.\n",
    "\n",
    "> s1 = set(['a', 'b', 'c', 'd', 'e'])  \n",
    "> s2 = set(['c', 'd', 'e', 'f', 'g'])  \n",
    "s1 집합의 항목 중 s2 집합에 포함된 항목을 제거 해 보자."
   ]
  },
  {
   "cell_type": "code",
   "execution_count": 122,
   "metadata": {},
   "outputs": [
    {
     "data": {
      "text/plain": [
       "{'a', 'b'}"
      ]
     },
     "execution_count": 122,
     "metadata": {},
     "output_type": "execute_result"
    }
   ],
   "source": [
    "s1 = set(['a', 'b', 'c', 'd', 'e'])\n",
    "s2 = set(['c', 'd', 'e', 'f', 'g'])\n",
    "\n",
    "s1 - s2"
   ]
  },
  {
   "cell_type": "markdown",
   "metadata": {},
   "source": [
    "[문제4] 집합 만들기2\n",
    "\n",
    "집합 자료형은 다음과 같이 만들 수 있다.\n",
    "\n",
    "> a = {'a', 'b', 'c'}  \n",
    "> a  \n",
    "{'a', 'b', 'c'}  \n",
    "> type(a)   \n",
    "<class 'set'>  \n",
    "값이 하나도 없는 비어있는 set을 만들기 위해 다음과 같이 시도 해 보자.\n",
    "\n",
    "> a = {}  \n",
    "> type(a)  \n",
    "<class 'dict'>\n",
    "위와 같이 값이 있을 경우에는 집합 자료형으로 인식했지만 값이 없을경우에는 딕셔너리로 인식하게 된다. 그렇다면 값이 비어있는 집합 자료형은 어떻게 만들 수 있을까?\n"
   ]
  },
  {
   "cell_type": "code",
   "execution_count": 124,
   "metadata": {},
   "outputs": [
    {
     "data": {
      "text/plain": [
       "set"
      ]
     },
     "execution_count": 124,
     "metadata": {},
     "output_type": "execute_result"
    }
   ],
   "source": [
    "a = set({})\n",
    "type(a)"
   ]
  },
  {
   "cell_type": "markdown",
   "metadata": {},
   "source": [
    "[문제5] 집합 추가\n",
    "\n",
    "다음과 같은 집합 자료형 a가 있다.\n",
    "\n",
    "> a = {'a', 'b', 'c'}  \n",
    "a 에 {'d', 'e', 'f'} 를 추가하시오.\n"
   ]
  },
  {
   "cell_type": "code",
   "execution_count": 128,
   "metadata": {},
   "outputs": [
    {
     "data": {
      "text/plain": [
       "{'a', 'b', 'c', 'd', 'e', 'f'}"
      ]
     },
     "execution_count": 128,
     "metadata": {},
     "output_type": "execute_result"
    }
   ],
   "source": [
    "a = {'a', 'b', 'c'}\n",
    "a.add('d')\n",
    "a.add('e')\n",
    "a.add('f')\n",
    "a"
   ]
  },
  {
   "cell_type": "markdown",
   "metadata": {},
   "source": [
    "### 불(Bool)"
   ]
  },
  {
   "cell_type": "markdown",
   "metadata": {},
   "source": [
    "[문제1] 불 자료형과 조건문\n",
    "\n",
    "다음은 불 자료형을 리턴하는 조건문들이다. 각 각의 예제의 결과가 어떻게 나오는지 예상해 보자.\n",
    "\n",
    "> 1 != 1  \n",
    "> 3 > 1  \n",
    "> 'a' in 'abc'  \n",
    "> 'a' not in [1, 2, 3]  "
   ]
  },
  {
   "cell_type": "markdown",
   "metadata": {},
   "source": [
    "False  \n",
    "True\n",
    "True\n",
    "True"
   ]
  },
  {
   "cell_type": "code",
   "execution_count": 130,
   "metadata": {},
   "outputs": [
    {
     "name": "stdout",
     "output_type": "stream",
     "text": [
      "False\n",
      "True\n",
      "True\n",
      "True\n"
     ]
    }
   ],
   "source": [
    "print(1 != 1)\n",
    "print(3 > 1)\n",
    "print('a' in 'abc')\n",
    "print('a' not in [1, 2, 3])"
   ]
  },
  {
   "cell_type": "markdown",
   "metadata": {},
   "source": [
    "[문제2] bool 연산자\n",
    "\n",
    "bool 연산자를 이용하여 다음 자료형들의 참과 거짓을 판별하시오.\n",
    "\n",
    "> a = \"python\"  \n",
    "> b = \"\"  \n",
    "> c = (1,2,3)  \n",
    "> d = 0  "
   ]
  },
  {
   "cell_type": "code",
   "execution_count": 131,
   "metadata": {},
   "outputs": [
    {
     "name": "stdout",
     "output_type": "stream",
     "text": [
      "True\n",
      "False\n",
      "True\n",
      "False\n"
     ]
    }
   ],
   "source": [
    "a = \"python\"\n",
    "b = \"\"\n",
    "c = (1,2,3)\n",
    "d = 0\n",
    "print(bool(a))\n",
    "print(bool(b))\n",
    "print(bool(c))\n",
    "print(bool(d))\n"
   ]
  },
  {
   "cell_type": "markdown",
   "metadata": {},
   "source": [
    "### 변수"
   ]
  },
  {
   "cell_type": "markdown",
   "metadata": {},
   "source": [
    "[문제1] 변수와 객체1\n",
    "\n",
    "다음 예제를 실행하고 그 결과를 설명하시오.\n",
    "\n",
    "> a = [1, 2, 3]  \n",
    "> b = [1, 2, 3]  \n",
    "> a is b  "
   ]
  },
  {
   "cell_type": "markdown",
   "metadata": {},
   "source": [
    "답은 False. a와 b는 그 내용은 같지만 메모리 상에 서로 다른 존재이다. "
   ]
  },
  {
   "cell_type": "code",
   "execution_count": 2,
   "metadata": {},
   "outputs": [
    {
     "data": {
      "text/plain": [
       "False"
      ]
     },
     "execution_count": 2,
     "metadata": {},
     "output_type": "execute_result"
    }
   ],
   "source": [
    "a = [1, 2, 3]\n",
    "b = [1, 2, 3]\n",
    "a is b"
   ]
  },
  {
   "cell_type": "markdown",
   "metadata": {},
   "source": [
    "[문제2] 변수와 객체2\n",
    "\n",
    "다음 예제를 실행하고 그 결과를 설명하시오.\n",
    "\n",
    "> a = [1, 2, 3]  \n",
    "> b = a  \n",
    "> a is b  "
   ]
  },
  {
   "cell_type": "markdown",
   "metadata": {},
   "source": [
    "답은 True. b는 a를 포인트하는 변수로 사용되었다. "
   ]
  },
  {
   "cell_type": "code",
   "execution_count": 3,
   "metadata": {},
   "outputs": [
    {
     "data": {
      "text/plain": [
       "True"
      ]
     },
     "execution_count": 3,
     "metadata": {},
     "output_type": "execute_result"
    }
   ],
   "source": [
    "a = [1, 2, 3]\n",
    "b = a\n",
    "a is b"
   ]
  },
  {
   "cell_type": "markdown",
   "metadata": {},
   "source": [
    "\n",
    "[문제3] 객체의 변경\n",
    "\n",
    "파이썬은 다음처럼 동일한 값에 여러 개의 변수를 선언할 수 있다.  \n",
    "아래와 같이 a, b 변수를 선언 한 후 a의 첫 번째 요소값을 변경하면 b의 값은 어떻게 될까?  \n",
    "그리고 이런 결과가 나오는 이유에 대해서 설명해 보자.  \n",
    "\n",
    "> a = b = [1, 2, 3]  \n",
    "> a[1] = 4  \n",
    "> print(b)  "
   ]
  },
  {
   "cell_type": "markdown",
   "metadata": {},
   "source": [
    "변경된다. a와 b는 메모리 상에 같은 존재이기 때문이다."
   ]
  },
  {
   "cell_type": "code",
   "execution_count": 5,
   "metadata": {},
   "outputs": [
    {
     "name": "stdout",
     "output_type": "stream",
     "text": [
      "[1, 4, 3]\n"
     ]
    }
   ],
   "source": [
    "a = b = [1, 2, 3]\n",
    "a[1] = 4\n",
    "print(b)"
   ]
  },
  {
   "cell_type": "markdown",
   "metadata": {},
   "source": [
    "[문제4] 리스트 복사1\n",
    "\n",
    "다음 예제를 실행하고 그 결과를 설명하시오.\n",
    "\n",
    "> a = [1, 2, 3]  \n",
    "> b = a[:]  \n",
    "> a is b  "
   ]
  },
  {
   "cell_type": "markdown",
   "metadata": {},
   "source": [
    "Fasle. b는 a의 값을 복제했을 뿐 메모리상에는 다른 존재."
   ]
  },
  {
   "cell_type": "code",
   "execution_count": 6,
   "metadata": {},
   "outputs": [
    {
     "data": {
      "text/plain": [
       "False"
      ]
     },
     "execution_count": 6,
     "metadata": {},
     "output_type": "execute_result"
    }
   ],
   "source": [
    "a = [1, 2, 3]\n",
    "b = a[:]\n",
    "a is b"
   ]
  },
  {
   "cell_type": "markdown",
   "metadata": {},
   "source": [
    "[문제5] 리스트 복사2\n",
    "\n",
    "b리스트는 a리스트를 copy하여 다음과 같이 생성하였다.\n",
    "\n",
    "> a = [1, 2, 3]  \n",
    "> b = a[:]  \n",
    "그리고 다음과 같이 a리스트의 두번째 요소값을 2에서 4로 바꾸었다.  \n",
    "\n",
    "> a[1] = 4  \n",
    "> a  \n",
    "[1, 4, 3]  \n",
    "> print(b)  \n",
    "이제 b리스트를 출력하면 어떤 값이 출력될까? 그리고 그런 결과값이 나오는 이유에 대해서 설명하시오."
   ]
  },
  {
   "cell_type": "markdown",
   "metadata": {},
   "source": [
    "본래 (변경 전) a의 값이 출력된다. "
   ]
  },
  {
   "cell_type": "code",
   "execution_count": 7,
   "metadata": {},
   "outputs": [],
   "source": [
    "a = [1, 2, 3]\n",
    "b = a[:]"
   ]
  },
  {
   "cell_type": "code",
   "execution_count": 8,
   "metadata": {},
   "outputs": [
    {
     "name": "stdout",
     "output_type": "stream",
     "text": [
      "[1, 2, 3]\n"
     ]
    }
   ],
   "source": [
    "a[1] = 4\n",
    "a\n",
    "[1, 4, 3]\n",
    "print(b)"
   ]
  },
  {
   "cell_type": "markdown",
   "metadata": {},
   "source": [
    "[문제6] 리스트의 더하기와 extend\n",
    "\n",
    "다음과 같은 리스트 a가 있다.\n",
    "\n",
    "> a = [1, 2, 3]  \n",
    "리스트 a에 [4, 5]를 + 기호를 이용하여 더한 결과는 다음과 같다.\n",
    "\n",
    "> a = [1, 2, 3]  \n",
    "> a = a + [4,5]  \n",
    "> a\n",
    "[1, 2, 3, 4, 5]  \n",
    "리스트 a에 [4,5]를 extend를 이용하여 더한 결과는 다음과 같다.\n",
    "\n",
    "> a = [1, 2, 3]  \n",
    "> a.extend([4, 5])  \n",
    "> a  \n",
    "[1, 2, 3, 4, 5]  \n",
    "+ 기호를 이용하여 더한것과 extend한 것의 차이점이 있을까? 있다면 그 차이점에 대해서 얘기해 보자."
   ]
  },
  {
   "cell_type": "markdown",
   "metadata": {},
   "source": [
    "동일하다"
   ]
  },
  {
   "cell_type": "markdown",
   "metadata": {},
   "source": [
    "[문제7] 리스트 복사3\n",
    "\n",
    "a리스트는 리스트내에 [2, 3]이라는 리스트를 하나 더 포함하고 있는 리스트이다. 이 a리스트를 copy하여 b리스트를 다음과 같이 만들었다.\n",
    "\n",
    "> a = [1, [2, 3], 4]  \n",
    "> b = a[:]  \n",
    "그리고 다음과 같이 a 리스트에 포함된 [2, 3]의 첫번째 값을 2에서 5로 바꾸어 주었다. 이렇게 a리스트에 포함된 리스트의 요소값을 변경하면 b 리스트는 어떻게 될까? 그리고 그런 결과값이 나오는 이유에 대해서 설명하시오.\n",
    "\n",
    "> a[1][0] = 5  \n",
    "> a  \n",
    "[1, [5, 3], 4]  \n",
    "> print(b)"
   ]
  },
  {
   "cell_type": "code",
   "execution_count": 9,
   "metadata": {},
   "outputs": [],
   "source": [
    "a = [1, [2, 3], 4]\n",
    "b = a[:]"
   ]
  },
  {
   "cell_type": "code",
   "execution_count": 10,
   "metadata": {},
   "outputs": [
    {
     "name": "stdout",
     "output_type": "stream",
     "text": [
      "[1, [5, 3], 4]\n"
     ]
    }
   ],
   "source": [
    "a[1][0] = 5\n",
    "a\n",
    "[1, [5, 3], 4]\n",
    "print(b)"
   ]
  },
  {
   "cell_type": "markdown",
   "metadata": {},
   "source": [
    "b의 [2,3] a의 [2,3]은 메모리 상 같은 존재기 때문"
   ]
  },
  {
   "cell_type": "markdown",
   "metadata": {},
   "source": [
    "### 제어문"
   ]
  },
  {
   "cell_type": "markdown",
   "metadata": {},
   "source": [
    "#### if"
   ]
  },
  {
   "cell_type": "markdown",
   "metadata": {},
   "source": [
    "[문제1] 조건문1\n",
    "\n",
    "홍길동씨는 5,000원의 돈을 가지고 있고 카드는 없다고 한다. 이러한 홍길동씨의 상태는 아래와 같이 표현할 수 있을 것이다.\n",
    "\n",
    "> money = 5000  \n",
    "> card = False\n",
    "\n",
    "홍길동씨는 택시를 타고 목적지까지 가려고 한다. 목적지까지 가기 위해서는 카드를 소유하고 있거나 4,000원 이상의 현금을 가지고 있어야 한다고 한다. 홍길동씨는 택시를 탈 수 있는지를 판별할 수 있는 조건식을 작성하고 그 결과를 출력하시오."
   ]
  },
  {
   "cell_type": "code",
   "execution_count": 4,
   "metadata": {},
   "outputs": [
    {
     "name": "stdout",
     "output_type": "stream",
     "text": [
      "탈 수 있다.\n"
     ]
    }
   ],
   "source": [
    "money = 5000\n",
    "card  = False\n",
    "\n",
    "if (money >= 4000) | (card == True):\n",
    "    print(\"탈 수 있다.\")\n",
    "else:\n",
    "    print(\"탈 수 없다.\")"
   ]
  },
  {
   "cell_type": "markdown",
   "metadata": {},
   "source": [
    "[문제2] 조건문2\n",
    "\n",
    "홍길동씨의 행운권 번호는 23번 이라고 한다. 다음은 행운권 당첨번호 리스트이다.\n",
    "\n",
    "> lucky_list = [1, 9, 23, 46]  \n",
    "\n",
    "홍길동씨가 당첨되었다면 “야호”라는 문자열을 출력하는 프로그램을 작성하시오.\n",
    "\n",
    "\n"
   ]
  },
  {
   "cell_type": "code",
   "execution_count": 5,
   "metadata": {},
   "outputs": [
    {
     "name": "stdout",
     "output_type": "stream",
     "text": [
      "야호\n"
     ]
    }
   ],
   "source": [
    "lucky_list = [1, 9, 23, 46]\n",
    "luckyNo = 23\n",
    "\n",
    "if luckyNo in lucky_list:\n",
    "    print(\"야호\")"
   ]
  },
  {
   "cell_type": "markdown",
   "metadata": {},
   "source": [
    "[문제3] 홀수 짝수 판별\n",
    "\n",
    "주어진 수가 짝수인지 홀수인지 판별하는 프로그램을 작성하시오."
   ]
  },
  {
   "cell_type": "code",
   "execution_count": 9,
   "metadata": {},
   "outputs": [
    {
     "name": "stdout",
     "output_type": "stream",
     "text": [
      "홀수\n"
     ]
    }
   ],
   "source": [
    "n = 1\n",
    "\n",
    "if n % 2 == 0:\n",
    "    print(\"짝수\")\n",
    "else:\n",
    "    print(\"홀수\")"
   ]
  },
  {
   "cell_type": "markdown",
   "metadata": {},
   "source": [
    "[문제4] 문자열 분석\n",
    "\n",
    "다음 문자열을 분석하여 나이가 30미만이고 키가 175이상인 경우에는 YES를 출력하고 아닌 경우에는 NO를 출력하는 프로그램을 작성하시오.\n",
    "\n",
    "나이:30,키:180"
   ]
  },
  {
   "cell_type": "code",
   "execution_count": 10,
   "metadata": {},
   "outputs": [
    {
     "name": "stdout",
     "output_type": "stream",
     "text": [
      "NO\n"
     ]
    }
   ],
   "source": [
    "age = 30\n",
    "height = 180\n",
    "\n",
    "if age < 30 and height >= 175:\n",
    "    print(\"YES\")\n",
    "else:\n",
    "    print(\"NO\")"
   ]
  },
  {
   "cell_type": "markdown",
   "metadata": {},
   "source": [
    "\n",
    "\n",
    "\n",
    "\n",
    "\n",
    "[문제5] 조건문3\n",
    "\n",
    "다음 코드의 결과값은 무엇일까?\n",
    "\n",
    "> a = \"Life is too short, you need python\"  \n",
    "> if 'wife' in a:  \n",
    "...     print('wife')  \n",
    "... elif 'python' in a and 'you' not in a:  \n",
    "...     print('python')  \n",
    "... elif 'shirt' not in a:  \n",
    "...     print('shirt')  \n",
    "... elif 'need' in a:  \n",
    "...     print('need')  \n",
    "... else:  \n",
    "...     print('none')  "
   ]
  },
  {
   "cell_type": "code",
   "execution_count": 11,
   "metadata": {},
   "outputs": [
    {
     "name": "stdout",
     "output_type": "stream",
     "text": [
      "shirt\n"
     ]
    }
   ],
   "source": [
    "a = \"Life is too short, you need python\"  \n",
    "if 'wife' in a:  \n",
    "     print('wife')  \n",
    "elif 'python' in a and 'you' not in a:  \n",
    "     print('python')  \n",
    "elif 'shirt' not in a:  \n",
    "     print('shirt')  \n",
    "elif 'need' in a:  \n",
    "     print('need')  \n",
    "else:  \n",
    "     print('none')"
   ]
  },
  {
   "cell_type": "markdown",
   "metadata": {},
   "source": [
    "#### while"
   ]
  },
  {
   "cell_type": "markdown",
   "metadata": {},
   "source": [
    "[문제1] 1부터 100까지 더하기\n",
    "\n",
    "1부터 100까지의 자연수를 모두 더하고 그 결과를 출력하시오."
   ]
  },
  {
   "cell_type": "code",
   "execution_count": 17,
   "metadata": {},
   "outputs": [
    {
     "data": {
      "text/plain": [
       "5050"
      ]
     },
     "execution_count": 17,
     "metadata": {},
     "output_type": "execute_result"
    }
   ],
   "source": [
    "i = 0\n",
    "answer = 0\n",
    "while i < 101:\n",
    "    answer = answer + i\n",
    "    i = i + 1\n",
    "answer"
   ]
  },
  {
   "cell_type": "markdown",
   "metadata": {},
   "source": [
    "[문제2] 3의 배수의 합\n",
    "\n",
    "1부터 1000까지의 자연수 중 3의 배수의 합을 구하시오."
   ]
  },
  {
   "cell_type": "code",
   "execution_count": 22,
   "metadata": {},
   "outputs": [
    {
     "data": {
      "text/plain": [
       "166833"
      ]
     },
     "execution_count": 22,
     "metadata": {},
     "output_type": "execute_result"
    }
   ],
   "source": [
    "i = 0\n",
    "answer = 0\n",
    "while i < 1001:\n",
    "    i = i + 1\n",
    "    if i % 3 == 0:\n",
    "        answer = answer + i\n",
    "        \n",
    "answer"
   ]
  },
  {
   "cell_type": "markdown",
   "metadata": {},
   "source": [
    "[문제3] 50점 이상의 총합\n",
    "\n",
    "다음은 A학급 학생의 점수를 나타내는 리스트이다. 다음 리스트에서 50점 이상의 점수들의 총합을 구하시오.\n",
    "\n",
    "A = [20, 55, 67, 82, 45, 33, 90, 87, 100, 25]"
   ]
  },
  {
   "cell_type": "code",
   "execution_count": 27,
   "metadata": {},
   "outputs": [
    {
     "data": {
      "text/plain": [
       "481"
      ]
     },
     "execution_count": 27,
     "metadata": {},
     "output_type": "execute_result"
    }
   ],
   "source": [
    "A = [20, 55, 67, 82, 45, 33, 90, 87, 100, 25]\n",
    "i = 0\n",
    "over50Total = 0\n",
    "while i < len(A):\n",
    "    if A[i] > 50:\n",
    "        over50Total = over50Total + A[i]\n",
    "    i = i + 1\n",
    "over50Total"
   ]
  },
  {
   "cell_type": "markdown",
   "metadata": {},
   "source": [
    "[문제4] 별 표시하기1\n",
    "\n",
    "while문을 이용하여 아래와 같이 별(*)을 표시하는 프로그램을 작성해 보자.\n",
    "\n",
    "\\*  \n",
    "\\**  \n",
    "\\***  \n",
    "\\**** \n"
   ]
  },
  {
   "cell_type": "code",
   "execution_count": 35,
   "metadata": {},
   "outputs": [
    {
     "name": "stdout",
     "output_type": "stream",
     "text": [
      "*\n",
      "**\n",
      "***\n",
      "****\n"
     ]
    }
   ],
   "source": [
    "i = 0\n",
    "star = ''\n",
    "while i < 4:\n",
    "    i = i + 1\n",
    "    j = 0\n",
    "    star= ''\n",
    "    while j < i:\n",
    "        j = j + 1\n",
    "        star = star + '*'\n",
    "    print(star)"
   ]
  },
  {
   "cell_type": "markdown",
   "metadata": {},
   "source": [
    "[문제5] 별 표시하기2\n",
    "\n",
    "while문을 이용하여 아래와 같이 별(*)을 표시하는 프로그램을 작성해 보자.\n",
    "\n",
    "\\*******  \n",
    " \\*****  \n",
    "  \\***  \n",
    "   \\*  "
   ]
  },
  {
   "cell_type": "code",
   "execution_count": 46,
   "metadata": {},
   "outputs": [
    {
     "name": "stdout",
     "output_type": "stream",
     "text": [
      "*******\n",
      " ***** \n",
      "  ***  \n",
      "   *   \n"
     ]
    }
   ],
   "source": [
    "i = 7\n",
    "star = ''\n",
    "while i > 0:\n",
    "    j = i\n",
    "    star= ''\n",
    "    while j > 0:\n",
    "        j = j - 1\n",
    "        star = star + '*'\n",
    "    print(\"{0:^7}\".format(star) )\n",
    "    i = i - 2"
   ]
  },
  {
   "cell_type": "markdown",
   "metadata": {},
   "source": [
    "#### for"
   ]
  },
  {
   "cell_type": "markdown",
   "metadata": {},
   "source": [
    "[문제1] 1부터 100까지 출력\n",
    "\n",
    "1부터 100까지의 숫자를 for문을 이용하여 출력하시오.\n",
    "\n",
    "\n"
   ]
  },
  {
   "cell_type": "code",
   "execution_count": 53,
   "metadata": {},
   "outputs": [
    {
     "name": "stdout",
     "output_type": "stream",
     "text": [
      "1\n",
      "2\n",
      "3\n",
      "4\n",
      "5\n",
      "6\n",
      "7\n",
      "8\n",
      "9\n",
      "10\n",
      "11\n",
      "12\n",
      "13\n",
      "14\n",
      "15\n",
      "16\n",
      "17\n",
      "18\n",
      "19\n",
      "20\n",
      "21\n",
      "22\n",
      "23\n",
      "24\n",
      "25\n",
      "26\n",
      "27\n",
      "28\n",
      "29\n",
      "30\n",
      "31\n",
      "32\n",
      "33\n",
      "34\n",
      "35\n",
      "36\n",
      "37\n",
      "38\n",
      "39\n",
      "40\n",
      "41\n",
      "42\n",
      "43\n",
      "44\n",
      "45\n",
      "46\n",
      "47\n",
      "48\n",
      "49\n",
      "50\n",
      "51\n",
      "52\n",
      "53\n",
      "54\n",
      "55\n",
      "56\n",
      "57\n",
      "58\n",
      "59\n",
      "60\n",
      "61\n",
      "62\n",
      "63\n",
      "64\n",
      "65\n",
      "66\n",
      "67\n",
      "68\n",
      "69\n",
      "70\n",
      "71\n",
      "72\n",
      "73\n",
      "74\n",
      "75\n",
      "76\n",
      "77\n",
      "78\n",
      "79\n",
      "80\n",
      "81\n",
      "82\n",
      "83\n",
      "84\n",
      "85\n",
      "86\n",
      "87\n",
      "88\n",
      "89\n",
      "90\n",
      "91\n",
      "92\n",
      "93\n",
      "94\n",
      "95\n",
      "96\n",
      "97\n",
      "98\n",
      "99\n",
      "100\n"
     ]
    }
   ],
   "source": [
    "for i in range(1,101):\n",
    "        print(i)"
   ]
  },
  {
   "cell_type": "markdown",
   "metadata": {},
   "source": [
    "[문제2] 5의 배수의 총합\n",
    "\n",
    "for문을 이용하여 1부터 1000까지의 자연수 중 5의 배수에 해당되는 자연수들의 총합을 구하시오.\n"
   ]
  },
  {
   "cell_type": "code",
   "execution_count": 58,
   "metadata": {},
   "outputs": [
    {
     "data": {
      "text/plain": [
       "100500"
      ]
     },
     "execution_count": 58,
     "metadata": {},
     "output_type": "execute_result"
    }
   ],
   "source": [
    "answer = 0 \n",
    "for i in range(1,1001):\n",
    "    if i % 5 == 0:\n",
    "        answer = answer + i\n",
    "answer"
   ]
  },
  {
   "cell_type": "markdown",
   "metadata": {},
   "source": [
    "[문제3] 학급의 평균 점수\n",
    "\n",
    "for문을 이용하여 A 학급의 평균 점수를 구해 보자.\n",
    "\n",
    "A = [70, 60, 55, 75, 95, 90, 80, 80, 85, 100]"
   ]
  },
  {
   "cell_type": "code",
   "execution_count": 60,
   "metadata": {},
   "outputs": [
    {
     "data": {
      "text/plain": [
       "79.0"
      ]
     },
     "execution_count": 60,
     "metadata": {},
     "output_type": "execute_result"
    }
   ],
   "source": [
    "A = [70, 60, 55, 75, 95, 90, 80, 80, 85, 100]\n",
    "count = 0\n",
    "totalScore = 0 \n",
    "for score in A:\n",
    "    totalScore = totalScore + score\n",
    "    count = count + 1\n",
    "\n",
    "average = totalScore / count\n",
    "average"
   ]
  },
  {
   "cell_type": "markdown",
   "metadata": {},
   "source": [
    "[문제4] 혈액형\n",
    "\n",
    "다음은 학생들의 혈액형(A, B, AB, O)에 대한 데이터이다.\n",
    "\n",
    "['A', 'B', 'A', 'O', 'AB', 'AB', 'O', 'A', 'B', 'O', 'B', 'AB']  \n",
    "for 문을 이용하여 각 혈액형 별 학생수의 합계를 구하시오."
   ]
  },
  {
   "cell_type": "code",
   "execution_count": 63,
   "metadata": {},
   "outputs": [
    {
     "data": {
      "text/plain": [
       "(3, 3, 3, 3)"
      ]
     },
     "execution_count": 63,
     "metadata": {},
     "output_type": "execute_result"
    }
   ],
   "source": [
    "bloodType = ['A', 'B', 'A', 'O', 'AB', 'AB', 'O', 'A', 'B', 'O', 'B', 'AB'] \n",
    "countA = 0\n",
    "countB = 0\n",
    "countO = 0 \n",
    "countAB = 0\n",
    "\n",
    "for type in bloodType:\n",
    "    if type == 'A':\n",
    "        countA = countA + 1\n",
    "    elif type == 'B':\n",
    "        countB = countB + 1\n",
    "    elif type == 'O':\n",
    "        countO = countO + 1\n",
    "    elif type == 'AB':\n",
    "        countAB = countAB + 1\n",
    "    \n",
    "countA, countB, countO, countAB"
   ]
  },
  {
   "cell_type": "markdown",
   "metadata": {},
   "source": [
    "[문제5] 리스트 내포1\n",
    "\n",
    "리스트 중에서 홀수에만 2를 곱하여 저장하는 다음과 같은 코드가 있다.\n",
    "\n",
    "numbers = [1, 2, 3, 4, 5]\n",
    "\n",
    "result = []  \n",
    "for n in numbers:  \n",
    "    if n % 2 == 1:  \n",
    "        result.append(n*2)  \n",
    "        \n",
    "위 코드를 리스트 내포(list comprehension)를 이용하여 표현하시오.\n",
    "\n",
    "> result = [num * 3 for num in a]  \n",
    "> print(result)  \n",
    "[3, 6, 9, 12]  "
   ]
  },
  {
   "cell_type": "code",
   "execution_count": 65,
   "metadata": {},
   "outputs": [
    {
     "data": {
      "text/plain": [
       "[2, 6, 10]"
      ]
     },
     "execution_count": 65,
     "metadata": {},
     "output_type": "execute_result"
    }
   ],
   "source": [
    "numbers = [1, 2, 3, 4, 5]\n",
    "\n",
    "result = [n*2 for n in numbers if n % 2 == 1]  \n",
    "\n",
    "result"
   ]
  },
  {
   "cell_type": "markdown",
   "metadata": {},
   "source": [
    "[문제6] 리스트 내포2\n",
    "\n",
    "리스트 내포를 이용하여 다음 문장에서 모음('aeiou')을 제거하시오.\n",
    "\n",
    "Life is too short, you need python"
   ]
  },
  {
   "cell_type": "code",
   "execution_count": 73,
   "metadata": {},
   "outputs": [
    {
     "data": {
      "text/plain": [
       "'Lf s t shrt, y nd pythn'"
      ]
     },
     "execution_count": 73,
     "metadata": {},
     "output_type": "execute_result"
    }
   ],
   "source": [
    "message = 'Life is too short, you need python'\n",
    "vowels = 'aeiou'\n",
    "''.join([a for a in message if a not in vowels])"
   ]
  },
  {
   "cell_type": "markdown",
   "metadata": {},
   "source": [
    "### 함수"
   ]
  },
  {
   "cell_type": "markdown",
   "metadata": {},
   "source": [
    "[문제1] 홀수 짝수 판별\n",
    "\n",
    "주어진 자연수가 홀수인지 짝수인지 판별해 주는 함수(is_odd)를 작성하시오."
   ]
  },
  {
   "cell_type": "code",
   "execution_count": 74,
   "metadata": {},
   "outputs": [],
   "source": [
    "def is_odd(n):\n",
    "    if n % 2 == 0:\n",
    "        return True\n",
    "    else:\n",
    "        return False"
   ]
  },
  {
   "cell_type": "code",
   "execution_count": 75,
   "metadata": {},
   "outputs": [
    {
     "data": {
      "text/plain": [
       "False"
      ]
     },
     "execution_count": 75,
     "metadata": {},
     "output_type": "execute_result"
    }
   ],
   "source": [
    "n = 3\n",
    "is_odd(n)"
   ]
  },
  {
   "cell_type": "markdown",
   "metadata": {},
   "source": [
    "[문제2] 평균값 계산\n",
    "\n",
    "입력으로 들어오는 모든 수의 평균값을 계산해 주는 함수를 작성해 보자. (단, 입력으로 들어오는 수의 갯수는 정해져 있지 않다.)\n"
   ]
  },
  {
   "cell_type": "code",
   "execution_count": 76,
   "metadata": {},
   "outputs": [],
   "source": [
    "def avg(*numbers):\n",
    "    count = 0\n",
    "    total = 0\n",
    "    for n in numbers:\n",
    "        total = total + n\n",
    "        count = count + 1\n",
    "    return total / count"
   ]
  },
  {
   "cell_type": "code",
   "execution_count": 77,
   "metadata": {},
   "outputs": [
    {
     "data": {
      "text/plain": [
       "55.0"
      ]
     },
     "execution_count": 77,
     "metadata": {},
     "output_type": "execute_result"
    }
   ],
   "source": [
    "avg(55, 55,55)"
   ]
  },
  {
   "cell_type": "markdown",
   "metadata": {},
   "source": [
    "[문제3] 구구단 출력\n",
    "\n",
    "입력을 자연수 n(2부터 9까지의 자연수)으로 받았을 때, n에 해당되는 구구단을 출력하는 함수를 작성해 보자."
   ]
  },
  {
   "cell_type": "code",
   "execution_count": 90,
   "metadata": {},
   "outputs": [],
   "source": [
    "def nineByNine(n):\n",
    "    if n < 2 or n > 9:\n",
    "        print(\"잘 못 된 정수 값. 2에서 9 사이의 값을 입력해 주세요.\")\n",
    "    else:\n",
    "        for i in range(1,10):\n",
    "            answer = n * i\n",
    "            print(\"%d X %i = %answer\" % (n, i, answer))\n",
    "            "
   ]
  },
  {
   "cell_type": "code",
   "execution_count": 91,
   "metadata": {},
   "outputs": [
    {
     "name": "stdout",
     "output_type": "stream",
     "text": [
      "2 X 1 = 2nswer\n",
      "2 X 2 = 4nswer\n",
      "2 X 3 = 6nswer\n",
      "2 X 4 = 8nswer\n",
      "2 X 5 = 10nswer\n",
      "2 X 6 = 12nswer\n",
      "2 X 7 = 14nswer\n",
      "2 X 8 = 16nswer\n",
      "2 X 9 = 18nswer\n"
     ]
    }
   ],
   "source": [
    "nineByNine(2)"
   ]
  },
  {
   "cell_type": "markdown",
   "metadata": {},
   "source": [
    "[문제4] 피보나치\n",
    "\n",
    "입력을 정수 n으로 받았을 때, n 이하까지의 피보나치 수열을 출력하는 함수를 작성해 보자.\n",
    "\n",
    "피보나치 수열은 다음과 같은 순서로 결과값을 리턴한다.\n",
    "\n",
    "fib(0) → 0 리턴  \n",
    "fib(1) → 1 리턴  \n",
    "fib(2) → fib(0) + fib(1) → 0 + 1 → 1 리턴  \n",
    "fib(3) → fib(1) + fib(2) → 1 + 1 → 2 리턴  \n",
    "fib(4) → fib(2) + fib(3) → 1 + 2 → 3 리턴  "
   ]
  },
  {
   "cell_type": "code",
   "execution_count": 11,
   "metadata": {},
   "outputs": [],
   "source": [
    "def fib(n):\n",
    "    if n == 0:\n",
    "        return 0\n",
    "    if n == 1:\n",
    "        return 1\n",
    "    else:\n",
    "        return fib(n-2) + fib(n-1)"
   ]
  },
  {
   "cell_type": "code",
   "execution_count": 14,
   "metadata": {},
   "outputs": [
    {
     "data": {
      "text/plain": [
       "5"
      ]
     },
     "execution_count": 14,
     "metadata": {},
     "output_type": "execute_result"
    }
   ],
   "source": [
    "fib(5)"
   ]
  },
  {
   "cell_type": "markdown",
   "metadata": {},
   "source": [
    "[문제5] 5보다 큰 수만\n",
    "\n",
    "다음은 숫자들로 이루어진 리스트를 입력으로 받아 5보다 큰 수만 필터링하여 리턴해 주는 함수이다.\n",
    "\n",
    "> def myfunc(numbers):  \n",
    "...     result = []  \n",
    "...     for number in numbers:  \n",
    "...         if number > 5:  \n",
    "...             result.append(number)  \n",
    "...     return result  \n",
    "...  \n",
    "> myfunc([2,3,4,5,6,7,8])  \n",
    "[6, 7, 8]  \n",
    "위 함수를 lambda 함수로 변경해 보시오.  "
   ]
  },
  {
   "cell_type": "code",
   "execution_count": 23,
   "metadata": {},
   "outputs": [
    {
     "data": {
      "text/plain": [
       "[6, 7, 8]"
      ]
     },
     "execution_count": 23,
     "metadata": {},
     "output_type": "execute_result"
    }
   ],
   "source": [
    "my_func = lambda numbers: [number for number in numbers if number > 5]\n",
    "my_func([2,3,4,5,6,7,8])"
   ]
  },
  {
   "cell_type": "markdown",
   "metadata": {},
   "source": [
    "#### Input"
   ]
  },
  {
   "cell_type": "markdown",
   "metadata": {},
   "source": [
    "[문제1] 두 수의 합은?\n",
    "\n",
    "다음은 두 개의 숫자를 입력받아 더하여 리턴해 주는 프로그램이다.\n",
    "\n",
    "input1 = input(\"첫번째 숫자를 입력하세요:\")  \n",
    "input2 = input(\"두번째 숫자를 입력하세요:\")  \n",
    "\n",
    "total = input1 + input2  \n",
    "print(\"두 수의 합은 %s 입니다\" % total)  \n",
    "이 프로그램을 수행 해 보자.  \n",
    "\n",
    "첫번째 숫자를 입력하세요:3  \n",
    "두번째 숫자를 입력하세요:6  \n",
    "두 수의 합은 36 입니다  \n",
    "3과 6을 입력했을 때 9가 아닌 36이라는 결과가 리턴되었다. 이 프로그램의 오류를 수정하시오.  \n"
   ]
  },
  {
   "cell_type": "code",
   "execution_count": 26,
   "metadata": {},
   "outputs": [
    {
     "name": "stdout",
     "output_type": "stream",
     "text": [
      "첫번째 숫자를 입력하세요:3\n",
      "두번째 숫자를 입력하세요:6\n",
      "두 수의 합은 9 입니다\n"
     ]
    }
   ],
   "source": [
    "input1 = input(\"첫번째 숫자를 입력하세요:\")  \n",
    "input2 = input(\"두번째 숫자를 입력하세요:\")  \n",
    "\n",
    "total = int(input1) + int(input2)\n",
    "print(\"두 수의 합은 %s 입니다\" % total)"
   ]
  },
  {
   "cell_type": "markdown",
   "metadata": {},
   "source": [
    "[문제2] 숫자의 총합\n",
    "\n",
    "사용자로부터 다음과 같은 숫자들의 입력을 받아 입력받은 숫자들의 총합을 구하는 프로그램을 작성하시오. (단, 숫자들은 콤마로 구분하여 입력한다.)\n",
    "\n",
    "65,45,2,3,45,8"
   ]
  },
  {
   "cell_type": "code",
   "execution_count": 46,
   "metadata": {},
   "outputs": [],
   "source": [
    "def total():\n",
    "    a = input()\n",
    "    number = a.split(',')\n",
    "    answer = 0\n",
    "    for i in number:\n",
    "        answer = answer + int(i)\n",
    "    return answer "
   ]
  },
  {
   "cell_type": "code",
   "execution_count": 47,
   "metadata": {},
   "outputs": [
    {
     "name": "stdout",
     "output_type": "stream",
     "text": [
      "65,45,2,3,45,8\n"
     ]
    },
    {
     "data": {
      "text/plain": [
       "168"
      ]
     },
     "execution_count": 47,
     "metadata": {},
     "output_type": "execute_result"
    }
   ],
   "source": [
    "total()"
   ]
  },
  {
   "cell_type": "markdown",
   "metadata": {},
   "source": [
    "[문제3] 문자열 출력\n",
    "\n",
    "다음 중 출력결과가 다른 것 한개를 고르시오.\n",
    "\n",
    "print(\"you\" \"need\" \"python\")  \n",
    "print(\"you\"+\"need\"+\"python\")  \n",
    "print(\"you\", \"need\", \"python\")  \n",
    "print(\"\".join([\"you\", \"need\", \"python\"]))  "
   ]
  },
  {
   "cell_type": "code",
   "execution_count": 48,
   "metadata": {},
   "outputs": [
    {
     "name": "stdout",
     "output_type": "stream",
     "text": [
      "youneedpython\n",
      "youneedpython\n",
      "you need python\n",
      "youneedpython\n"
     ]
    }
   ],
   "source": [
    "print(\"you\" \"need\" \"python\")\n",
    "print(\"you\"+\"need\"+\"python\")\n",
    "print(\"you\", \"need\", \"python\")\n",
    "print(\"\".join([\"you\", \"need\", \"python\"]))"
   ]
  },
  {
   "cell_type": "markdown",
   "metadata": {},
   "source": [
    "[문제4] 한줄 구구단\n",
    "\n",
    "사용자로부터 2~9 까지의 숫자중 하나를 입력받아 해당 숫자의 구구단을 한줄로 출력하는 프로그램을 작성하시오.\n",
    "\n",
    "실행 예\n",
    "\n",
    "구구단을 출력할 숫자를 입력하세요(2~9): 2  \n",
    "2 4 6 8 10 12 14 16 18"
   ]
  },
  {
   "cell_type": "code",
   "execution_count": 53,
   "metadata": {},
   "outputs": [],
   "source": [
    "def nineByNineInput():\n",
    "    n = int(input(\"2에서 9사이의 값을 입력해 주세요\"))\n",
    "    if n < 2 or n > 9:\n",
    "        print(\"잘 못 된 정수 값. 2에서 9 사이의 값을 입력해 주세요.\")\n",
    "    else:\n",
    "        for i in range(1,10):\n",
    "            answer = n * i\n",
    "            print(\"%a\" % (answer), end = ' ')"
   ]
  },
  {
   "cell_type": "code",
   "execution_count": 54,
   "metadata": {},
   "outputs": [
    {
     "name": "stdout",
     "output_type": "stream",
     "text": [
      "2에서 9사이의 값을 입력해 주세요2\n",
      "2 4 6 8 10 12 14 16 18 "
     ]
    }
   ],
   "source": [
    "nineByNineInput()"
   ]
  },
  {
   "cell_type": "markdown",
   "metadata": {},
   "source": [
    "### 파일 읽고 쓰기"
   ]
  },
  {
   "cell_type": "markdown",
   "metadata": {},
   "source": [
    "[문제1] 파일 읽고 출력하기\n",
    "\n",
    "다음은 \"test.txt\"라는 파일에 \"Life is too short\" 라는 문자열을 저장한 후 다시 그 파일을 읽어서 출력하는 프로그램이다.\n",
    "\n",
    "f1 = open(\"test.txt\", 'w')  \n",
    "f1.write(\"Life is too short\")  \n",
    "\n",
    "f2 = open(\"test.txt\", 'r')  \n",
    "print(f2.read())  \n",
    "\n",
    "이 프로그램은 우리가 예상한 \"Life is too short\"라는 문장을 출력하지 않는다. 우리가 예상한 값을 출력할 수 있도록 프로그램을 수정하시오."
   ]
  },
  {
   "cell_type": "code",
   "execution_count": 62,
   "metadata": {},
   "outputs": [
    {
     "name": "stdout",
     "output_type": "stream",
     "text": [
      "Life is too short\n"
     ]
    }
   ],
   "source": [
    "f1 = open(\"test.txt\", 'w')\n",
    "f1.write(\"Life is too short\")\n",
    "\n",
    "f2 = open(\"test.txt\", 'r')\n",
    "line = f2.readline()\n",
    "print(line)\n",
    "\n",
    "f1.close()\n",
    "f2.close()"
   ]
  },
  {
   "cell_type": "markdown",
   "metadata": {},
   "source": [
    "[문제2] 파일저장\n",
    "\n",
    "사용자의 입력을 파일(test.txt)에 저장하는 프로그램을 작성하시오. (단, 프로그램을 다시 실행하더라도 기존 작성한 내용을 유지하고 새로 입력한 내용이 추가되어야 한다.)\n",
    "\n",
    "다음은 실행 예제이다.\n",
    "\n",
    "저장할 내용을 입력하세요:  \n",
    "실행 할 때마다 사용자가 입력한 내용이 test.txt파일에 추가되어야 한다."
   ]
  },
  {
   "cell_type": "code",
   "execution_count": 9,
   "metadata": {},
   "outputs": [
    {
     "name": "stdout",
     "output_type": "stream",
     "text": [
      "저장할 내용을 입력하세요메롱\n"
     ]
    }
   ],
   "source": [
    "with open(\"test.txt\", \"a\") as f:\n",
    "    input1 = input(\"저장할 내용을 입력하세요\")\n",
    "    input1 = input1 + \"\\n\"\n",
    "    f.write(input1)\n",
    "    "
   ]
  },
  {
   "cell_type": "code",
   "execution_count": 10,
   "metadata": {},
   "outputs": [
    {
     "name": "stdout",
     "output_type": "stream",
     "text": [
      "['Life is too short내용입니다내용입니다\\n', '\\n', '메롱\\n']\n"
     ]
    }
   ],
   "source": [
    "with open(\"test.txt\", \"r\") as f:\n",
    "    line = f.readlines()\n",
    "    print(line)"
   ]
  },
  {
   "cell_type": "markdown",
   "metadata": {},
   "source": [
    "[문제3] 역순 저장\n",
    "\n",
    "다음과 같은 내용의 파일 abc.txt가 있다.\n",
    "\n",
    "abc.txt  \n",
    "\n",
    "AAA  \n",
    "BBB  \n",
    "CCC  \n",
    "DDD  \n",
    "EEE  \n",
    "이 파일의 내용을 다음과 같이 역순으로 바꾸어 저장하시오.\n",
    "\n",
    "EEE  \n",
    "DDD  \n",
    "CCC  \n",
    "BBB  \n",
    "AAA  "
   ]
  },
  {
   "cell_type": "code",
   "execution_count": 49,
   "metadata": {},
   "outputs": [],
   "source": [
    "with open(\"abc.txt\", \"w\") as f:\n",
    "    lines = [\"AAA\\n\", \"BBB\\n\", \"CCC\\n\", \"DDD\\n\", \"EEE\\n\"]\n",
    "    for line in lines:\n",
    "        f.write(line)\n",
    "    \n",
    "        "
   ]
  },
  {
   "cell_type": "code",
   "execution_count": 50,
   "metadata": {},
   "outputs": [
    {
     "name": "stdout",
     "output_type": "stream",
     "text": [
      "['AAA\\n', 'BBB\\n', 'CCC\\n', 'DDD\\n', 'EEE\\n']\n"
     ]
    }
   ],
   "source": [
    "with open(\"abc.txt\", \"r\") as f:\n",
    "    lines = f.readlines()\n",
    "    print(lines)\n"
   ]
  },
  {
   "cell_type": "code",
   "execution_count": 59,
   "metadata": {},
   "outputs": [],
   "source": [
    "lines.reverse()\n",
    "with open(\"abc.txt\", \"w\") as f:\n",
    "    for line in lines:\n",
    "        f.write(line)\n",
    "        \n",
    "    \n"
   ]
  },
  {
   "cell_type": "code",
   "execution_count": 60,
   "metadata": {},
   "outputs": [
    {
     "name": "stdout",
     "output_type": "stream",
     "text": [
      "['EEE\\n', 'DDD\\n', 'CCC\\n', 'BBB\\n', 'AAA\\n']\n"
     ]
    }
   ],
   "source": [
    "with open(\"abc.txt\", \"r\") as f:\n",
    "    lines = f.readlines()\n",
    "    print(lines)\n"
   ]
  },
  {
   "cell_type": "markdown",
   "metadata": {},
   "source": [
    "[문제4] 파일 수정\n",
    "\n",
    "다음과 같은 내용을 지닌 파일 test.txt 가 있다.  \n",
    "\n",
    "test.txt  \n",
    "\n",
    "Life is too short \n",
    "you need java  \n",
    "이 파일의 내용중 java라는 문자열을 python으로 바꾸어서 저장하시오.  "
   ]
  },
  {
   "cell_type": "code",
   "execution_count": 86,
   "metadata": {},
   "outputs": [
    {
     "name": "stdout",
     "output_type": "stream",
     "text": [
      "['Life is too short, you need java']\n"
     ]
    }
   ],
   "source": [
    "with open(\"test.txt\", \"r\") as f:\n",
    "    lines = f.readlines()\n",
    "    print(lines)"
   ]
  },
  {
   "cell_type": "code",
   "execution_count": 93,
   "metadata": {},
   "outputs": [],
   "source": [
    "sentence = \" \".join(lines[0].split())\n",
    "sentence = sentence.replace(\"java\", \"python\")\n",
    "with open(\"test.txt\", \"w\") as f:\n",
    "    f.write(sentence)\n"
   ]
  },
  {
   "cell_type": "code",
   "execution_count": 94,
   "metadata": {},
   "outputs": [
    {
     "name": "stdout",
     "output_type": "stream",
     "text": [
      "['Life is too short, you need python']\n"
     ]
    }
   ],
   "source": [
    "with open(\"test.txt\", \"r\") as f:\n",
    "    lines = f.readlines()\n",
    "    print(lines)"
   ]
  },
  {
   "cell_type": "markdown",
   "metadata": {},
   "source": [
    "[문제5] 평균값 구하기\n",
    "\n",
    "다음과 같이 총 10줄로 이루어진 sample.txt 파일이 있다.\n",
    "\n",
    "sample.txt\n",
    "\n",
    "70  \n",
    "60  \n",
    "55  \n",
    "75  \n",
    "95  \n",
    "90  \n",
    "80  \n",
    "80  \n",
    "85  \n",
    "100  \n",
    "sample.txt 파일의 숫자값을 모두 읽어 총합과 평균값을 구한 후 평균값을 result.txt라는 파일에 쓰는 프로그램을 작성해 보자."
   ]
  },
  {
   "cell_type": "code",
   "execution_count": 115,
   "metadata": {},
   "outputs": [
    {
     "name": "stdout",
     "output_type": "stream",
     "text": [
      "['70\\n', '60\\n', '55\\n', '75\\n', '95\\n', '90\\n', '80\\n', '80\\n', '85\\n', '100']\n",
      "70\n",
      "\n",
      "60\n",
      "\n",
      "55\n",
      "\n",
      "75\n",
      "\n",
      "95\n",
      "\n",
      "90\n",
      "\n",
      "80\n",
      "\n",
      "80\n",
      "\n",
      "85\n",
      "\n",
      "100\n",
      "790\n",
      "79.0\n"
     ]
    }
   ],
   "source": [
    "with open(\"sample.txt\", \"r\") as f:\n",
    "    lines = f.readlines()\n",
    "\n",
    "total = 0\n",
    "avg = 0\n",
    "for line in lines:\n",
    "    total += int(line)\n",
    "    \n",
    "avg = total / len(lines)\n",
    "print(total)\n",
    "print(avg)"
   ]
  },
  {
   "cell_type": "code",
   "execution_count": 116,
   "metadata": {},
   "outputs": [],
   "source": [
    "with open(\"sample.txt\", \"a\") as f:\n",
    "    f.write(\"\\n\" + str(avg))"
   ]
  },
  {
   "cell_type": "code",
   "execution_count": 117,
   "metadata": {},
   "outputs": [
    {
     "name": "stdout",
     "output_type": "stream",
     "text": [
      "['70\\n', '60\\n', '55\\n', '75\\n', '95\\n', '90\\n', '80\\n', '80\\n', '85\\n', '100\\n', '79.0']\n"
     ]
    }
   ],
   "source": [
    "with open(\"sample.txt\", \"r\") as f:\n",
    "    lines = f.readlines()\n",
    "    print(lines)"
   ]
  },
  {
   "cell_type": "code",
   "execution_count": null,
   "metadata": {},
   "outputs": [],
   "source": []
  }
 ],
 "metadata": {
  "kernelspec": {
   "display_name": "Python 3",
   "language": "python",
   "name": "python3"
  },
  "language_info": {
   "codemirror_mode": {
    "name": "ipython",
    "version": 3
   },
   "file_extension": ".py",
   "mimetype": "text/x-python",
   "name": "python",
   "nbconvert_exporter": "python",
   "pygments_lexer": "ipython3",
   "version": "3.7.0"
  }
 },
 "nbformat": 4,
 "nbformat_minor": 2
}
